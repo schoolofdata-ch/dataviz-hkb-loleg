{
 "cells": [
  {
   "cell_type": "code",
   "execution_count": 2,
   "metadata": {},
   "outputs": [],
   "source": [
    "import pandas"
   ]
  },
  {
   "cell_type": "code",
   "execution_count": 3,
   "metadata": {},
   "outputs": [],
   "source": [
    "csvfile = pandas.read_csv(\"https://pkgstore.datahub.io/core/pharmaceutical-drug-spending/data_csv/data/db46fb3c420e7100e1d2b1f973e2cbcd/data_csv.csv\")"
   ]
  },
  {
   "cell_type": "code",
   "execution_count": 4,
   "metadata": {},
   "outputs": [
    {
     "data": {
      "text/html": [
       "<div>\n",
       "<style scoped>\n",
       "    .dataframe tbody tr th:only-of-type {\n",
       "        vertical-align: middle;\n",
       "    }\n",
       "\n",
       "    .dataframe tbody tr th {\n",
       "        vertical-align: top;\n",
       "    }\n",
       "\n",
       "    .dataframe thead th {\n",
       "        text-align: right;\n",
       "    }\n",
       "</style>\n",
       "<table border=\"1\" class=\"dataframe\">\n",
       "  <thead>\n",
       "    <tr style=\"text-align: right;\">\n",
       "      <th></th>\n",
       "      <th>LOCATION</th>\n",
       "      <th>TIME</th>\n",
       "      <th>PC_HEALTHXP</th>\n",
       "      <th>PC_GDP</th>\n",
       "      <th>USD_CAP</th>\n",
       "      <th>FLAG_CODES</th>\n",
       "      <th>TOTAL_SPEND</th>\n",
       "    </tr>\n",
       "  </thead>\n",
       "  <tbody>\n",
       "    <tr>\n",
       "      <th>0</th>\n",
       "      <td>AUS</td>\n",
       "      <td>1971</td>\n",
       "      <td>15.992</td>\n",
       "      <td>0.727</td>\n",
       "      <td>35.720</td>\n",
       "      <td>NaN</td>\n",
       "      <td>462.11</td>\n",
       "    </tr>\n",
       "    <tr>\n",
       "      <th>1</th>\n",
       "      <td>AUS</td>\n",
       "      <td>1972</td>\n",
       "      <td>15.091</td>\n",
       "      <td>0.686</td>\n",
       "      <td>36.056</td>\n",
       "      <td>NaN</td>\n",
       "      <td>475.11</td>\n",
       "    </tr>\n",
       "    <tr>\n",
       "      <th>2</th>\n",
       "      <td>AUS</td>\n",
       "      <td>1973</td>\n",
       "      <td>15.117</td>\n",
       "      <td>0.681</td>\n",
       "      <td>39.871</td>\n",
       "      <td>NaN</td>\n",
       "      <td>533.47</td>\n",
       "    </tr>\n",
       "    <tr>\n",
       "      <th>3</th>\n",
       "      <td>AUS</td>\n",
       "      <td>1974</td>\n",
       "      <td>14.771</td>\n",
       "      <td>0.755</td>\n",
       "      <td>47.559</td>\n",
       "      <td>NaN</td>\n",
       "      <td>652.65</td>\n",
       "    </tr>\n",
       "    <tr>\n",
       "      <th>4</th>\n",
       "      <td>AUS</td>\n",
       "      <td>1975</td>\n",
       "      <td>11.849</td>\n",
       "      <td>0.682</td>\n",
       "      <td>47.561</td>\n",
       "      <td>NaN</td>\n",
       "      <td>660.76</td>\n",
       "    </tr>\n",
       "  </tbody>\n",
       "</table>\n",
       "</div>"
      ],
      "text/plain": [
       "  LOCATION  TIME  PC_HEALTHXP  PC_GDP  USD_CAP FLAG_CODES  TOTAL_SPEND\n",
       "0      AUS  1971       15.992   0.727   35.720        NaN       462.11\n",
       "1      AUS  1972       15.091   0.686   36.056        NaN       475.11\n",
       "2      AUS  1973       15.117   0.681   39.871        NaN       533.47\n",
       "3      AUS  1974       14.771   0.755   47.559        NaN       652.65\n",
       "4      AUS  1975       11.849   0.682   47.561        NaN       660.76"
      ]
     },
     "execution_count": 4,
     "metadata": {},
     "output_type": "execute_result"
    }
   ],
   "source": [
    "csvfile.head()"
   ]
  },
  {
   "cell_type": "code",
   "execution_count": 5,
   "metadata": {},
   "outputs": [
    {
     "data": {
      "text/plain": [
       "pandas.core.frame.DataFrame"
      ]
     },
     "execution_count": 5,
     "metadata": {},
     "output_type": "execute_result"
    }
   ],
   "source": [
    "type(csvfile)"
   ]
  },
  {
   "cell_type": "code",
   "execution_count": 6,
   "metadata": {},
   "outputs": [
    {
     "data": {
      "text/html": [
       "<div>\n",
       "<style scoped>\n",
       "    .dataframe tbody tr th:only-of-type {\n",
       "        vertical-align: middle;\n",
       "    }\n",
       "\n",
       "    .dataframe tbody tr th {\n",
       "        vertical-align: top;\n",
       "    }\n",
       "\n",
       "    .dataframe thead th {\n",
       "        text-align: right;\n",
       "    }\n",
       "</style>\n",
       "<table border=\"1\" class=\"dataframe\">\n",
       "  <thead>\n",
       "    <tr style=\"text-align: right;\">\n",
       "      <th></th>\n",
       "      <th>TIME</th>\n",
       "      <th>PC_HEALTHXP</th>\n",
       "      <th>PC_GDP</th>\n",
       "      <th>USD_CAP</th>\n",
       "      <th>TOTAL_SPEND</th>\n",
       "    </tr>\n",
       "  </thead>\n",
       "  <tbody>\n",
       "    <tr>\n",
       "      <th>count</th>\n",
       "      <td>1036.000000</td>\n",
       "      <td>1036.000000</td>\n",
       "      <td>1036.000000</td>\n",
       "      <td>1036.000000</td>\n",
       "      <td>1036.000000</td>\n",
       "    </tr>\n",
       "    <tr>\n",
       "      <th>mean</th>\n",
       "      <td>1996.809846</td>\n",
       "      <td>16.406307</td>\n",
       "      <td>1.170948</td>\n",
       "      <td>295.046989</td>\n",
       "      <td>11765.423118</td>\n",
       "    </tr>\n",
       "    <tr>\n",
       "      <th>std</th>\n",
       "      <td>12.498330</td>\n",
       "      <td>6.389064</td>\n",
       "      <td>0.465635</td>\n",
       "      <td>209.152134</td>\n",
       "      <td>34878.286123</td>\n",
       "    </tr>\n",
       "    <tr>\n",
       "      <th>min</th>\n",
       "      <td>1970.000000</td>\n",
       "      <td>5.545000</td>\n",
       "      <td>0.207000</td>\n",
       "      <td>3.160000</td>\n",
       "      <td>6.290000</td>\n",
       "    </tr>\n",
       "    <tr>\n",
       "      <th>25%</th>\n",
       "      <td>1987.000000</td>\n",
       "      <td>11.516250</td>\n",
       "      <td>0.768250</td>\n",
       "      <td>111.098500</td>\n",
       "      <td>728.180000</td>\n",
       "    </tr>\n",
       "    <tr>\n",
       "      <th>50%</th>\n",
       "      <td>1999.000000</td>\n",
       "      <td>14.967500</td>\n",
       "      <td>1.141500</td>\n",
       "      <td>266.332000</td>\n",
       "      <td>2349.570000</td>\n",
       "    </tr>\n",
       "    <tr>\n",
       "      <th>75%</th>\n",
       "      <td>2007.000000</td>\n",
       "      <td>20.590500</td>\n",
       "      <td>1.523250</td>\n",
       "      <td>446.109500</td>\n",
       "      <td>7778.180000</td>\n",
       "    </tr>\n",
       "    <tr>\n",
       "      <th>max</th>\n",
       "      <td>2016.000000</td>\n",
       "      <td>40.239000</td>\n",
       "      <td>2.797000</td>\n",
       "      <td>1162.399000</td>\n",
       "      <td>373009.910000</td>\n",
       "    </tr>\n",
       "  </tbody>\n",
       "</table>\n",
       "</div>"
      ],
      "text/plain": [
       "              TIME  PC_HEALTHXP       PC_GDP      USD_CAP    TOTAL_SPEND\n",
       "count  1036.000000  1036.000000  1036.000000  1036.000000    1036.000000\n",
       "mean   1996.809846    16.406307     1.170948   295.046989   11765.423118\n",
       "std      12.498330     6.389064     0.465635   209.152134   34878.286123\n",
       "min    1970.000000     5.545000     0.207000     3.160000       6.290000\n",
       "25%    1987.000000    11.516250     0.768250   111.098500     728.180000\n",
       "50%    1999.000000    14.967500     1.141500   266.332000    2349.570000\n",
       "75%    2007.000000    20.590500     1.523250   446.109500    7778.180000\n",
       "max    2016.000000    40.239000     2.797000  1162.399000  373009.910000"
      ]
     },
     "execution_count": 6,
     "metadata": {},
     "output_type": "execute_result"
    }
   ],
   "source": [
    "csvfile.describe()"
   ]
  },
  {
   "cell_type": "code",
   "execution_count": 7,
   "metadata": {},
   "outputs": [
    {
     "data": {
      "text/html": [
       "<div>\n",
       "<style scoped>\n",
       "    .dataframe tbody tr th:only-of-type {\n",
       "        vertical-align: middle;\n",
       "    }\n",
       "\n",
       "    .dataframe tbody tr th {\n",
       "        vertical-align: top;\n",
       "    }\n",
       "\n",
       "    .dataframe thead th {\n",
       "        text-align: right;\n",
       "    }\n",
       "</style>\n",
       "<table border=\"1\" class=\"dataframe\">\n",
       "  <thead>\n",
       "    <tr style=\"text-align: right;\">\n",
       "      <th></th>\n",
       "      <th>LOCATION</th>\n",
       "      <th>TIME</th>\n",
       "      <th>PC_HEALTHXP</th>\n",
       "      <th>PC_GDP</th>\n",
       "      <th>USD_CAP</th>\n",
       "      <th>FLAG_CODES</th>\n",
       "      <th>TOTAL_SPEND</th>\n",
       "    </tr>\n",
       "  </thead>\n",
       "  <tbody>\n",
       "    <tr>\n",
       "      <th>5</th>\n",
       "      <td>AUS</td>\n",
       "      <td>1976</td>\n",
       "      <td>10.920</td>\n",
       "      <td>0.630</td>\n",
       "      <td>46.908</td>\n",
       "      <td>NaN</td>\n",
       "      <td>658.26</td>\n",
       "    </tr>\n",
       "    <tr>\n",
       "      <th>6</th>\n",
       "      <td>AUS</td>\n",
       "      <td>1977</td>\n",
       "      <td>10.087</td>\n",
       "      <td>0.613</td>\n",
       "      <td>47.649</td>\n",
       "      <td>NaN</td>\n",
       "      <td>676.23</td>\n",
       "    </tr>\n",
       "    <tr>\n",
       "      <th>7</th>\n",
       "      <td>AUS</td>\n",
       "      <td>1978</td>\n",
       "      <td>9.958</td>\n",
       "      <td>0.591</td>\n",
       "      <td>50.799</td>\n",
       "      <td>NaN</td>\n",
       "      <td>729.37</td>\n",
       "    </tr>\n",
       "    <tr>\n",
       "      <th>8</th>\n",
       "      <td>AUS</td>\n",
       "      <td>1979</td>\n",
       "      <td>8.981</td>\n",
       "      <td>0.523</td>\n",
       "      <td>49.766</td>\n",
       "      <td>NaN</td>\n",
       "      <td>722.30</td>\n",
       "    </tr>\n",
       "    <tr>\n",
       "      <th>9</th>\n",
       "      <td>AUS</td>\n",
       "      <td>1980</td>\n",
       "      <td>9.263</td>\n",
       "      <td>0.540</td>\n",
       "      <td>56.972</td>\n",
       "      <td>NaN</td>\n",
       "      <td>837.03</td>\n",
       "    </tr>\n",
       "    <tr>\n",
       "      <th>10</th>\n",
       "      <td>AUS</td>\n",
       "      <td>1981</td>\n",
       "      <td>9.388</td>\n",
       "      <td>0.548</td>\n",
       "      <td>65.390</td>\n",
       "      <td>NaN</td>\n",
       "      <td>976.08</td>\n",
       "    </tr>\n",
       "    <tr>\n",
       "      <th>11</th>\n",
       "      <td>AUS</td>\n",
       "      <td>1982</td>\n",
       "      <td>9.248</td>\n",
       "      <td>0.564</td>\n",
       "      <td>67.606</td>\n",
       "      <td>NaN</td>\n",
       "      <td>1026.12</td>\n",
       "    </tr>\n",
       "    <tr>\n",
       "      <th>12</th>\n",
       "      <td>AUS</td>\n",
       "      <td>1983</td>\n",
       "      <td>9.589</td>\n",
       "      <td>0.580</td>\n",
       "      <td>74.083</td>\n",
       "      <td>NaN</td>\n",
       "      <td>1138.58</td>\n",
       "    </tr>\n",
       "    <tr>\n",
       "      <th>13</th>\n",
       "      <td>AUS</td>\n",
       "      <td>1984</td>\n",
       "      <td>9.465</td>\n",
       "      <td>0.569</td>\n",
       "      <td>77.270</td>\n",
       "      <td>NaN</td>\n",
       "      <td>1201.08</td>\n",
       "    </tr>\n",
       "    <tr>\n",
       "      <th>14</th>\n",
       "      <td>AUS</td>\n",
       "      <td>1985</td>\n",
       "      <td>9.560</td>\n",
       "      <td>0.580</td>\n",
       "      <td>84.134</td>\n",
       "      <td>NaN</td>\n",
       "      <td>1325.78</td>\n",
       "    </tr>\n",
       "  </tbody>\n",
       "</table>\n",
       "</div>"
      ],
      "text/plain": [
       "   LOCATION  TIME  PC_HEALTHXP  PC_GDP  USD_CAP FLAG_CODES  TOTAL_SPEND\n",
       "5       AUS  1976       10.920   0.630   46.908        NaN       658.26\n",
       "6       AUS  1977       10.087   0.613   47.649        NaN       676.23\n",
       "7       AUS  1978        9.958   0.591   50.799        NaN       729.37\n",
       "8       AUS  1979        8.981   0.523   49.766        NaN       722.30\n",
       "9       AUS  1980        9.263   0.540   56.972        NaN       837.03\n",
       "10      AUS  1981        9.388   0.548   65.390        NaN       976.08\n",
       "11      AUS  1982        9.248   0.564   67.606        NaN      1026.12\n",
       "12      AUS  1983        9.589   0.580   74.083        NaN      1138.58\n",
       "13      AUS  1984        9.465   0.569   77.270        NaN      1201.08\n",
       "14      AUS  1985        9.560   0.580   84.134        NaN      1325.78"
      ]
     },
     "execution_count": 7,
     "metadata": {},
     "output_type": "execute_result"
    }
   ],
   "source": [
    "csvfile[5:15]"
   ]
  },
  {
   "cell_type": "code",
   "execution_count": 8,
   "metadata": {},
   "outputs": [
    {
     "data": {
      "text/html": [
       "<div>\n",
       "<style scoped>\n",
       "    .dataframe tbody tr th:only-of-type {\n",
       "        vertical-align: middle;\n",
       "    }\n",
       "\n",
       "    .dataframe tbody tr th {\n",
       "        vertical-align: top;\n",
       "    }\n",
       "\n",
       "    .dataframe thead th {\n",
       "        text-align: right;\n",
       "    }\n",
       "</style>\n",
       "<table border=\"1\" class=\"dataframe\">\n",
       "  <thead>\n",
       "    <tr style=\"text-align: right;\">\n",
       "      <th></th>\n",
       "      <th>LOCATION</th>\n",
       "      <th>TIME</th>\n",
       "      <th>PC_HEALTHXP</th>\n",
       "      <th>PC_GDP</th>\n",
       "      <th>USD_CAP</th>\n",
       "      <th>FLAG_CODES</th>\n",
       "      <th>TOTAL_SPEND</th>\n",
       "    </tr>\n",
       "  </thead>\n",
       "  <tbody>\n",
       "    <tr>\n",
       "      <th>8</th>\n",
       "      <td>AUS</td>\n",
       "      <td>1979</td>\n",
       "      <td>8.981</td>\n",
       "      <td>0.523</td>\n",
       "      <td>49.766</td>\n",
       "      <td>NaN</td>\n",
       "      <td>722.30</td>\n",
       "    </tr>\n",
       "    <tr>\n",
       "      <th>9</th>\n",
       "      <td>AUS</td>\n",
       "      <td>1980</td>\n",
       "      <td>9.263</td>\n",
       "      <td>0.540</td>\n",
       "      <td>56.972</td>\n",
       "      <td>NaN</td>\n",
       "      <td>837.03</td>\n",
       "    </tr>\n",
       "    <tr>\n",
       "      <th>10</th>\n",
       "      <td>AUS</td>\n",
       "      <td>1981</td>\n",
       "      <td>9.388</td>\n",
       "      <td>0.548</td>\n",
       "      <td>65.390</td>\n",
       "      <td>NaN</td>\n",
       "      <td>976.08</td>\n",
       "    </tr>\n",
       "    <tr>\n",
       "      <th>11</th>\n",
       "      <td>AUS</td>\n",
       "      <td>1982</td>\n",
       "      <td>9.248</td>\n",
       "      <td>0.564</td>\n",
       "      <td>67.606</td>\n",
       "      <td>NaN</td>\n",
       "      <td>1026.12</td>\n",
       "    </tr>\n",
       "  </tbody>\n",
       "</table>\n",
       "</div>"
      ],
      "text/plain": [
       "   LOCATION  TIME  PC_HEALTHXP  PC_GDP  USD_CAP FLAG_CODES  TOTAL_SPEND\n",
       "8       AUS  1979        8.981   0.523   49.766        NaN       722.30\n",
       "9       AUS  1980        9.263   0.540   56.972        NaN       837.03\n",
       "10      AUS  1981        9.388   0.548   65.390        NaN       976.08\n",
       "11      AUS  1982        9.248   0.564   67.606        NaN      1026.12"
      ]
     },
     "execution_count": 8,
     "metadata": {},
     "output_type": "execute_result"
    }
   ],
   "source": [
    "csvfile.query('PC_HEALTHXP < 10')[1:5]"
   ]
  },
  {
   "cell_type": "code",
   "execution_count": 9,
   "metadata": {},
   "outputs": [],
   "source": [
    "import altair"
   ]
  },
  {
   "cell_type": "code",
   "execution_count": 10,
   "metadata": {},
   "outputs": [
    {
     "name": "stdout",
     "output_type": "stream",
     "text": [
      "1\n",
      "3\n",
      "5\n"
     ]
    }
   ],
   "source": [
    "a = [ 1, 2, 3, 4, 5 ]\n",
    "\n",
    "for i, v in enumerate(a):\n",
    "    if i % 2 == 0:\n",
    "        print(v)"
   ]
  },
  {
   "cell_type": "code",
   "execution_count": 11,
   "metadata": {},
   "outputs": [
    {
     "data": {
      "text/html": [
       "<div>\n",
       "<style scoped>\n",
       "    .dataframe tbody tr th:only-of-type {\n",
       "        vertical-align: middle;\n",
       "    }\n",
       "\n",
       "    .dataframe tbody tr th {\n",
       "        vertical-align: top;\n",
       "    }\n",
       "\n",
       "    .dataframe thead th {\n",
       "        text-align: right;\n",
       "    }\n",
       "</style>\n",
       "<table border=\"1\" class=\"dataframe\">\n",
       "  <thead>\n",
       "    <tr style=\"text-align: right;\">\n",
       "      <th></th>\n",
       "      <th>LOCATION</th>\n",
       "      <th>TIME</th>\n",
       "      <th>PC_HEALTHXP</th>\n",
       "      <th>PC_GDP</th>\n",
       "      <th>USD_CAP</th>\n",
       "      <th>FLAG_CODES</th>\n",
       "      <th>TOTAL_SPEND</th>\n",
       "    </tr>\n",
       "  </thead>\n",
       "  <tbody>\n",
       "    <tr>\n",
       "      <th>0</th>\n",
       "      <td>AUS</td>\n",
       "      <td>1971</td>\n",
       "      <td>15.992</td>\n",
       "      <td>0.727</td>\n",
       "      <td>35.720</td>\n",
       "      <td>NaN</td>\n",
       "      <td>462.11</td>\n",
       "    </tr>\n",
       "    <tr>\n",
       "      <th>1</th>\n",
       "      <td>AUS</td>\n",
       "      <td>1972</td>\n",
       "      <td>15.091</td>\n",
       "      <td>0.686</td>\n",
       "      <td>36.056</td>\n",
       "      <td>NaN</td>\n",
       "      <td>475.11</td>\n",
       "    </tr>\n",
       "    <tr>\n",
       "      <th>2</th>\n",
       "      <td>AUS</td>\n",
       "      <td>1973</td>\n",
       "      <td>15.117</td>\n",
       "      <td>0.681</td>\n",
       "      <td>39.871</td>\n",
       "      <td>NaN</td>\n",
       "      <td>533.47</td>\n",
       "    </tr>\n",
       "    <tr>\n",
       "      <th>3</th>\n",
       "      <td>AUS</td>\n",
       "      <td>1974</td>\n",
       "      <td>14.771</td>\n",
       "      <td>0.755</td>\n",
       "      <td>47.559</td>\n",
       "      <td>NaN</td>\n",
       "      <td>652.65</td>\n",
       "    </tr>\n",
       "    <tr>\n",
       "      <th>4</th>\n",
       "      <td>AUS</td>\n",
       "      <td>1975</td>\n",
       "      <td>11.849</td>\n",
       "      <td>0.682</td>\n",
       "      <td>47.561</td>\n",
       "      <td>NaN</td>\n",
       "      <td>660.76</td>\n",
       "    </tr>\n",
       "  </tbody>\n",
       "</table>\n",
       "</div>"
      ],
      "text/plain": [
       "  LOCATION  TIME  PC_HEALTHXP  PC_GDP  USD_CAP FLAG_CODES  TOTAL_SPEND\n",
       "0      AUS  1971       15.992   0.727   35.720        NaN       462.11\n",
       "1      AUS  1972       15.091   0.686   36.056        NaN       475.11\n",
       "2      AUS  1973       15.117   0.681   39.871        NaN       533.47\n",
       "3      AUS  1974       14.771   0.755   47.559        NaN       652.65\n",
       "4      AUS  1975       11.849   0.682   47.561        NaN       660.76"
      ]
     },
     "execution_count": 11,
     "metadata": {},
     "output_type": "execute_result"
    }
   ],
   "source": [
    "csvfile.head()"
   ]
  },
  {
   "cell_type": "markdown",
   "metadata": {},
   "source": [
    "Now we will load the chart and visualise it, because it is a good thing to do!"
   ]
  },
  {
   "cell_type": "code",
   "execution_count": 12,
   "metadata": {},
   "outputs": [
    {
     "data": {
      "application/vnd.vegalite.v2+json": {
       "$schema": "https://vega.github.io/schema/vega-lite/v2.3.0.json",
       "config": {
        "view": {
         "height": 300,
         "width": 400
        }
       },
       "data": {
        "values": [
         {
          "FLAG_CODES": null,
          "LOCATION": "AUS",
          "PC_GDP": 0.727,
          "PC_HEALTHXP": 15.992,
          "TIME": 1971,
          "TOTAL_SPEND": 462.11,
          "USD_CAP": 35.72
         },
         {
          "FLAG_CODES": null,
          "LOCATION": "AUS",
          "PC_GDP": 0.6859999999999999,
          "PC_HEALTHXP": 15.091,
          "TIME": 1972,
          "TOTAL_SPEND": 475.11,
          "USD_CAP": 36.056
         },
         {
          "FLAG_CODES": null,
          "LOCATION": "AUS",
          "PC_GDP": 0.6809999999999999,
          "PC_HEALTHXP": 15.117,
          "TIME": 1973,
          "TOTAL_SPEND": 533.47,
          "USD_CAP": 39.871
         },
         {
          "FLAG_CODES": null,
          "LOCATION": "AUS",
          "PC_GDP": 0.755,
          "PC_HEALTHXP": 14.770999999999999,
          "TIME": 1974,
          "TOTAL_SPEND": 652.65,
          "USD_CAP": 47.559
         },
         {
          "FLAG_CODES": null,
          "LOCATION": "AUS",
          "PC_GDP": 0.682,
          "PC_HEALTHXP": 11.849,
          "TIME": 1975,
          "TOTAL_SPEND": 660.76,
          "USD_CAP": 47.56100000000001
         },
         {
          "FLAG_CODES": null,
          "LOCATION": "AUS",
          "PC_GDP": 0.63,
          "PC_HEALTHXP": 10.92,
          "TIME": 1976,
          "TOTAL_SPEND": 658.26,
          "USD_CAP": 46.908
         },
         {
          "FLAG_CODES": null,
          "LOCATION": "AUS",
          "PC_GDP": 0.613,
          "PC_HEALTHXP": 10.087,
          "TIME": 1977,
          "TOTAL_SPEND": 676.23,
          "USD_CAP": 47.648999999999994
         },
         {
          "FLAG_CODES": null,
          "LOCATION": "AUS",
          "PC_GDP": 0.591,
          "PC_HEALTHXP": 9.958,
          "TIME": 1978,
          "TOTAL_SPEND": 729.37,
          "USD_CAP": 50.799
         },
         {
          "FLAG_CODES": null,
          "LOCATION": "AUS",
          "PC_GDP": 0.523,
          "PC_HEALTHXP": 8.981,
          "TIME": 1979,
          "TOTAL_SPEND": 722.3,
          "USD_CAP": 49.766000000000005
         },
         {
          "FLAG_CODES": null,
          "LOCATION": "AUS",
          "PC_GDP": 0.54,
          "PC_HEALTHXP": 9.263,
          "TIME": 1980,
          "TOTAL_SPEND": 837.03,
          "USD_CAP": 56.972
         },
         {
          "FLAG_CODES": null,
          "LOCATION": "AUS",
          "PC_GDP": 0.5479999999999999,
          "PC_HEALTHXP": 9.388,
          "TIME": 1981,
          "TOTAL_SPEND": 976.08,
          "USD_CAP": 65.39
         },
         {
          "FLAG_CODES": null,
          "LOCATION": "AUS",
          "PC_GDP": 0.564,
          "PC_HEALTHXP": 9.248,
          "TIME": 1982,
          "TOTAL_SPEND": 1026.12,
          "USD_CAP": 67.60600000000001
         },
         {
          "FLAG_CODES": null,
          "LOCATION": "AUS",
          "PC_GDP": 0.58,
          "PC_HEALTHXP": 9.589,
          "TIME": 1983,
          "TOTAL_SPEND": 1138.58,
          "USD_CAP": 74.083
         },
         {
          "FLAG_CODES": null,
          "LOCATION": "AUS",
          "PC_GDP": 0.569,
          "PC_HEALTHXP": 9.465,
          "TIME": 1984,
          "TOTAL_SPEND": 1201.08,
          "USD_CAP": 77.27
         },
         {
          "FLAG_CODES": null,
          "LOCATION": "AUS",
          "PC_GDP": 0.58,
          "PC_HEALTHXP": 9.56,
          "TIME": 1985,
          "TOTAL_SPEND": 1325.78,
          "USD_CAP": 84.134
         },
         {
          "FLAG_CODES": null,
          "LOCATION": "AUS",
          "PC_GDP": 0.599,
          "PC_HEALTHXP": 9.568,
          "TIME": 1986,
          "TOTAL_SPEND": 1440.69,
          "USD_CAP": 89.94
         },
         {
          "FLAG_CODES": null,
          "LOCATION": "AUS",
          "PC_GDP": 0.5820000000000001,
          "PC_HEALTHXP": 9.543,
          "TIME": 1987,
          "TOTAL_SPEND": 1521.94,
          "USD_CAP": 93.57799999999999
         },
         {
          "FLAG_CODES": null,
          "LOCATION": "AUS",
          "PC_GDP": 0.595,
          "PC_HEALTHXP": 9.823,
          "TIME": 1988,
          "TOTAL_SPEND": 1686.73,
          "USD_CAP": 102.027
         },
         {
          "FLAG_CODES": null,
          "LOCATION": "AUS",
          "PC_GDP": 0.623,
          "PC_HEALTHXP": 10.199,
          "TIME": 1989,
          "TOTAL_SPEND": 1869.71,
          "USD_CAP": 111.197
         },
         {
          "FLAG_CODES": null,
          "LOCATION": "AUS",
          "PC_GDP": 0.677,
          "PC_HEALTHXP": 10.474,
          "TIME": 1990,
          "TOTAL_SPEND": 2061,
          "USD_CAP": 120.773
         },
         {
          "FLAG_CODES": null,
          "LOCATION": "AUS",
          "PC_GDP": 0.7390000000000001,
          "PC_HEALTHXP": 10.937000000000001,
          "TIME": 1991,
          "TOTAL_SPEND": 2322.21,
          "USD_CAP": 134.356
         },
         {
          "FLAG_CODES": null,
          "LOCATION": "AUS",
          "PC_GDP": 0.778,
          "PC_HEALTHXP": 11.407,
          "TIME": 1992,
          "TOTAL_SPEND": 2608.43,
          "USD_CAP": 149.096
         },
         {
          "FLAG_CODES": null,
          "LOCATION": "AUS",
          "PC_GDP": 0.8190000000000001,
          "PC_HEALTHXP": 11.977,
          "TIME": 1993,
          "TOTAL_SPEND": 2921.4,
          "USD_CAP": 165.359
         },
         {
          "FLAG_CODES": null,
          "LOCATION": "AUS",
          "PC_GDP": 0.8590000000000001,
          "PC_HEALTHXP": 12.508,
          "TIME": 1994,
          "TOTAL_SPEND": 3284.82,
          "USD_CAP": 183.972
         },
         {
          "FLAG_CODES": null,
          "LOCATION": "AUS",
          "PC_GDP": 0.882,
          "PC_HEALTHXP": 12.762,
          "TIME": 1995,
          "TOTAL_SPEND": 3585.59,
          "USD_CAP": 198.40599999999998
         },
         {
          "FLAG_CODES": null,
          "LOCATION": "AUS",
          "PC_GDP": 0.924,
          "PC_HEALTHXP": 13.106,
          "TIME": 1996,
          "TOTAL_SPEND": 3947.96,
          "USD_CAP": 215.606
         },
         {
          "FLAG_CODES": null,
          "LOCATION": "AUS",
          "PC_GDP": 0.95,
          "PC_HEALTHXP": 13.437000000000001,
          "TIME": 1997,
          "TOTAL_SPEND": 4306.87,
          "USD_CAP": 232.59
         },
         {
          "FLAG_CODES": null,
          "LOCATION": "AUS",
          "PC_GDP": 1.0190000000000001,
          "PC_HEALTHXP": 14.084000000000001,
          "TIME": 1998,
          "TOTAL_SPEND": 4897.19,
          "USD_CAP": 261.728
         },
         {
          "FLAG_CODES": null,
          "LOCATION": "AUS",
          "PC_GDP": 1.075,
          "PC_HEALTHXP": 14.679,
          "TIME": 1999,
          "TOTAL_SPEND": 5518.61,
          "USD_CAP": 291.589
         },
         {
          "FLAG_CODES": null,
          "LOCATION": "AUS",
          "PC_GDP": 1.194,
          "PC_HEALTHXP": 15.702,
          "TIME": 2000,
          "TOTAL_SPEND": 6486.45,
          "USD_CAP": 338.665
         },
         {
          "FLAG_CODES": null,
          "LOCATION": "AUS",
          "PC_GDP": 1.236,
          "PC_HEALTHXP": 16.059,
          "TIME": 2001,
          "TOTAL_SPEND": 7081.3,
          "USD_CAP": 364.77099999999996
         },
         {
          "FLAG_CODES": null,
          "LOCATION": "AUS",
          "PC_GDP": 1.213,
          "PC_HEALTHXP": 15.374,
          "TIME": 2002,
          "TOTAL_SPEND": 7330.84,
          "USD_CAP": 373.04400000000004
         },
         {
          "FLAG_CODES": null,
          "LOCATION": "AUS",
          "PC_GDP": 1.244,
          "PC_HEALTHXP": 15.761,
          "TIME": 2003,
          "TOTAL_SPEND": 7984.06,
          "USD_CAP": 401.30199999999996
         },
         {
          "FLAG_CODES": null,
          "LOCATION": "AUS",
          "PC_GDP": 1.2690000000000001,
          "PC_HEALTHXP": 15.655999999999999,
          "TIME": 2004,
          "TOTAL_SPEND": 8652.41,
          "USD_CAP": 429.88199999999995
         },
         {
          "FLAG_CODES": null,
          "LOCATION": "AUS",
          "PC_GDP": 1.213,
          "PC_HEALTHXP": 15.218,
          "TIME": 2005,
          "TOTAL_SPEND": 8821.02,
          "USD_CAP": 432.51300000000003
         },
         {
          "FLAG_CODES": null,
          "LOCATION": "AUS",
          "PC_GDP": 1.219,
          "PC_HEALTHXP": 15.276,
          "TIME": 2006,
          "TOTAL_SPEND": 9558.72,
          "USD_CAP": 461.82099999999997
         },
         {
          "FLAG_CODES": null,
          "LOCATION": "AUS",
          "PC_GDP": 1.225,
          "PC_HEALTHXP": 15.200999999999999,
          "TIME": 2007,
          "TOTAL_SPEND": 10119.86,
          "USD_CAP": 485.88699999999994
         },
         {
          "FLAG_CODES": null,
          "LOCATION": "AUS",
          "PC_GDP": 1.273,
          "PC_HEALTHXP": 15.412,
          "TIME": 2008,
          "TOTAL_SPEND": 10840.75,
          "USD_CAP": 510.17199999999997
         },
         {
          "FLAG_CODES": null,
          "LOCATION": "AUS",
          "PC_GDP": 1.334,
          "PC_HEALTHXP": 15.535,
          "TIME": 2009,
          "TOTAL_SPEND": 12011.21,
          "USD_CAP": 553.724
         },
         {
          "FLAG_CODES": null,
          "LOCATION": "AUS",
          "PC_GDP": 1.324,
          "PC_HEALTHXP": 15.63,
          "TIME": 2010,
          "TOTAL_SPEND": 12422.76,
          "USD_CAP": 563.857
         },
         {
          "FLAG_CODES": null,
          "LOCATION": "AUS",
          "PC_GDP": 1.315,
          "PC_HEALTHXP": 15.311,
          "TIME": 2011,
          "TOTAL_SPEND": 12977.79,
          "USD_CAP": 580.9209999999999
         },
         {
          "FLAG_CODES": null,
          "LOCATION": "AUS",
          "PC_GDP": 1.3359999999999999,
          "PC_HEALTHXP": 15.308,
          "TIME": 2012,
          "TOTAL_SPEND": 13247.71,
          "USD_CAP": 582.874
         },
         {
          "FLAG_CODES": null,
          "LOCATION": "AUS",
          "PC_GDP": 1.32,
          "PC_HEALTHXP": 14.989,
          "TIME": 2013,
          "TOTAL_SPEND": 14503.87,
          "USD_CAP": 627.4019999999999
         },
         {
          "FLAG_CODES": null,
          "LOCATION": "AUS",
          "PC_GDP": 1.306,
          "PC_HEALTHXP": 14.386,
          "TIME": 2014,
          "TOTAL_SPEND": 14475.18,
          "USD_CAP": 616.997
         },
         {
          "FLAG_CODES": "B",
          "LOCATION": "AUT",
          "PC_GDP": 0.784,
          "PC_HEALTHXP": 10.131,
          "TIME": 1990,
          "TOTAL_SPEND": 1167.06,
          "USD_CAP": 152.003
         },
         {
          "FLAG_CODES": null,
          "LOCATION": "AUT",
          "PC_GDP": 0.78,
          "PC_HEALTHXP": 10.001,
          "TIME": 1991,
          "TOTAL_SPEND": 1241.7,
          "USD_CAP": 160.118
         },
         {
          "FLAG_CODES": null,
          "LOCATION": "AUT",
          "PC_GDP": 0.8009999999999999,
          "PC_HEALTHXP": 9.889,
          "TIME": 1992,
          "TOTAL_SPEND": 1330.63,
          "USD_CAP": 169.708
         },
         {
          "FLAG_CODES": null,
          "LOCATION": "AUT",
          "PC_GDP": 0.84,
          "PC_HEALTHXP": 9.746,
          "TIME": 1993,
          "TOTAL_SPEND": 1437.19,
          "USD_CAP": 181.793
         },
         {
          "FLAG_CODES": null,
          "LOCATION": "AUT",
          "PC_GDP": 0.852,
          "PC_HEALTHXP": 9.457,
          "TIME": 1994,
          "TOTAL_SPEND": 1524.39,
          "USD_CAP": 192.083
         },
         {
          "FLAG_CODES": null,
          "LOCATION": "AUT",
          "PC_GDP": 0.8540000000000001,
          "PC_HEALTHXP": 9.542,
          "TIME": 1995,
          "TOTAL_SPEND": 1600.27,
          "USD_CAP": 201.335
         },
         {
          "FLAG_CODES": null,
          "LOCATION": "AUT",
          "PC_GDP": 0.8759999999999999,
          "PC_HEALTHXP": 9.839,
          "TIME": 1996,
          "TOTAL_SPEND": 1706.56,
          "USD_CAP": 214.418
         },
         {
          "FLAG_CODES": null,
          "LOCATION": "AUT",
          "PC_GDP": 1.01,
          "PC_HEALTHXP": 11.213,
          "TIME": 1997,
          "TOTAL_SPEND": 2039.24,
          "USD_CAP": 255.92700000000002
         },
         {
          "FLAG_CODES": null,
          "LOCATION": "AUT",
          "PC_GDP": 1.087,
          "PC_HEALTHXP": 11.843,
          "TIME": 1998,
          "TOTAL_SPEND": 2303.45,
          "USD_CAP": 288.769
         },
         {
          "FLAG_CODES": null,
          "LOCATION": "AUT",
          "PC_GDP": 1.17,
          "PC_HEALTHXP": 12.550999999999998,
          "TIME": 1999,
          "TOTAL_SPEND": 2576.07,
          "USD_CAP": 322.318
         },
         {
          "FLAG_CODES": null,
          "LOCATION": "AUT",
          "PC_GDP": 1.1740000000000002,
          "PC_HEALTHXP": 12.734000000000002,
          "TIME": 2000,
          "TOTAL_SPEND": 2756.64,
          "USD_CAP": 344.082
         },
         {
          "FLAG_CODES": null,
          "LOCATION": "AUT",
          "PC_GDP": 1.198,
          "PC_HEALTHXP": 12.897,
          "TIME": 2001,
          "TOTAL_SPEND": 2863.55,
          "USD_CAP": 356.061
         },
         {
          "FLAG_CODES": null,
          "LOCATION": "AUT",
          "PC_GDP": 1.238,
          "PC_HEALTHXP": 13.154000000000002,
          "TIME": 2002,
          "TOTAL_SPEND": 3114.01,
          "USD_CAP": 385.30400000000003
         },
         {
          "FLAG_CODES": null,
          "LOCATION": "AUT",
          "PC_GDP": 1.304,
          "PC_HEALTHXP": 13.607000000000001,
          "TIME": 2003,
          "TOTAL_SPEND": 3387.34,
          "USD_CAP": 417.087
         },
         {
          "FLAG_CODES": null,
          "LOCATION": "AUT",
          "PC_GDP": 1.294,
          "PC_HEALTHXP": 13.41,
          "TIME": 2004,
          "TOTAL_SPEND": 3557.48,
          "USD_CAP": 435.327
         },
         {
          "FLAG_CODES": null,
          "LOCATION": "AUT",
          "PC_GDP": 1.2770000000000001,
          "PC_HEALTHXP": 13.325,
          "TIME": 2005,
          "TOTAL_SPEND": 3662.93,
          "USD_CAP": 445.18800000000005
         },
         {
          "FLAG_CODES": null,
          "LOCATION": "AUT",
          "PC_GDP": 1.268,
          "PC_HEALTHXP": 13.37,
          "TIME": 2006,
          "TOTAL_SPEND": 3926.23,
          "USD_CAP": 474.834
         },
         {
          "FLAG_CODES": null,
          "LOCATION": "AUT",
          "PC_GDP": 1.2890000000000001,
          "PC_HEALTHXP": 13.605,
          "TIME": 2007,
          "TOTAL_SPEND": 4187.97,
          "USD_CAP": 504.849
         },
         {
          "FLAG_CODES": null,
          "LOCATION": "AUT",
          "PC_GDP": 1.311,
          "PC_HEALTHXP": 13.606,
          "TIME": 2008,
          "TOTAL_SPEND": 4479.07,
          "USD_CAP": 538.253
         },
         {
          "FLAG_CODES": null,
          "LOCATION": "AUT",
          "PC_GDP": 1.271,
          "PC_HEALTHXP": 12.53,
          "TIME": 2009,
          "TOTAL_SPEND": 4315.71,
          "USD_CAP": 517.265
         },
         {
          "FLAG_CODES": null,
          "LOCATION": "AUT",
          "PC_GDP": 1.251,
          "PC_HEALTHXP": 12.368,
          "TIME": 2010,
          "TOTAL_SPEND": 4383.62,
          "USD_CAP": 524.143
         },
         {
          "FLAG_CODES": null,
          "LOCATION": "AUT",
          "PC_GDP": 1.236,
          "PC_HEALTHXP": 12.472999999999999,
          "TIME": 2011,
          "TOTAL_SPEND": 4588.41,
          "USD_CAP": 546.783
         },
         {
          "FLAG_CODES": null,
          "LOCATION": "AUT",
          "PC_GDP": 1.234,
          "PC_HEALTHXP": 12.181,
          "TIME": 2012,
          "TOTAL_SPEND": 4809.52,
          "USD_CAP": 570.525
         },
         {
          "FLAG_CODES": null,
          "LOCATION": "AUT",
          "PC_GDP": 1.245,
          "PC_HEALTHXP": 12.222000000000001,
          "TIME": 2013,
          "TOTAL_SPEND": 5037.85,
          "USD_CAP": 594.13
         },
         {
          "FLAG_CODES": null,
          "LOCATION": "AUT",
          "PC_GDP": 1.268,
          "PC_HEALTHXP": 12.324000000000002,
          "TIME": 2014,
          "TOTAL_SPEND": 5263.8,
          "USD_CAP": 616.256
         },
         {
          "FLAG_CODES": null,
          "LOCATION": "AUT",
          "PC_GDP": 1.28,
          "PC_HEALTHXP": 12.407,
          "TIME": 2015,
          "TOTAL_SPEND": 5462.53,
          "USD_CAP": 632.737
         },
         {
          "FLAG_CODES": null,
          "LOCATION": "BEL",
          "PC_GDP": 1.078,
          "PC_HEALTHXP": 28.113000000000003,
          "TIME": 1970,
          "TOTAL_SPEND": 404.74,
          "USD_CAP": 41.918
         },
         {
          "FLAG_CODES": null,
          "LOCATION": "BEL",
          "PC_GDP": 1.109,
          "PC_HEALTHXP": 28.275,
          "TIME": 1971,
          "TOTAL_SPEND": 453.75,
          "USD_CAP": 46.908
         },
         {
          "FLAG_CODES": null,
          "LOCATION": "BEL",
          "PC_GDP": 1.126,
          "PC_HEALTHXP": 27.629,
          "TIME": 1972,
          "TOTAL_SPEND": 506,
          "USD_CAP": 52.105
         },
         {
          "FLAG_CODES": null,
          "LOCATION": "BEL",
          "PC_GDP": 1.2,
          "PC_HEALTHXP": 27.546999999999997,
          "TIME": 1973,
          "TOTAL_SPEND": 603.17,
          "USD_CAP": 61.916000000000004
         },
         {
          "FLAG_CODES": null,
          "LOCATION": "BEL",
          "PC_GDP": 1.183,
          "PC_HEALTHXP": 26.779,
          "TIME": 1974,
          "TOTAL_SPEND": 675.73,
          "USD_CAP": 69.14699999999999
         },
         {
          "FLAG_CODES": null,
          "LOCATION": "BEL",
          "PC_GDP": 1.208,
          "PC_HEALTHXP": 21.886,
          "TIME": 1975,
          "TOTAL_SPEND": 743.4,
          "USD_CAP": 75.852
         },
         {
          "FLAG_CODES": null,
          "LOCATION": "BEL",
          "PC_GDP": 1.081,
          "PC_HEALTHXP": 18.88,
          "TIME": 1976,
          "TOTAL_SPEND": 741.51,
          "USD_CAP": 75.524
         },
         {
          "FLAG_CODES": null,
          "LOCATION": "BEL",
          "PC_GDP": 1.133,
          "PC_HEALTHXP": 18.301,
          "TIME": 1977,
          "TOTAL_SPEND": 830.91,
          "USD_CAP": 84.525
         },
         {
          "FLAG_CODES": null,
          "LOCATION": "BEL",
          "PC_GDP": 1.135,
          "PC_HEALTHXP": 17.789,
          "TIME": 1978,
          "TOTAL_SPEND": 916.13,
          "USD_CAP": 93.10700000000001
         },
         {
          "FLAG_CODES": null,
          "LOCATION": "BEL",
          "PC_GDP": 1.1059999999999999,
          "PC_HEALTHXP": 17.386,
          "TIME": 1979,
          "TOTAL_SPEND": 989.21,
          "USD_CAP": 100.444
         },
         {
          "FLAG_CODES": null,
          "LOCATION": "BEL",
          "PC_GDP": 1.068,
          "PC_HEALTHXP": 17.374000000000002,
          "TIME": 1980,
          "TOTAL_SPEND": 1087.72,
          "USD_CAP": 110.325
         },
         {
          "FLAG_CODES": null,
          "LOCATION": "BEL",
          "PC_GDP": 1.053,
          "PC_HEALTHXP": 16.044,
          "TIME": 1981,
          "TOTAL_SPEND": 1168.69,
          "USD_CAP": 118.541
         },
         {
          "FLAG_CODES": null,
          "LOCATION": "BEL",
          "PC_GDP": 1.045,
          "PC_HEALTHXP": 15.4,
          "TIME": 1982,
          "TOTAL_SPEND": 1239.98,
          "USD_CAP": 125.806
         },
         {
          "FLAG_CODES": null,
          "LOCATION": "BEL",
          "PC_GDP": 1.084,
          "PC_HEALTHXP": 15.594000000000001,
          "TIME": 1983,
          "TOTAL_SPEND": 1341.32,
          "USD_CAP": 136.09799999999998
         },
         {
          "FLAG_CODES": null,
          "LOCATION": "BEL",
          "PC_GDP": 1.0170000000000001,
          "PC_HEALTHXP": 14.967,
          "TIME": 1984,
          "TOTAL_SPEND": 1335.02,
          "USD_CAP": 135.461
         },
         {
          "FLAG_CODES": null,
          "LOCATION": "BEL",
          "PC_GDP": 1.074,
          "PC_HEALTHXP": 15.684000000000001,
          "TIME": 1985,
          "TOTAL_SPEND": 1478.21,
          "USD_CAP": 149.946
         },
         {
          "FLAG_CODES": null,
          "LOCATION": "BEL",
          "PC_GDP": 1.102,
          "PC_HEALTHXP": 15.708,
          "TIME": 1986,
          "TOTAL_SPEND": 1576.24,
          "USD_CAP": 159.833
         },
         {
          "FLAG_CODES": null,
          "LOCATION": "BEL",
          "PC_GDP": 1.136,
          "PC_HEALTHXP": 15.952,
          "TIME": 1987,
          "TOTAL_SPEND": 1704.98,
          "USD_CAP": 172.74
         },
         {
          "FLAG_CODES": null,
          "LOCATION": "BEL",
          "PC_GDP": 1.1740000000000002,
          "PC_HEALTHXP": 16.479,
          "TIME": 1988,
          "TOTAL_SPEND": 1908.82,
          "USD_CAP": 192.778
         },
         {
          "FLAG_CODES": null,
          "LOCATION": "BEL",
          "PC_GDP": 1.147,
          "PC_HEALTHXP": 16.230999999999998,
          "TIME": 1989,
          "TOTAL_SPEND": 2004.84,
          "USD_CAP": 201.74099999999999
         },
         {
          "FLAG_CODES": null,
          "LOCATION": "BEL",
          "PC_GDP": 1.103,
          "PC_HEALTHXP": 15.52,
          "TIME": 1990,
          "TOTAL_SPEND": 2062.81,
          "USD_CAP": 206.956
         },
         {
          "FLAG_CODES": null,
          "LOCATION": "BEL",
          "PC_GDP": 1.157,
          "PC_HEALTHXP": 15.597000000000001,
          "TIME": 1991,
          "TOTAL_SPEND": 2276.5,
          "USD_CAP": 227.548
         },
         {
          "FLAG_CODES": null,
          "LOCATION": "BEL",
          "PC_GDP": 1.237,
          "PC_HEALTHXP": 16.282,
          "TIME": 1992,
          "TOTAL_SPEND": 2527.39,
          "USD_CAP": 251.60299999999998
         },
         {
          "FLAG_CODES": null,
          "LOCATION": "BEL",
          "PC_GDP": 1.347,
          "PC_HEALTHXP": 17.445,
          "TIME": 1993,
          "TOTAL_SPEND": 2790.35,
          "USD_CAP": 276.698
         },
         {
          "FLAG_CODES": null,
          "LOCATION": "BEL",
          "PC_GDP": 1.3130000000000002,
          "PC_HEALTHXP": 17.459,
          "TIME": 1994,
          "TOTAL_SPEND": 2867.11,
          "USD_CAP": 283.434
         },
         {
          "FLAG_CODES": null,
          "LOCATION": "BEL",
          "PC_GDP": 1.351,
          "PC_HEALTHXP": 18.067999999999998,
          "TIME": 1995,
          "TOTAL_SPEND": 3084.22,
          "USD_CAP": 304.259
         },
         {
          "FLAG_CODES": null,
          "LOCATION": "BEL",
          "PC_GDP": 1.327,
          "PC_HEALTHXP": 17.119,
          "TIME": 1996,
          "TOTAL_SPEND": 3086.27,
          "USD_CAP": 303.867
         },
         {
          "FLAG_CODES": null,
          "LOCATION": "BEL",
          "PC_GDP": 1.3319999999999999,
          "PC_HEALTHXP": 17.497,
          "TIME": 1997,
          "TOTAL_SPEND": 3242.14,
          "USD_CAP": 318.442
         },
         {
          "FLAG_CODES": "B",
          "LOCATION": "BEL",
          "PC_GDP": 1.557,
          "PC_HEALTHXP": 17.13,
          "TIME": 2003,
          "TOTAL_SPEND": 5017.22,
          "USD_CAP": 483.535
         },
         {
          "FLAG_CODES": null,
          "LOCATION": "BEL",
          "PC_GDP": 1.557,
          "PC_HEALTHXP": 17.098,
          "TIME": 2004,
          "TOTAL_SPEND": 5235.66,
          "USD_CAP": 502.408
         },
         {
          "FLAG_CODES": null,
          "LOCATION": "BEL",
          "PC_GDP": 1.536,
          "PC_HEALTHXP": 17.026,
          "TIME": 2005,
          "TOTAL_SPEND": 5366.17,
          "USD_CAP": 512.107
         },
         {
          "FLAG_CODES": "B",
          "LOCATION": "BEL",
          "PC_GDP": 1.472,
          "PC_HEALTHXP": 16.500999999999998,
          "TIME": 2006,
          "TOTAL_SPEND": 5497.79,
          "USD_CAP": 521.2180000000001
         },
         {
          "FLAG_CODES": null,
          "LOCATION": "BEL",
          "PC_GDP": 1.493,
          "PC_HEALTHXP": 16.676,
          "TIME": 2007,
          "TOTAL_SPEND": 5845.41,
          "USD_CAP": 550.12
         },
         {
          "FLAG_CODES": null,
          "LOCATION": "BEL",
          "PC_GDP": 1.5319999999999998,
          "PC_HEALTHXP": 16.407,
          "TIME": 2008,
          "TOTAL_SPEND": 6257.94,
          "USD_CAP": 584.31
         },
         {
          "FLAG_CODES": null,
          "LOCATION": "BEL",
          "PC_GDP": 1.59,
          "PC_HEALTHXP": 15.792,
          "TIME": 2009,
          "TOTAL_SPEND": 6532.91,
          "USD_CAP": 605.096
         },
         {
          "FLAG_CODES": null,
          "LOCATION": "BEL",
          "PC_GDP": 1.555,
          "PC_HEALTHXP": 15.677,
          "TIME": 2010,
          "TOTAL_SPEND": 6798.52,
          "USD_CAP": 623.97
         },
         {
          "FLAG_CODES": null,
          "LOCATION": "BEL",
          "PC_GDP": 1.547,
          "PC_HEALTHXP": 15.345,
          "TIME": 2011,
          "TOTAL_SPEND": 7049.48,
          "USD_CAP": 638.092
         },
         {
          "FLAG_CODES": null,
          "LOCATION": "BEL",
          "PC_GDP": 1.4869999999999999,
          "PC_HEALTHXP": 14.599,
          "TIME": 2012,
          "TOTAL_SPEND": 7007.85,
          "USD_CAP": 629.735
         },
         {
          "FLAG_CODES": null,
          "LOCATION": "BEL",
          "PC_GDP": 1.48,
          "PC_HEALTHXP": 14.273,
          "TIME": 2013,
          "TOTAL_SPEND": 7190.08,
          "USD_CAP": 642.9580000000001
         },
         {
          "FLAG_CODES": null,
          "LOCATION": "BEL",
          "PC_GDP": 1.44,
          "PC_HEALTHXP": 13.850999999999999,
          "TIME": 2014,
          "TOTAL_SPEND": 7229.33,
          "USD_CAP": 644.9540000000001
         },
         {
          "FLAG_CODES": null,
          "LOCATION": "BEL",
          "PC_GDP": 1.489,
          "PC_HEALTHXP": 14.209000000000001,
          "TIME": 2015,
          "TOTAL_SPEND": 7654.85,
          "USD_CAP": 678.971
         },
         {
          "FLAG_CODES": null,
          "LOCATION": "CAN",
          "PC_GDP": 0.76,
          "PC_HEALTHXP": 11.962,
          "TIME": 1970,
          "TOTAL_SPEND": 735.93,
          "USD_CAP": 34.512
         },
         {
          "FLAG_CODES": null,
          "LOCATION": "CAN",
          "PC_GDP": 0.762,
          "PC_HEALTHXP": 11.529000000000002,
          "TIME": 1971,
          "TOTAL_SPEND": 811.56,
          "USD_CAP": 37.493
         },
         {
          "FLAG_CODES": null,
          "LOCATION": "CAN",
          "PC_GDP": 0.716,
          "PC_HEALTHXP": 10.962,
          "TIME": 1972,
          "TOTAL_SPEND": 841.89,
          "USD_CAP": 38.279
         },
         {
          "FLAG_CODES": null,
          "LOCATION": "CAN",
          "PC_GDP": 0.679,
          "PC_HEALTHXP": 10.942,
          "TIME": 1973,
          "TOTAL_SPEND": 905.51,
          "USD_CAP": 40.48
         },
         {
          "FLAG_CODES": null,
          "LOCATION": "CAN",
          "PC_GDP": 0.611,
          "PC_HEALTHXP": 10.026,
          "TIME": 1974,
          "TOTAL_SPEND": 923.69,
          "USD_CAP": 40.559
         },
         {
          "FLAG_CODES": "B",
          "LOCATION": "CAN",
          "PC_GDP": 0.609,
          "PC_HEALTHXP": 9.318999999999999,
          "TIME": 1975,
          "TOTAL_SPEND": 1029.71,
          "USD_CAP": 44.367
         },
         {
          "FLAG_CODES": null,
          "LOCATION": "CAN",
          "PC_GDP": 0.589,
          "PC_HEALTHXP": 8.957,
          "TIME": 1976,
          "TOTAL_SPEND": 1104.57,
          "USD_CAP": 46.967
         },
         {
          "FLAG_CODES": null,
          "LOCATION": "CAN",
          "PC_GDP": 0.583,
          "PC_HEALTHXP": 8.9,
          "TIME": 1977,
          "TOTAL_SPEND": 1201.96,
          "USD_CAP": 50.511
         },
         {
          "FLAG_CODES": null,
          "LOCATION": "CAN",
          "PC_GDP": 0.58,
          "PC_HEALTHXP": 8.882,
          "TIME": 1978,
          "TOTAL_SPEND": 1329.14,
          "USD_CAP": 55.298
         },
         {
          "FLAG_CODES": null,
          "LOCATION": "CAN",
          "PC_GDP": 0.5820000000000001,
          "PC_HEALTHXP": 9.081,
          "TIME": 1979,
          "TOTAL_SPEND": 1501.05,
          "USD_CAP": 61.83
         },
         {
          "FLAG_CODES": null,
          "LOCATION": "CAN",
          "PC_GDP": 0.589,
          "PC_HEALTHXP": 8.934,
          "TIME": 1980,
          "TOTAL_SPEND": 1689.56,
          "USD_CAP": 68.70100000000001
         },
         {
          "FLAG_CODES": null,
          "LOCATION": "CAN",
          "PC_GDP": 0.635,
          "PC_HEALTHXP": 9.357000000000001,
          "TIME": 1981,
          "TOTAL_SPEND": 2063.61,
          "USD_CAP": 82.876
         },
         {
          "FLAG_CODES": null,
          "LOCATION": "CAN",
          "PC_GDP": 0.682,
          "PC_HEALTHXP": 9.071,
          "TIME": 1982,
          "TOTAL_SPEND": 2279.14,
          "USD_CAP": 90.435
         },
         {
          "FLAG_CODES": null,
          "LOCATION": "CAN",
          "PC_GDP": 0.7040000000000001,
          "PC_HEALTHXP": 9.145,
          "TIME": 1983,
          "TOTAL_SPEND": 2506.83,
          "USD_CAP": 98.477
         },
         {
          "FLAG_CODES": null,
          "LOCATION": "CAN",
          "PC_GDP": 0.72,
          "PC_HEALTHXP": 9.5,
          "TIME": 1984,
          "TOTAL_SPEND": 2814.52,
          "USD_CAP": 109.506
         },
         {
          "FLAG_CODES": null,
          "LOCATION": "CAN",
          "PC_GDP": 0.763,
          "PC_HEALTHXP": 10.061,
          "TIME": 1985,
          "TOTAL_SPEND": 3225.52,
          "USD_CAP": 124.336
         },
         {
          "FLAG_CODES": null,
          "LOCATION": "CAN",
          "PC_GDP": 0.8420000000000001,
          "PC_HEALTHXP": 10.755999999999998,
          "TIME": 1986,
          "TOTAL_SPEND": 3709.28,
          "USD_CAP": 141.554
         },
         {
          "FLAG_CODES": null,
          "LOCATION": "CAN",
          "PC_GDP": 0.8590000000000001,
          "PC_HEALTHXP": 11.058,
          "TIME": 1987,
          "TOTAL_SPEND": 4039.98,
          "USD_CAP": 152.165
         },
         {
          "FLAG_CODES": null,
          "LOCATION": "CAN",
          "PC_GDP": 0.884,
          "PC_HEALTHXP": 11.383,
          "TIME": 1988,
          "TOTAL_SPEND": 4493.27,
          "USD_CAP": 167.067
         },
         {
          "FLAG_CODES": null,
          "LOCATION": "CAN",
          "PC_GDP": 0.932,
          "PC_HEALTHXP": 11.690999999999999,
          "TIME": 1989,
          "TOTAL_SPEND": 5036.04,
          "USD_CAP": 183.938
         },
         {
          "FLAG_CODES": null,
          "LOCATION": "CAN",
          "PC_GDP": 1,
          "PC_HEALTHXP": 11.914000000000001,
          "TIME": 1990,
          "TOTAL_SPEND": 5608.75,
          "USD_CAP": 201.81900000000002
         },
         {
          "FLAG_CODES": null,
          "LOCATION": "CAN",
          "PC_GDP": 1.102,
          "PC_HEALTHXP": 12.135,
          "TIME": 1991,
          "TOTAL_SPEND": 6257.3,
          "USD_CAP": 222.113
         },
         {
          "FLAG_CODES": null,
          "LOCATION": "CAN",
          "PC_GDP": 1.19,
          "PC_HEALTHXP": 12.75,
          "TIME": 1992,
          "TOTAL_SPEND": 6974.07,
          "USD_CAP": 244.53599999999997
         },
         {
          "FLAG_CODES": null,
          "LOCATION": "CAN",
          "PC_GDP": 1.2329999999999999,
          "PC_HEALTHXP": 13.377,
          "TIME": 1993,
          "TOTAL_SPEND": 7594.46,
          "USD_CAP": 263.39099999999996
         },
         {
          "FLAG_CODES": null,
          "LOCATION": "CAN",
          "PC_GDP": 1.206,
          "PC_HEALTHXP": 13.613,
          "TIME": 1994,
          "TOTAL_SPEND": 7920.65,
          "USD_CAP": 272.07599999999996
         },
         {
          "FLAG_CODES": null,
          "LOCATION": "CAN",
          "PC_GDP": 1.229,
          "PC_HEALTHXP": 14.357999999999999,
          "TIME": 1995,
          "TOTAL_SPEND": 8439.63,
          "USD_CAP": 287.512
         },
         {
          "FLAG_CODES": null,
          "LOCATION": "CAN",
          "PC_GDP": 1.219,
          "PC_HEALTHXP": 14.578,
          "TIME": 1996,
          "TOTAL_SPEND": 8664.97,
          "USD_CAP": 292.026
         },
         {
          "FLAG_CODES": null,
          "LOCATION": "CAN",
          "PC_GDP": 1.273,
          "PC_HEALTHXP": 15.255,
          "TIME": 1997,
          "TOTAL_SPEND": 9603.88,
          "USD_CAP": 320.26599999999996
         },
         {
          "FLAG_CODES": null,
          "LOCATION": "CAN",
          "PC_GDP": 1.347,
          "PC_HEALTHXP": 15.702,
          "TIME": 1998,
          "TOTAL_SPEND": 10671.58,
          "USD_CAP": 352.80400000000003
         },
         {
          "FLAG_CODES": null,
          "LOCATION": "CAN",
          "PC_GDP": 1.354,
          "PC_HEALTHXP": 16.199,
          "TIME": 1999,
          "TOTAL_SPEND": 11456.87,
          "USD_CAP": 375.645
         },
         {
          "FLAG_CODES": null,
          "LOCATION": "CAN",
          "PC_GDP": 1.374,
          "PC_HEALTHXP": 16.601,
          "TIME": 2000,
          "TOTAL_SPEND": 12371.08,
          "USD_CAP": 402.05400000000003
         },
         {
          "FLAG_CODES": null,
          "LOCATION": "CAN",
          "PC_GDP": 1.465,
          "PC_HEALTHXP": 16.921,
          "TIME": 2001,
          "TOTAL_SPEND": 13716.78,
          "USD_CAP": 441.311
         },
         {
          "FLAG_CODES": null,
          "LOCATION": "CAN",
          "PC_GDP": 1.55,
          "PC_HEALTHXP": 17.438,
          "TIME": 2002,
          "TOTAL_SPEND": 14998.12,
          "USD_CAP": 478.226
         },
         {
          "FLAG_CODES": null,
          "LOCATION": "CAN",
          "PC_GDP": 1.614,
          "PC_HEALTHXP": 17.845,
          "TIME": 2003,
          "TOTAL_SPEND": 16471.17,
          "USD_CAP": 519.989
         },
         {
          "FLAG_CODES": null,
          "LOCATION": "CAN",
          "PC_GDP": 1.6369999999999998,
          "PC_HEALTHXP": 17.992,
          "TIME": 2004,
          "TOTAL_SPEND": 17708.27,
          "USD_CAP": 553.47
         },
         {
          "FLAG_CODES": null,
          "LOCATION": "CAN",
          "PC_GDP": 1.6369999999999998,
          "PC_HEALTHXP": 18.058,
          "TIME": 2005,
          "TOTAL_SPEND": 19152.55,
          "USD_CAP": 592.738
         },
         {
          "FLAG_CODES": null,
          "LOCATION": "CAN",
          "PC_GDP": 1.68,
          "PC_HEALTHXP": 18.250999999999998,
          "TIME": 2006,
          "TOTAL_SPEND": 20802.81,
          "USD_CAP": 638.701
         },
         {
          "FLAG_CODES": null,
          "LOCATION": "CAN",
          "PC_GDP": 1.679,
          "PC_HEALTHXP": 18.052,
          "TIME": 2007,
          "TOTAL_SPEND": 21774.18,
          "USD_CAP": 662.072
         },
         {
          "FLAG_CODES": null,
          "LOCATION": "CAN",
          "PC_GDP": 1.6869999999999998,
          "PC_HEALTHXP": 17.828,
          "TIME": 2008,
          "TOTAL_SPEND": 22595.32,
          "USD_CAP": 679.645
         },
         {
          "FLAG_CODES": null,
          "LOCATION": "CAN",
          "PC_GDP": 1.885,
          "PC_HEALTHXP": 17.824,
          "TIME": 2009,
          "TOTAL_SPEND": 24586.55,
          "USD_CAP": 731.1210000000001
         },
         {
          "FLAG_CODES": "B",
          "LOCATION": "CAN",
          "PC_GDP": 1.9509999999999998,
          "PC_HEALTHXP": 18.471,
          "TIME": 2010,
          "TOTAL_SPEND": 26554.75,
          "USD_CAP": 780.9010000000001
         },
         {
          "FLAG_CODES": null,
          "LOCATION": "CAN",
          "PC_GDP": 1.8719999999999999,
          "PC_HEALTHXP": 18.32,
          "TIME": 2011,
          "TOTAL_SPEND": 26725.86,
          "USD_CAP": 778.209
         },
         {
          "FLAG_CODES": null,
          "LOCATION": "CAN",
          "PC_GDP": 1.828,
          "PC_HEALTHXP": 17.883,
          "TIME": 2012,
          "TOTAL_SPEND": 26774.04,
          "USD_CAP": 770.4639999999999
         },
         {
          "FLAG_CODES": null,
          "LOCATION": "CAN",
          "PC_GDP": 1.778,
          "PC_HEALTHXP": 17.575,
          "TIME": 2013,
          "TOTAL_SPEND": 27560.08,
          "USD_CAP": 783.949
         },
         {
          "FLAG_CODES": null,
          "LOCATION": "CAN",
          "PC_GDP": 1.743,
          "PC_HEALTHXP": 17.453,
          "TIME": 2014,
          "TOTAL_SPEND": 27931.31,
          "USD_CAP": 785.811
         },
         {
          "FLAG_CODES": null,
          "LOCATION": "CZE",
          "PC_GDP": 0.9079999999999999,
          "PC_HEALTHXP": 24.212,
          "TIME": 1990,
          "TOTAL_SPEND": 1183.19,
          "USD_CAP": 114.50200000000001
         },
         {
          "FLAG_CODES": null,
          "LOCATION": "CZE",
          "PC_GDP": 0.836,
          "PC_HEALTHXP": 21.496,
          "TIME": 1991,
          "TOTAL_SPEND": 994.38,
          "USD_CAP": 96.461
         },
         {
          "FLAG_CODES": null,
          "LOCATION": "CZE",
          "PC_GDP": 0.99,
          "PC_HEALTHXP": 24.69,
          "TIME": 1992,
          "TOTAL_SPEND": 1199.21,
          "USD_CAP": 116.212
         },
         {
          "FLAG_CODES": null,
          "LOCATION": "CZE",
          "PC_GDP": 1.2009999999999998,
          "PC_HEALTHXP": 22.358,
          "TIME": 1993,
          "TOTAL_SPEND": 1490.01,
          "USD_CAP": 144.243
         },
         {
          "FLAG_CODES": null,
          "LOCATION": "CZE",
          "PC_GDP": 1.564,
          "PC_HEALTHXP": 28.254,
          "TIME": 1994,
          "TOTAL_SPEND": 2038.89,
          "USD_CAP": 197.30700000000002
         },
         {
          "FLAG_CODES": null,
          "LOCATION": "CZE",
          "PC_GDP": 1.629,
          "PC_HEALTHXP": 28.28,
          "TIME": 1995,
          "TOTAL_SPEND": 2302.49,
          "USD_CAP": 222.953
         },
         {
          "FLAG_CODES": null,
          "LOCATION": "CZE",
          "PC_GDP": 1.56,
          "PC_HEALTHXP": 27.665,
          "TIME": 1996,
          "TOTAL_SPEND": 2338.98,
          "USD_CAP": 226.75
         },
         {
          "FLAG_CODES": null,
          "LOCATION": "CZE",
          "PC_GDP": 1.5390000000000001,
          "PC_HEALTHXP": 27.252,
          "TIME": 1997,
          "TOTAL_SPEND": 2327.8,
          "USD_CAP": 225.90900000000002
         },
         {
          "FLAG_CODES": null,
          "LOCATION": "CZE",
          "PC_GDP": 1.412,
          "PC_HEALTHXP": 25.085,
          "TIME": 1998,
          "TOTAL_SPEND": 2161.04,
          "USD_CAP": 209.924
         },
         {
          "FLAG_CODES": null,
          "LOCATION": "CZE",
          "PC_GDP": 1.403,
          "PC_HEALTHXP": 24.149,
          "TIME": 1999,
          "TOTAL_SPEND": 2205.93,
          "USD_CAP": 214.50400000000002
         },
         {
          "FLAG_CODES": "B",
          "LOCATION": "CZE",
          "PC_GDP": 1.4140000000000001,
          "PC_HEALTHXP": 24.659000000000002,
          "TIME": 2000,
          "TOTAL_SPEND": 2339.13,
          "USD_CAP": 228.095
         },
         {
          "FLAG_CODES": null,
          "LOCATION": "CZE",
          "PC_GDP": 1.474,
          "PC_HEALTHXP": 24.980999999999998,
          "TIME": 2001,
          "TOTAL_SPEND": 2643.91,
          "USD_CAP": 258.786
         },
         {
          "FLAG_CODES": null,
          "LOCATION": "CZE",
          "PC_GDP": 1.558,
          "PC_HEALTHXP": 25.069000000000003,
          "TIME": 2002,
          "TOTAL_SPEND": 2882.26,
          "USD_CAP": 282.66
         },
         {
          "FLAG_CODES": "B",
          "LOCATION": "CZE",
          "PC_GDP": 1.6569999999999998,
          "PC_HEALTHXP": 25.195999999999998,
          "TIME": 2003,
          "TOTAL_SPEND": 3270.13,
          "USD_CAP": 320.79
         },
         {
          "FLAG_CODES": null,
          "LOCATION": "CZE",
          "PC_GDP": 1.642,
          "PC_HEALTHXP": 25.671,
          "TIME": 2004,
          "TOTAL_SPEND": 3479.1,
          "USD_CAP": 341.185
         },
         {
          "FLAG_CODES": null,
          "LOCATION": "CZE",
          "PC_GDP": 1.643,
          "PC_HEALTHXP": 25.7,
          "TIME": 2005,
          "TOTAL_SPEND": 3676.68,
          "USD_CAP": 360.06300000000005
         },
         {
          "FLAG_CODES": null,
          "LOCATION": "CZE",
          "PC_GDP": 1.4569999999999999,
          "PC_HEALTHXP": 23.478,
          "TIME": 2006,
          "TOTAL_SPEND": 3543.16,
          "USD_CAP": 346.04900000000004
         },
         {
          "FLAG_CODES": null,
          "LOCATION": "CZE",
          "PC_GDP": 1.339,
          "PC_HEALTHXP": 22.213,
          "TIME": 2007,
          "TOTAL_SPEND": 3594.11,
          "USD_CAP": 348.98199999999997
         },
         {
          "FLAG_CODES": null,
          "LOCATION": "CZE",
          "PC_GDP": 1.3319999999999999,
          "PC_HEALTHXP": 20.906,
          "TIME": 2008,
          "TOTAL_SPEND": 3844.55,
          "USD_CAP": 370.216
         },
         {
          "FLAG_CODES": null,
          "LOCATION": "CZE",
          "PC_GDP": 1.618,
          "PC_HEALTHXP": 22.139,
          "TIME": 2009,
          "TOTAL_SPEND": 4658.79,
          "USD_CAP": 446.07599999999996
         },
         {
          "FLAG_CODES": null,
          "LOCATION": "CZE",
          "PC_GDP": 1.4180000000000001,
          "PC_HEALTHXP": 20.418,
          "TIME": 2010,
          "TOTAL_SPEND": 4107.34,
          "USD_CAP": 392.131
         },
         {
          "FLAG_CODES": null,
          "LOCATION": "CZE",
          "PC_GDP": 1.426,
          "PC_HEALTHXP": 20.432000000000002,
          "TIME": 2011,
          "TOTAL_SPEND": 4308.76,
          "USD_CAP": 410.51099999999997
         },
         {
          "FLAG_CODES": null,
          "LOCATION": "CZE",
          "PC_GDP": 1.511,
          "PC_HEALTHXP": 21.496,
          "TIME": 2012,
          "TOTAL_SPEND": 4612.73,
          "USD_CAP": 438.85699999999997
         },
         {
          "FLAG_CODES": null,
          "LOCATION": "CZE",
          "PC_GDP": 1.3840000000000001,
          "PC_HEALTHXP": 17.932000000000002,
          "TIME": 2013,
          "TOTAL_SPEND": 4435.83,
          "USD_CAP": 421.88699999999994
         },
         {
          "FLAG_CODES": null,
          "LOCATION": "CZE",
          "PC_GDP": 1.2930000000000001,
          "PC_HEALTHXP": 17.109,
          "TIME": 2014,
          "TOTAL_SPEND": 4403.95,
          "USD_CAP": 418.414
         },
         {
          "FLAG_CODES": null,
          "LOCATION": "CZE",
          "PC_GDP": 1.25,
          "PC_HEALTHXP": 17.323,
          "TIME": 2015,
          "TOTAL_SPEND": 4446.88,
          "USD_CAP": 421.663
         },
         {
          "FLAG_CODES": null,
          "LOCATION": "DNK",
          "PC_GDP": 0.53,
          "PC_HEALTHXP": 6.301,
          "TIME": 1980,
          "TOTAL_SPEND": 268.45,
          "USD_CAP": 52.401
         },
         {
          "FLAG_CODES": null,
          "LOCATION": "DNK",
          "PC_GDP": 0.527,
          "PC_HEALTHXP": 6.149,
          "TIME": 1981,
          "TOTAL_SPEND": 289.86,
          "USD_CAP": 56.595
         },
         {
          "FLAG_CODES": null,
          "LOCATION": "DNK",
          "PC_GDP": 0.534,
          "PC_HEALTHXP": 6.189,
          "TIME": 1982,
          "TOTAL_SPEND": 323.14,
          "USD_CAP": 63.14
         },
         {
          "FLAG_CODES": null,
          "LOCATION": "DNK",
          "PC_GDP": 0.539,
          "PC_HEALTHXP": 6.407,
          "TIME": 1983,
          "TOTAL_SPEND": 348.18,
          "USD_CAP": 68.08
         },
         {
          "FLAG_CODES": null,
          "LOCATION": "DNK",
          "PC_GDP": 0.528,
          "PC_HEALTHXP": 6.631,
          "TIME": 1984,
          "TOTAL_SPEND": 368.02,
          "USD_CAP": 71.99600000000001
         },
         {
          "FLAG_CODES": null,
          "LOCATION": "DNK",
          "PC_GDP": 0.546,
          "PC_HEALTHXP": 6.864,
          "TIME": 1985,
          "TOTAL_SPEND": 407.73,
          "USD_CAP": 79.733
         },
         {
          "FLAG_CODES": null,
          "LOCATION": "DNK",
          "PC_GDP": 0.563,
          "PC_HEALTHXP": 7.276,
          "TIME": 1986,
          "TOTAL_SPEND": 450.09,
          "USD_CAP": 87.9
         },
         {
          "FLAG_CODES": null,
          "LOCATION": "DNK",
          "PC_GDP": 0.555,
          "PC_HEALTHXP": 6.888,
          "TIME": 1987,
          "TOTAL_SPEND": 456.23,
          "USD_CAP": 88.986
         },
         {
          "FLAG_CODES": null,
          "LOCATION": "DNK",
          "PC_GDP": 0.6,
          "PC_HEALTHXP": 7.33,
          "TIME": 1988,
          "TOTAL_SPEND": 510.96,
          "USD_CAP": 99.611
         },
         {
          "FLAG_CODES": null,
          "LOCATION": "DNK",
          "PC_GDP": 0.5660000000000001,
          "PC_HEALTHXP": 7.023,
          "TIME": 1989,
          "TOTAL_SPEND": 503.76,
          "USD_CAP": 98.15
         },
         {
          "FLAG_CODES": null,
          "LOCATION": "DNK",
          "PC_GDP": 0.613,
          "PC_HEALTHXP": 7.621,
          "TIME": 1990,
          "TOTAL_SPEND": 573.62,
          "USD_CAP": 111.57799999999999
         },
         {
          "FLAG_CODES": null,
          "LOCATION": "DNK",
          "PC_GDP": 0.647,
          "PC_HEALTHXP": 8.145,
          "TIME": 1991,
          "TOTAL_SPEND": 634.42,
          "USD_CAP": 123.085
         },
         {
          "FLAG_CODES": null,
          "LOCATION": "DNK",
          "PC_GDP": 0.6459999999999999,
          "PC_HEALTHXP": 8.123,
          "TIME": 1992,
          "TOTAL_SPEND": 661.14,
          "USD_CAP": 127.84700000000001
         },
         {
          "FLAG_CODES": null,
          "LOCATION": "DNK",
          "PC_GDP": 0.72,
          "PC_HEALTHXP": 8.692,
          "TIME": 1993,
          "TOTAL_SPEND": 754.65,
          "USD_CAP": 145.44299999999998
         },
         {
          "FLAG_CODES": null,
          "LOCATION": "DNK",
          "PC_GDP": 0.731,
          "PC_HEALTHXP": 9.047,
          "TIME": 1994,
          "TOTAL_SPEND": 823.38,
          "USD_CAP": 158.155
         },
         {
          "FLAG_CODES": null,
          "LOCATION": "DNK",
          "PC_GDP": 0.725,
          "PC_HEALTHXP": 9.329,
          "TIME": 1995,
          "TOTAL_SPEND": 859.18,
          "USD_CAP": 164.174
         },
         {
          "FLAG_CODES": null,
          "LOCATION": "DNK",
          "PC_GDP": 0.718,
          "PC_HEALTHXP": 9.16,
          "TIME": 1996,
          "TOTAL_SPEND": 896.17,
          "USD_CAP": 170.275
         },
         {
          "FLAG_CODES": null,
          "LOCATION": "DNK",
          "PC_GDP": 0.72,
          "PC_HEALTHXP": 9.295,
          "TIME": 1997,
          "TOTAL_SPEND": 948.26,
          "USD_CAP": 179.425
         },
         {
          "FLAG_CODES": null,
          "LOCATION": "DNK",
          "PC_GDP": 0.7829999999999999,
          "PC_HEALTHXP": 10.367,
          "TIME": 1998,
          "TOTAL_SPEND": 1070.85,
          "USD_CAP": 201.887
         },
         {
          "FLAG_CODES": null,
          "LOCATION": "DNK",
          "PC_GDP": 0.755,
          "PC_HEALTHXP": 9.051,
          "TIME": 1999,
          "TOTAL_SPEND": 1071,
          "USD_CAP": 201.247
         },
         {
          "FLAG_CODES": null,
          "LOCATION": "DNK",
          "PC_GDP": 0.735,
          "PC_HEALTHXP": 9.068,
          "TIME": 2000,
          "TOTAL_SPEND": 1123.92,
          "USD_CAP": 210.487
         },
         {
          "FLAG_CODES": null,
          "LOCATION": "DNK",
          "PC_GDP": 0.759,
          "PC_HEALTHXP": 8.982999999999999,
          "TIME": 2001,
          "TOTAL_SPEND": 1200.46,
          "USD_CAP": 224.017
         },
         {
          "FLAG_CODES": null,
          "LOCATION": "DNK",
          "PC_GDP": 0.8190000000000001,
          "PC_HEALTHXP": 9.408999999999999,
          "TIME": 2002,
          "TOTAL_SPEND": 1348.81,
          "USD_CAP": 250.898
         },
         {
          "FLAG_CODES": "B",
          "LOCATION": "DNK",
          "PC_GDP": 0.823,
          "PC_HEALTHXP": 9.241,
          "TIME": 2003,
          "TOTAL_SPEND": 1365.45,
          "USD_CAP": 253.303
         },
         {
          "FLAG_CODES": null,
          "LOCATION": "DNK",
          "PC_GDP": 0.804,
          "PC_HEALTHXP": 8.921,
          "TIME": 2004,
          "TOTAL_SPEND": 1430.23,
          "USD_CAP": 264.63599999999997
         },
         {
          "FLAG_CODES": null,
          "LOCATION": "DNK",
          "PC_GDP": 0.78,
          "PC_HEALTHXP": 8.58,
          "TIME": 2005,
          "TOTAL_SPEND": 1443.5,
          "USD_CAP": 266.357
         },
         {
          "FLAG_CODES": null,
          "LOCATION": "DNK",
          "PC_GDP": 0.799,
          "PC_HEALTHXP": 8.718,
          "TIME": 2006,
          "TOTAL_SPEND": 1621.89,
          "USD_CAP": 298.291
         },
         {
          "FLAG_CODES": null,
          "LOCATION": "DNK",
          "PC_GDP": 0.8290000000000001,
          "PC_HEALTHXP": 8.886000000000001,
          "TIME": 2007,
          "TOTAL_SPEND": 1762.88,
          "USD_CAP": 322.78700000000003
         },
         {
          "FLAG_CODES": null,
          "LOCATION": "DNK",
          "PC_GDP": 0.792,
          "PC_HEALTHXP": 8.328,
          "TIME": 2008,
          "TOTAL_SPEND": 1796.17,
          "USD_CAP": 326.95599999999996
         },
         {
          "FLAG_CODES": null,
          "LOCATION": "DNK",
          "PC_GDP": 0.813,
          "PC_HEALTHXP": 7.6129999999999995,
          "TIME": 2009,
          "TOTAL_SPEND": 1812.3,
          "USD_CAP": 328.13199999999995
         },
         {
          "FLAG_CODES": null,
          "LOCATION": "DNK",
          "PC_GDP": 0.7979999999999999,
          "PC_HEALTHXP": 7.696000000000001,
          "TIME": 2010,
          "TOTAL_SPEND": 1908.46,
          "USD_CAP": 344.01
         },
         {
          "FLAG_CODES": "B",
          "LOCATION": "DNK",
          "PC_GDP": 0.797,
          "PC_HEALTHXP": 7.819,
          "TIME": 2011,
          "TOTAL_SPEND": 1972.14,
          "USD_CAP": 354.029
         },
         {
          "FLAG_CODES": null,
          "LOCATION": "DNK",
          "PC_GDP": 0.759,
          "PC_HEALTHXP": 7.395,
          "TIME": 2012,
          "TOTAL_SPEND": 1902.53,
          "USD_CAP": 340.25
         },
         {
          "FLAG_CODES": null,
          "LOCATION": "DNK",
          "PC_GDP": 0.7040000000000001,
          "PC_HEALTHXP": 6.896,
          "TIME": 2013,
          "TOTAL_SPEND": 1847.63,
          "USD_CAP": 329.056
         },
         {
          "FLAG_CODES": null,
          "LOCATION": "DNK",
          "PC_GDP": 0.693,
          "PC_HEALTHXP": 6.757000000000001,
          "TIME": 2014,
          "TOTAL_SPEND": 1870.72,
          "USD_CAP": 331.48400000000004
         },
         {
          "FLAG_CODES": null,
          "LOCATION": "DNK",
          "PC_GDP": 0.698,
          "PC_HEALTHXP": 6.757999999999999,
          "TIME": 2015,
          "TOTAL_SPEND": 1942.75,
          "USD_CAP": 341.82300000000004
         },
         {
          "FLAG_CODES": null,
          "LOCATION": "FIN",
          "PC_GDP": 0.6890000000000001,
          "PC_HEALTHXP": 13.822000000000001,
          "TIME": 1970,
          "TOTAL_SPEND": 107.77,
          "USD_CAP": 23.396
         },
         {
          "FLAG_CODES": null,
          "LOCATION": "FIN",
          "PC_GDP": 0.763,
          "PC_HEALTHXP": 14.425999999999998,
          "TIME": 1971,
          "TOTAL_SPEND": 128.25,
          "USD_CAP": 27.808000000000003
         },
         {
          "FLAG_CODES": null,
          "LOCATION": "FIN",
          "PC_GDP": 0.775,
          "PC_HEALTHXP": 14.398,
          "TIME": 1972,
          "TOTAL_SPEND": 146.47,
          "USD_CAP": 31.569000000000003
         },
         {
          "FLAG_CODES": null,
          "LOCATION": "FIN",
          "PC_GDP": 0.718,
          "PC_HEALTHXP": 13.735999999999999,
          "TIME": 1973,
          "TOTAL_SPEND": 153.22,
          "USD_CAP": 32.836
         },
         {
          "FLAG_CODES": null,
          "LOCATION": "FIN",
          "PC_GDP": 0.691,
          "PC_HEALTHXP": 13.360999999999999,
          "TIME": 1974,
          "TOTAL_SPEND": 165.69,
          "USD_CAP": 35.324
         },
         {
          "FLAG_CODES": null,
          "LOCATION": "FIN",
          "PC_GDP": 0.727,
          "PC_HEALTHXP": 12.870999999999999,
          "TIME": 1975,
          "TOTAL_SPEND": 194.08,
          "USD_CAP": 41.193999999999996
         },
         {
          "FLAG_CODES": null,
          "LOCATION": "FIN",
          "PC_GDP": 0.763,
          "PC_HEALTHXP": 12.745999999999999,
          "TIME": 1976,
          "TOTAL_SPEND": 215.62,
          "USD_CAP": 45.628
         },
         {
          "FLAG_CODES": null,
          "LOCATION": "FIN",
          "PC_GDP": 0.785,
          "PC_HEALTHXP": 12.686,
          "TIME": 1977,
          "TOTAL_SPEND": 236.22,
          "USD_CAP": 49.848
         },
         {
          "FLAG_CODES": null,
          "LOCATION": "FIN",
          "PC_GDP": 0.778,
          "PC_HEALTHXP": 12.685,
          "TIME": 1978,
          "TOTAL_SPEND": 257.66,
          "USD_CAP": 54.215
         },
         {
          "FLAG_CODES": null,
          "LOCATION": "FIN",
          "PC_GDP": 0.7170000000000001,
          "PC_HEALTHXP": 11.982999999999999,
          "TIME": 1979,
          "TOTAL_SPEND": 275.5,
          "USD_CAP": 57.821999999999996
         },
         {
          "FLAG_CODES": null,
          "LOCATION": "FIN",
          "PC_GDP": 0.6629999999999999,
          "PC_HEALTHXP": 11.217,
          "TIME": 1980,
          "TOTAL_SPEND": 292.68,
          "USD_CAP": 61.236000000000004
         },
         {
          "FLAG_CODES": null,
          "LOCATION": "FIN",
          "PC_GDP": 0.6579999999999999,
          "PC_HEALTHXP": 10.899000000000001,
          "TIME": 1981,
          "TOTAL_SPEND": 321.57,
          "USD_CAP": 66.995
         },
         {
          "FLAG_CODES": null,
          "LOCATION": "FIN",
          "PC_GDP": 0.637,
          "PC_HEALTHXP": 10.390999999999998,
          "TIME": 1982,
          "TOTAL_SPEND": 340.87,
          "USD_CAP": 70.618
         },
         {
          "FLAG_CODES": null,
          "LOCATION": "FIN",
          "PC_GDP": 0.662,
          "PC_HEALTHXP": 10.642000000000001,
          "TIME": 1983,
          "TOTAL_SPEND": 379.56,
          "USD_CAP": 78.166
         },
         {
          "FLAG_CODES": null,
          "LOCATION": "FIN",
          "PC_GDP": 0.662,
          "PC_HEALTHXP": 10.57,
          "TIME": 1984,
          "TOTAL_SPEND": 405.76,
          "USD_CAP": 83.116
         },
         {
          "FLAG_CODES": null,
          "LOCATION": "FIN",
          "PC_GDP": 0.677,
          "PC_HEALTHXP": 10.174,
          "TIME": 1985,
          "TOTAL_SPEND": 443.49,
          "USD_CAP": 90.46799999999999
         },
         {
          "FLAG_CODES": null,
          "LOCATION": "FIN",
          "PC_GDP": 0.6809999999999999,
          "PC_HEALTHXP": 10.079,
          "TIME": 1986,
          "TOTAL_SPEND": 467.3,
          "USD_CAP": 95.015
         },
         {
          "FLAG_CODES": null,
          "LOCATION": "FIN",
          "PC_GDP": 0.6940000000000001,
          "PC_HEALTHXP": 10.068999999999999,
          "TIME": 1987,
          "TOTAL_SPEND": 506.08,
          "USD_CAP": 102.609
         },
         {
          "FLAG_CODES": null,
          "LOCATION": "FIN",
          "PC_GDP": 0.6679999999999999,
          "PC_HEALTHXP": 9.968,
          "TIME": 1988,
          "TOTAL_SPEND": 530.3,
          "USD_CAP": 107.20700000000001
         },
         {
          "FLAG_CODES": null,
          "LOCATION": "FIN",
          "PC_GDP": 0.6609999999999999,
          "PC_HEALTHXP": 9.812000000000001,
          "TIME": 1989,
          "TOTAL_SPEND": 573.29,
          "USD_CAP": 115.48
         },
         {
          "FLAG_CODES": null,
          "LOCATION": "FIN",
          "PC_GDP": 0.715,
          "PC_HEALTHXP": 9.863999999999999,
          "TIME": 1990,
          "TOTAL_SPEND": 647.04,
          "USD_CAP": 129.76
         },
         {
          "FLAG_CODES": null,
          "LOCATION": "FIN",
          "PC_GDP": 0.86,
          "PC_HEALTHXP": 10.343,
          "TIME": 1991,
          "TOTAL_SPEND": 756.49,
          "USD_CAP": 150.88299999999998
         },
         {
          "FLAG_CODES": null,
          "LOCATION": "FIN",
          "PC_GDP": 0.951,
          "PC_HEALTHXP": 11.165999999999999,
          "TIME": 1992,
          "TOTAL_SPEND": 826.96,
          "USD_CAP": 164.015
         },
         {
          "FLAG_CODES": "B",
          "LOCATION": "FIN",
          "PC_GDP": 0.991,
          "PC_HEALTHXP": 12.652000000000001,
          "TIME": 1993,
          "TOTAL_SPEND": 875.68,
          "USD_CAP": 172.83900000000003
         },
         {
          "FLAG_CODES": null,
          "LOCATION": "FIN",
          "PC_GDP": 1,
          "PC_HEALTHXP": 13.732999999999999,
          "TIME": 1994,
          "TOTAL_SPEND": 938.65,
          "USD_CAP": 184.47099999999998
         },
         {
          "FLAG_CODES": null,
          "LOCATION": "FIN",
          "PC_GDP": 1.053,
          "PC_HEALTHXP": 14.321,
          "TIME": 1995,
          "TOTAL_SPEND": 1051.44,
          "USD_CAP": 205.851
         },
         {
          "FLAG_CODES": null,
          "LOCATION": "FIN",
          "PC_GDP": 1.112,
          "PC_HEALTHXP": 14.875,
          "TIME": 1996,
          "TOTAL_SPEND": 1143.14,
          "USD_CAP": 223.071
         },
         {
          "FLAG_CODES": null,
          "LOCATION": "FIN",
          "PC_GDP": 1.087,
          "PC_HEALTHXP": 15.244000000000002,
          "TIME": 1997,
          "TOTAL_SPEND": 1216.2,
          "USD_CAP": 236.623
         },
         {
          "FLAG_CODES": null,
          "LOCATION": "FIN",
          "PC_GDP": 0.9990000000000001,
          "PC_HEALTHXP": 14.645999999999999,
          "TIME": 1998,
          "TOTAL_SPEND": 1212.03,
          "USD_CAP": 235.18599999999998
         },
         {
          "FLAG_CODES": null,
          "LOCATION": "FIN",
          "PC_GDP": 1.058,
          "PC_HEALTHXP": 15.565999999999999,
          "TIME": 1999,
          "TOTAL_SPEND": 1353.78,
          "USD_CAP": 262.08299999999997
         },
         {
          "FLAG_CODES": "B",
          "LOCATION": "FIN",
          "PC_GDP": 1.068,
          "PC_HEALTHXP": 15.619000000000002,
          "TIME": 2000,
          "TOTAL_SPEND": 1477.54,
          "USD_CAP": 285.448
         },
         {
          "FLAG_CODES": null,
          "LOCATION": "FIN",
          "PC_GDP": 1.123,
          "PC_HEALTHXP": 16.076,
          "TIME": 2001,
          "TOTAL_SPEND": 1621.64,
          "USD_CAP": 312.574
         },
         {
          "FLAG_CODES": null,
          "LOCATION": "FIN",
          "PC_GDP": 1.196,
          "PC_HEALTHXP": 16.247,
          "TIME": 2002,
          "TOTAL_SPEND": 1776.32,
          "USD_CAP": 341.56
         },
         {
          "FLAG_CODES": null,
          "LOCATION": "FIN",
          "PC_GDP": 1.236,
          "PC_HEALTHXP": 16.125999999999998,
          "TIME": 2003,
          "TOTAL_SPEND": 1867.08,
          "USD_CAP": 358.157
         },
         {
          "FLAG_CODES": null,
          "LOCATION": "FIN",
          "PC_GDP": 1.264,
          "PC_HEALTHXP": 16.223,
          "TIME": 2004,
          "TOTAL_SPEND": 2057.71,
          "USD_CAP": 393.582
         },
         {
          "FLAG_CODES": null,
          "LOCATION": "FIN",
          "PC_GDP": 1.288,
          "PC_HEALTHXP": 16.109,
          "TIME": 2005,
          "TOTAL_SPEND": 2162.49,
          "USD_CAP": 412.21
         },
         {
          "FLAG_CODES": null,
          "LOCATION": "FIN",
          "PC_GDP": 1.1740000000000002,
          "PC_HEALTHXP": 14.67,
          "TIME": 2006,
          "TOTAL_SPEND": 2126.29,
          "USD_CAP": 403.756
         },
         {
          "FLAG_CODES": null,
          "LOCATION": "FIN",
          "PC_GDP": 1.149,
          "PC_HEALTHXP": 14.675999999999998,
          "TIME": 2007,
          "TOTAL_SPEND": 2289.31,
          "USD_CAP": 432.86699999999996
         },
         {
          "FLAG_CODES": null,
          "LOCATION": "FIN",
          "PC_GDP": 1.179,
          "PC_HEALTHXP": 14.585,
          "TIME": 2008,
          "TOTAL_SPEND": 2504.04,
          "USD_CAP": 471.269
         },
         {
          "FLAG_CODES": null,
          "LOCATION": "FIN",
          "PC_GDP": 1.247,
          "PC_HEALTHXP": 14.059000000000001,
          "TIME": 2009,
          "TOTAL_SPEND": 2521.77,
          "USD_CAP": 472.342
         },
         {
          "FLAG_CODES": null,
          "LOCATION": "FIN",
          "PC_GDP": 1.198,
          "PC_HEALTHXP": 13.512,
          "TIME": 2010,
          "TOTAL_SPEND": 2494.52,
          "USD_CAP": 465.105
         },
         {
          "FLAG_CODES": null,
          "LOCATION": "FIN",
          "PC_GDP": 1.156,
          "PC_HEALTHXP": 12.919,
          "TIME": 2011,
          "TOTAL_SPEND": 2534.33,
          "USD_CAP": 470.342
         },
         {
          "FLAG_CODES": null,
          "LOCATION": "FIN",
          "PC_GDP": 1.173,
          "PC_HEALTHXP": 12.622,
          "TIME": 2012,
          "TOTAL_SPEND": 2578.99,
          "USD_CAP": 476.358
         },
         {
          "FLAG_CODES": null,
          "LOCATION": "FIN",
          "PC_GDP": 1.1840000000000002,
          "PC_HEALTHXP": 12.470999999999998,
          "TIME": 2013,
          "TOTAL_SPEND": 2658.62,
          "USD_CAP": 488.809
         },
         {
          "FLAG_CODES": null,
          "LOCATION": "FIN",
          "PC_GDP": 1.169,
          "PC_HEALTHXP": 12.327,
          "TIME": 2014,
          "TOTAL_SPEND": 2649.45,
          "USD_CAP": 485.11300000000006
         },
         {
          "FLAG_CODES": null,
          "LOCATION": "FIN",
          "PC_GDP": 1.185,
          "PC_HEALTHXP": 12.546,
          "TIME": 2015,
          "TOTAL_SPEND": 2745.26,
          "USD_CAP": 501.00300000000004
         },
         {
          "FLAG_CODES": null,
          "LOCATION": "FRA",
          "PC_GDP": 1.266,
          "PC_HEALTHXP": 24.413,
          "TIME": 1970,
          "TOTAL_SPEND": 2455.64,
          "USD_CAP": 47.192
         },
         {
          "FLAG_CODES": null,
          "LOCATION": "FRA",
          "PC_GDP": 1.273,
          "PC_HEALTHXP": 20.741,
          "TIME": 1975,
          "TOTAL_SPEND": 4111.26,
          "USD_CAP": 75.78
         },
         {
          "FLAG_CODES": null,
          "LOCATION": "FRA",
          "PC_GDP": 1.104,
          "PC_HEALTHXP": 16.389,
          "TIME": 1980,
          "TOTAL_SPEND": 5936.79,
          "USD_CAP": 107.277
         },
         {
          "FLAG_CODES": null,
          "LOCATION": "FRA",
          "PC_GDP": 1.2670000000000001,
          "PC_HEALTHXP": 16.577,
          "TIME": 1985,
          "TOTAL_SPEND": 9526.23,
          "USD_CAP": 167.72799999999998
         },
         {
          "FLAG_CODES": null,
          "LOCATION": "FRA",
          "PC_GDP": 1.375,
          "PC_HEALTHXP": 17.282,
          "TIME": 1990,
          "TOTAL_SPEND": 14280.11,
          "USD_CAP": 244.051
         },
         {
          "FLAG_CODES": null,
          "LOCATION": "FRA",
          "PC_GDP": 1.4480000000000002,
          "PC_HEALTHXP": 17.702,
          "TIME": 1991,
          "TOTAL_SPEND": 15632,
          "USD_CAP": 266.943
         },
         {
          "FLAG_CODES": null,
          "LOCATION": "FRA",
          "PC_GDP": 1.48,
          "PC_HEALTHXP": 17.619,
          "TIME": 1992,
          "TOTAL_SPEND": 16608.4,
          "USD_CAP": 282.21
         },
         {
          "FLAG_CODES": null,
          "LOCATION": "FRA",
          "PC_GDP": 1.5859999999999999,
          "PC_HEALTHXP": 18.002,
          "TIME": 1993,
          "TOTAL_SPEND": 18103.16,
          "USD_CAP": 306.279
         },
         {
          "FLAG_CODES": null,
          "LOCATION": "FRA",
          "PC_GDP": 1.574,
          "PC_HEALTHXP": 17.898,
          "TIME": 1994,
          "TOTAL_SPEND": 18780.62,
          "USD_CAP": 316.56
         },
         {
          "FLAG_CODES": "B",
          "LOCATION": "FRA",
          "PC_GDP": 1.5130000000000001,
          "PC_HEALTHXP": 15.392999999999999,
          "TIME": 1995,
          "TOTAL_SPEND": 18819.47,
          "USD_CAP": 316.07099999999997
         },
         {
          "FLAG_CODES": null,
          "LOCATION": "FRA",
          "PC_GDP": 1.4969999999999999,
          "PC_HEALTHXP": 15.224,
          "TIME": 1996,
          "TOTAL_SPEND": 19226.75,
          "USD_CAP": 321.77
         },
         {
          "FLAG_CODES": null,
          "LOCATION": "FRA",
          "PC_GDP": 1.501,
          "PC_HEALTHXP": 15.462,
          "TIME": 1997,
          "TOTAL_SPEND": 20159.1,
          "USD_CAP": 336.18199999999996
         },
         {
          "FLAG_CODES": null,
          "LOCATION": "FRA",
          "PC_GDP": 1.525,
          "PC_HEALTHXP": 15.872,
          "TIME": 1998,
          "TOTAL_SPEND": 21580.16,
          "USD_CAP": 358.556
         },
         {
          "FLAG_CODES": null,
          "LOCATION": "FRA",
          "PC_GDP": 1.5759999999999998,
          "PC_HEALTHXP": 16.395,
          "TIME": 1999,
          "TOTAL_SPEND": 23345.44,
          "USD_CAP": 385.89599999999996
         },
         {
          "FLAG_CODES": null,
          "LOCATION": "FRA",
          "PC_GDP": 1.6119999999999999,
          "PC_HEALTHXP": 16.899,
          "TIME": 2000,
          "TOTAL_SPEND": 25787.79,
          "USD_CAP": 423.358
         },
         {
          "FLAG_CODES": null,
          "LOCATION": "FRA",
          "PC_GDP": 1.675,
          "PC_HEALTHXP": 17.333,
          "TIME": 2001,
          "TOTAL_SPEND": 28523.97,
          "USD_CAP": 464.88199999999995
         },
         {
          "FLAG_CODES": null,
          "LOCATION": "FRA",
          "PC_GDP": 1.716,
          "PC_HEALTHXP": 17.188,
          "TIME": 2002,
          "TOTAL_SPEND": 30447.25,
          "USD_CAP": 492.63199999999995
         },
         {
          "FLAG_CODES": "B",
          "LOCATION": "FRA",
          "PC_GDP": 1.7630000000000001,
          "PC_HEALTHXP": 17.559,
          "TIME": 2003,
          "TOTAL_SPEND": 31094.12,
          "USD_CAP": 499.545
         },
         {
          "FLAG_CODES": null,
          "LOCATION": "FRA",
          "PC_GDP": 1.785,
          "PC_HEALTHXP": 17.63,
          "TIME": 2004,
          "TOTAL_SPEND": 32737.41,
          "USD_CAP": 522.087
         },
         {
          "FLAG_CODES": null,
          "LOCATION": "FRA",
          "PC_GDP": 1.788,
          "PC_HEALTHXP": 17.567999999999998,
          "TIME": 2005,
          "TOTAL_SPEND": 34677.44,
          "USD_CAP": 548.873
         },
         {
          "FLAG_CODES": "B",
          "LOCATION": "FRA",
          "PC_GDP": 1.74,
          "PC_HEALTHXP": 17.322,
          "TIME": 2006,
          "TOTAL_SPEND": 36131.6,
          "USD_CAP": 567.9159999999999
         },
         {
          "FLAG_CODES": null,
          "LOCATION": "FRA",
          "PC_GDP": 1.714,
          "PC_HEALTHXP": 17.21,
          "TIME": 2007,
          "TOTAL_SPEND": 37592.44,
          "USD_CAP": 587.2330000000001
         },
         {
          "FLAG_CODES": null,
          "LOCATION": "FRA",
          "PC_GDP": 1.722,
          "PC_HEALTHXP": 17.044,
          "TIME": 2008,
          "TOTAL_SPEND": 39087.08,
          "USD_CAP": 607.178
         },
         {
          "FLAG_CODES": null,
          "LOCATION": "FRA",
          "PC_GDP": 1.796,
          "PC_HEALTHXP": 16.623,
          "TIME": 2009,
          "TOTAL_SPEND": 40538.83,
          "USD_CAP": 626.498
         },
         {
          "FLAG_CODES": null,
          "LOCATION": "FRA",
          "PC_GDP": 1.7519999999999998,
          "PC_HEALTHXP": 16.358,
          "TIME": 2010,
          "TOTAL_SPEND": 41187.97,
          "USD_CAP": 633.393
         },
         {
          "FLAG_CODES": null,
          "LOCATION": "FRA",
          "PC_GDP": 1.724,
          "PC_HEALTHXP": 16.072,
          "TIME": 2011,
          "TOTAL_SPEND": 42331.99,
          "USD_CAP": 647.845
         },
         {
          "FLAG_CODES": null,
          "LOCATION": "FRA",
          "PC_GDP": 1.686,
          "PC_HEALTHXP": 15.572000000000001,
          "TIME": 2012,
          "TOTAL_SPEND": 41816.09,
          "USD_CAP": 636.86
         },
         {
          "FLAG_CODES": null,
          "LOCATION": "FRA",
          "PC_GDP": 1.639,
          "PC_HEALTHXP": 14.995,
          "TIME": 2013,
          "TOTAL_SPEND": 42859.67,
          "USD_CAP": 649.403
         },
         {
          "FLAG_CODES": null,
          "LOCATION": "FRA",
          "PC_GDP": 1.666,
          "PC_HEALTHXP": 15.009,
          "TIME": 2014,
          "TOTAL_SPEND": 44445.2,
          "USD_CAP": 670.0419999999999
         },
         {
          "FLAG_CODES": null,
          "LOCATION": "FRA",
          "PC_GDP": 1.631,
          "PC_HEALTHXP": 14.738,
          "TIME": 2015,
          "TOTAL_SPEND": 44474.96,
          "USD_CAP": 667.551
         },
         {
          "FLAG_CODES": null,
          "LOCATION": "DEU",
          "PC_GDP": 0.971,
          "PC_HEALTHXP": 17.002,
          "TIME": 1970,
          "TOTAL_SPEND": 3501.12,
          "USD_CAP": 44.788999999999994
         },
         {
          "FLAG_CODES": null,
          "LOCATION": "DEU",
          "PC_GDP": 1.004,
          "PC_HEALTHXP": 16.225,
          "TIME": 1971,
          "TOTAL_SPEND": 3917.76,
          "USD_CAP": 50.027
         },
         {
          "FLAG_CODES": null,
          "LOCATION": "DEU",
          "PC_GDP": 1.032,
          "PC_HEALTHXP": 15.850999999999999,
          "TIME": 1972,
          "TOTAL_SPEND": 4374.61,
          "USD_CAP": 55.593999999999994
         },
         {
          "FLAG_CODES": null,
          "LOCATION": "DEU",
          "PC_GDP": 1.044,
          "PC_HEALTHXP": 15.289000000000001,
          "TIME": 1973,
          "TOTAL_SPEND": 4882,
          "USD_CAP": 61.847
         },
         {
          "FLAG_CODES": null,
          "LOCATION": "DEU",
          "PC_GDP": 1.094,
          "PC_HEALTHXP": 14.880999999999998,
          "TIME": 1974,
          "TOTAL_SPEND": 5620.43,
          "USD_CAP": 71.17399999999999
         },
         {
          "FLAG_CODES": null,
          "LOCATION": "DEU",
          "PC_GDP": 1.149,
          "PC_HEALTHXP": 14.332,
          "TIME": 1975,
          "TOTAL_SPEND": 6392.23,
          "USD_CAP": 81.25
         },
         {
          "FLAG_CODES": null,
          "LOCATION": "DEU",
          "PC_GDP": 1.1440000000000001,
          "PC_HEALTHXP": 14.234000000000002,
          "TIME": 1976,
          "TOTAL_SPEND": 7048.21,
          "USD_CAP": 89.973
         },
         {
          "FLAG_CODES": null,
          "LOCATION": "DEU",
          "PC_GDP": 1.104,
          "PC_HEALTHXP": 13.85,
          "TIME": 1977,
          "TOTAL_SPEND": 7465.9,
          "USD_CAP": 95.521
         },
         {
          "FLAG_CODES": null,
          "LOCATION": "DEU",
          "PC_GDP": 1.123,
          "PC_HEALTHXP": 13.955,
          "TIME": 1978,
          "TOTAL_SPEND": 8371.99,
          "USD_CAP": 107.20700000000001
         },
         {
          "FLAG_CODES": null,
          "LOCATION": "DEU",
          "PC_GDP": 1.0959999999999999,
          "PC_HEALTHXP": 13.880999999999998,
          "TIME": 1979,
          "TOTAL_SPEND": 9214.07,
          "USD_CAP": 117.93799999999999
         },
         {
          "FLAG_CODES": null,
          "LOCATION": "DEU",
          "PC_GDP": 1.125,
          "PC_HEALTHXP": 13.895,
          "TIME": 1980,
          "TOTAL_SPEND": 10447.22,
          "USD_CAP": 133.445
         },
         {
          "FLAG_CODES": null,
          "LOCATION": "DEU",
          "PC_GDP": 1.1740000000000002,
          "PC_HEALTHXP": 13.98,
          "TIME": 1981,
          "TOTAL_SPEND": 11971.87,
          "USD_CAP": 152.687
         },
         {
          "FLAG_CODES": null,
          "LOCATION": "DEU",
          "PC_GDP": 1.151,
          "PC_HEALTHXP": 13.99,
          "TIME": 1982,
          "TOTAL_SPEND": 12417.41,
          "USD_CAP": 158.52
         },
         {
          "FLAG_CODES": null,
          "LOCATION": "DEU",
          "PC_GDP": 1.168,
          "PC_HEALTHXP": 14.21,
          "TIME": 1983,
          "TOTAL_SPEND": 13312.98,
          "USD_CAP": 170.399
         },
         {
          "FLAG_CODES": null,
          "LOCATION": "DEU",
          "PC_GDP": 1.19,
          "PC_HEALTHXP": 14.27,
          "TIME": 1984,
          "TOTAL_SPEND": 14444.58,
          "USD_CAP": 185.523
         },
         {
          "FLAG_CODES": null,
          "LOCATION": "DEU",
          "PC_GDP": 1.213,
          "PC_HEALTHXP": 14.302,
          "TIME": 1985,
          "TOTAL_SPEND": 15555.31,
          "USD_CAP": 200.236
         },
         {
          "FLAG_CODES": null,
          "LOCATION": "DEU",
          "PC_GDP": 1.203,
          "PC_HEALTHXP": 14.357000000000001,
          "TIME": 1986,
          "TOTAL_SPEND": 16087.82,
          "USD_CAP": 206.99599999999998
         },
         {
          "FLAG_CODES": null,
          "LOCATION": "DEU",
          "PC_GDP": 1.237,
          "PC_HEALTHXP": 14.592,
          "TIME": 1987,
          "TOTAL_SPEND": 17209.86,
          "USD_CAP": 221.093
         },
         {
          "FLAG_CODES": null,
          "LOCATION": "DEU",
          "PC_GDP": 1.2670000000000001,
          "PC_HEALTHXP": 14.634,
          "TIME": 1988,
          "TOTAL_SPEND": 18904.82,
          "USD_CAP": 241.921
         },
         {
          "FLAG_CODES": null,
          "LOCATION": "DEU",
          "PC_GDP": 1.195,
          "PC_HEALTHXP": 14.819,
          "TIME": 1989,
          "TOTAL_SPEND": 19162.39,
          "USD_CAP": 243.328
         },
         {
          "FLAG_CODES": null,
          "LOCATION": "DEU",
          "PC_GDP": 1.181,
          "PC_HEALTHXP": 14.709000000000001,
          "TIME": 1990,
          "TOTAL_SPEND": 20524.7,
          "USD_CAP": 258.39
         },
         {
          "FLAG_CODES": "B",
          "LOCATION": "DEU",
          "PC_GDP": 1.3880000000000001,
          "PC_HEALTHXP": 15.365,
          "TIME": 1992,
          "TOTAL_SPEND": 24276.23,
          "USD_CAP": 301.10200000000003
         },
         {
          "FLAG_CODES": null,
          "LOCATION": "DEU",
          "PC_GDP": 1.239,
          "PC_HEALTHXP": 13.770999999999999,
          "TIME": 1993,
          "TOTAL_SPEND": 22008.79,
          "USD_CAP": 271.19
         },
         {
          "FLAG_CODES": null,
          "LOCATION": "DEU",
          "PC_GDP": 1.236,
          "PC_HEALTHXP": 13.388,
          "TIME": 1994,
          "TOTAL_SPEND": 22996.32,
          "USD_CAP": 282.377
         },
         {
          "FLAG_CODES": null,
          "LOCATION": "DEU",
          "PC_GDP": 1.253,
          "PC_HEALTHXP": 13.175999999999998,
          "TIME": 1995,
          "TOTAL_SPEND": 24228.65,
          "USD_CAP": 296.63599999999997
         },
         {
          "FLAG_CODES": null,
          "LOCATION": "DEU",
          "PC_GDP": 1.318,
          "PC_HEALTHXP": 13.456,
          "TIME": 1996,
          "TOTAL_SPEND": 26181.54,
          "USD_CAP": 319.619
         },
         {
          "FLAG_CODES": null,
          "LOCATION": "DEU",
          "PC_GDP": 1.301,
          "PC_HEALTHXP": 13.439,
          "TIME": 1997,
          "TOTAL_SPEND": 26445.22,
          "USD_CAP": 322.366
         },
         {
          "FLAG_CODES": null,
          "LOCATION": "DEU",
          "PC_GDP": 1.354,
          "PC_HEALTHXP": 13.956,
          "TIME": 1998,
          "TOTAL_SPEND": 28378.24,
          "USD_CAP": 345.87699999999995
         },
         {
          "FLAG_CODES": null,
          "LOCATION": "DEU",
          "PC_GDP": 1.367,
          "PC_HEALTHXP": 13.995999999999999,
          "TIME": 1999,
          "TOTAL_SPEND": 29832.77,
          "USD_CAP": 363.37
         },
         {
          "FLAG_CODES": null,
          "LOCATION": "DEU",
          "PC_GDP": 1.386,
          "PC_HEALTHXP": 14.082,
          "TIME": 2000,
          "TOTAL_SPEND": 31359.99,
          "USD_CAP": 381.455
         },
         {
          "FLAG_CODES": null,
          "LOCATION": "DEU",
          "PC_GDP": 1.4509999999999998,
          "PC_HEALTHXP": 14.692,
          "TIME": 2001,
          "TOTAL_SPEND": 34449.36,
          "USD_CAP": 418.329
         },
         {
          "FLAG_CODES": null,
          "LOCATION": "DEU",
          "PC_GDP": 1.51,
          "PC_HEALTHXP": 14.915999999999999,
          "TIME": 2002,
          "TOTAL_SPEND": 36931.67,
          "USD_CAP": 447.719
         },
         {
          "FLAG_CODES": null,
          "LOCATION": "DEU",
          "PC_GDP": 1.547,
          "PC_HEALTHXP": 14.936,
          "TIME": 2003,
          "TOTAL_SPEND": 38753.26,
          "USD_CAP": 469.542
         },
         {
          "FLAG_CODES": null,
          "LOCATION": "DEU",
          "PC_GDP": 1.454,
          "PC_HEALTHXP": 14.347999999999999,
          "TIME": 2004,
          "TOTAL_SPEND": 38199,
          "USD_CAP": 462.92699999999996
         },
         {
          "FLAG_CODES": null,
          "LOCATION": "DEU",
          "PC_GDP": 1.581,
          "PC_HEALTHXP": 15.387,
          "TIME": 2005,
          "TOTAL_SPEND": 42263.93,
          "USD_CAP": 512.48
         },
         {
          "FLAG_CODES": null,
          "LOCATION": "DEU",
          "PC_GDP": 1.518,
          "PC_HEALTHXP": 14.982999999999999,
          "TIME": 2006,
          "TOTAL_SPEND": 43465.6,
          "USD_CAP": 527.646
         },
         {
          "FLAG_CODES": null,
          "LOCATION": "DEU",
          "PC_GDP": 1.53,
          "PC_HEALTHXP": 15.321,
          "TIME": 2007,
          "TOTAL_SPEND": 46574.2,
          "USD_CAP": 566.139
         },
         {
          "FLAG_CODES": null,
          "LOCATION": "DEU",
          "PC_GDP": 1.5619999999999998,
          "PC_HEALTHXP": 15.339,
          "TIME": 2008,
          "TOTAL_SPEND": 49573.31,
          "USD_CAP": 603.742
         },
         {
          "FLAG_CODES": null,
          "LOCATION": "DEU",
          "PC_GDP": 1.6980000000000002,
          "PC_HEALTHXP": 15.207,
          "TIME": 2009,
          "TOTAL_SPEND": 52481.61,
          "USD_CAP": 640.783
         },
         {
          "FLAG_CODES": null,
          "LOCATION": "DEU",
          "PC_GDP": 1.652,
          "PC_HEALTHXP": 14.968,
          "TIME": 2010,
          "TOTAL_SPEND": 54019.47,
          "USD_CAP": 660.571
         },
         {
          "FLAG_CODES": null,
          "LOCATION": "DEU",
          "PC_GDP": 1.5319999999999998,
          "PC_HEALTHXP": 14.255,
          "TIME": 2011,
          "TOTAL_SPEND": 52504.09,
          "USD_CAP": 654.053
         },
         {
          "FLAG_CODES": null,
          "LOCATION": "DEU",
          "PC_GDP": 1.524,
          "PC_HEALTHXP": 14.102,
          "TIME": 2012,
          "TOTAL_SPEND": 53384.81,
          "USD_CAP": 663.7769999999999
         },
         {
          "FLAG_CODES": null,
          "LOCATION": "DEU",
          "PC_GDP": 1.535,
          "PC_HEALTHXP": 13.995,
          "TIME": 2013,
          "TOTAL_SPEND": 55993.7,
          "USD_CAP": 694.318
         },
         {
          "FLAG_CODES": null,
          "LOCATION": "DEU",
          "PC_GDP": 1.587,
          "PC_HEALTHXP": 14.359000000000002,
          "TIME": 2014,
          "TOTAL_SPEND": 60469.96,
          "USD_CAP": 746.704
         },
         {
          "FLAG_CODES": null,
          "LOCATION": "DEU",
          "PC_GDP": 1.5959999999999999,
          "PC_HEALTHXP": 14.31,
          "TIME": 2015,
          "TOTAL_SPEND": 62569.49,
          "USD_CAP": 765.97
         },
         {
          "FLAG_CODES": null,
          "LOCATION": "GRC",
          "PC_GDP": 0.8440000000000001,
          "PC_HEALTHXP": 15.392999999999999,
          "TIME": 1988,
          "TOTAL_SPEND": 1023.01,
          "USD_CAP": 101.92399999999999
         },
         {
          "FLAG_CODES": null,
          "LOCATION": "GRC",
          "PC_GDP": 0.851,
          "PC_HEALTHXP": 14.147,
          "TIME": 1989,
          "TOTAL_SPEND": 1111.77,
          "USD_CAP": 110.191
         },
         {
          "FLAG_CODES": null,
          "LOCATION": "GRC",
          "PC_GDP": 0.907,
          "PC_HEALTHXP": 14.942,
          "TIME": 1990,
          "TOTAL_SPEND": 1229.03,
          "USD_CAP": 120.531
         },
         {
          "FLAG_CODES": null,
          "LOCATION": "GRC",
          "PC_GDP": 1.012,
          "PC_HEALTHXP": 17.082,
          "TIME": 1991,
          "TOTAL_SPEND": 1460.6,
          "USD_CAP": 141.532
         },
         {
          "FLAG_CODES": null,
          "LOCATION": "GRC",
          "PC_GDP": 1.1540000000000001,
          "PC_HEALTHXP": 17.802,
          "TIME": 1992,
          "TOTAL_SPEND": 1715.27,
          "USD_CAP": 164.945
         },
         {
          "FLAG_CODES": null,
          "LOCATION": "GRC",
          "PC_GDP": 1.2570000000000001,
          "PC_HEALTHXP": 17.283,
          "TIME": 1993,
          "TOTAL_SPEND": 1882.5,
          "USD_CAP": 179.96400000000003
         },
         {
          "FLAG_CODES": null,
          "LOCATION": "GRC",
          "PC_GDP": 1.335,
          "PC_HEALTHXP": 16.73,
          "TIME": 1994,
          "TOTAL_SPEND": 2082.57,
          "USD_CAP": 198.09599999999998
         },
         {
          "FLAG_CODES": null,
          "LOCATION": "GRC",
          "PC_GDP": 1.3,
          "PC_HEALTHXP": 16.305,
          "TIME": 1995,
          "TOTAL_SPEND": 2114.65,
          "USD_CAP": 200.21
         },
         {
          "FLAG_CODES": null,
          "LOCATION": "GRC",
          "PC_GDP": 1.315,
          "PC_HEALTHXP": 16.692999999999998,
          "TIME": 1996,
          "TOTAL_SPEND": 2250.35,
          "USD_CAP": 212.12099999999998
         },
         {
          "FLAG_CODES": null,
          "LOCATION": "GRC",
          "PC_GDP": 1.298,
          "PC_HEALTHXP": 16.871,
          "TIME": 1997,
          "TOTAL_SPEND": 2372.25,
          "USD_CAP": 222.511
         },
         {
          "FLAG_CODES": null,
          "LOCATION": "GRC",
          "PC_GDP": 1.097,
          "PC_HEALTHXP": 14.475,
          "TIME": 1998,
          "TOTAL_SPEND": 2118.46,
          "USD_CAP": 197.608
         },
         {
          "FLAG_CODES": null,
          "LOCATION": "GRC",
          "PC_GDP": 1.171,
          "PC_HEALTHXP": 15.079,
          "TIME": 1999,
          "TOTAL_SPEND": 2325.93,
          "USD_CAP": 216.13
         },
         {
          "FLAG_CODES": null,
          "LOCATION": "GRC",
          "PC_GDP": 1.439,
          "PC_HEALTHXP": 19.871,
          "TIME": 2000,
          "TOTAL_SPEND": 3033.44,
          "USD_CAP": 280.723
         },
         {
          "FLAG_CODES": null,
          "LOCATION": "GRC",
          "PC_GDP": 1.524,
          "PC_HEALTHXP": 19.075,
          "TIME": 2001,
          "TOTAL_SPEND": 3477.6,
          "USD_CAP": 320.158
         },
         {
          "FLAG_CODES": null,
          "LOCATION": "GRC",
          "PC_GDP": 1.643,
          "PC_HEALTHXP": 19.949,
          "TIME": 2002,
          "TOTAL_SPEND": 4049.98,
          "USD_CAP": 371.48900000000003
         },
         {
          "FLAG_CODES": null,
          "LOCATION": "GRC",
          "PC_GDP": 1.7530000000000001,
          "PC_HEALTHXP": 21.388,
          "TIME": 2003,
          "TOTAL_SPEND": 4573.67,
          "USD_CAP": 418.525
         },
         {
          "FLAG_CODES": null,
          "LOCATION": "GRC",
          "PC_GDP": 1.827,
          "PC_HEALTHXP": 23.038,
          "TIME": 2004,
          "TOTAL_SPEND": 5096.05,
          "USD_CAP": 465.17400000000004
         },
         {
          "FLAG_CODES": null,
          "LOCATION": "GRC",
          "PC_GDP": 2.01,
          "PC_HEALTHXP": 22.338,
          "TIME": 2005,
          "TOTAL_SPEND": 5647.59,
          "USD_CAP": 514.01
         },
         {
          "FLAG_CODES": null,
          "LOCATION": "GRC",
          "PC_GDP": 2.117,
          "PC_HEALTHXP": 23.613000000000003,
          "TIME": 2006,
          "TOTAL_SPEND": 6657.28,
          "USD_CAP": 604.089
         },
         {
          "FLAG_CODES": null,
          "LOCATION": "GRC",
          "PC_GDP": 2.3369999999999997,
          "PC_HEALTHXP": 25.798000000000002,
          "TIME": 2007,
          "TOTAL_SPEND": 7561.59,
          "USD_CAP": 684.4010000000001
         },
         {
          "FLAG_CODES": "B",
          "LOCATION": "GRC",
          "PC_GDP": 2.573,
          "PC_HEALTHXP": 27.171,
          "TIME": 2009,
          "TOTAL_SPEND": 8685.81,
          "USD_CAP": 782.0110000000001
         },
         {
          "FLAG_CODES": null,
          "LOCATION": "GRC",
          "PC_GDP": 2.737,
          "PC_HEALTHXP": 28.633000000000003,
          "TIME": 2010,
          "TOTAL_SPEND": 8585.64,
          "USD_CAP": 771.997
         },
         {
          "FLAG_CODES": null,
          "LOCATION": "GRC",
          "PC_GDP": 2.7969999999999997,
          "PC_HEALTHXP": 30.741999999999997,
          "TIME": 2011,
          "TOTAL_SPEND": 8119.45,
          "USD_CAP": 731.159
         },
         {
          "FLAG_CODES": null,
          "LOCATION": "GRC",
          "PC_GDP": 2.55,
          "PC_HEALTHXP": 29.055,
          "TIME": 2012,
          "TOTAL_SPEND": 7121.24,
          "USD_CAP": 644.747
         },
         {
          "FLAG_CODES": null,
          "LOCATION": "GRC",
          "PC_GDP": 2.312,
          "PC_HEALTHXP": 27.741999999999997,
          "TIME": 2013,
          "TOTAL_SPEND": 6617.6,
          "USD_CAP": 603.509
         },
         {
          "FLAG_CODES": null,
          "LOCATION": "GRC",
          "PC_GDP": 2.12,
          "PC_HEALTHXP": 26.701,
          "TIME": 2014,
          "TOTAL_SPEND": 6104.49,
          "USD_CAP": 560.435
         },
         {
          "FLAG_CODES": null,
          "LOCATION": "GRC",
          "PC_GDP": 2.17,
          "PC_HEALTHXP": 25.878,
          "TIME": 2015,
          "TOTAL_SPEND": 6188.6,
          "USD_CAP": 571.913
         },
         {
          "FLAG_CODES": null,
          "LOCATION": "HUN",
          "PC_GDP": 1.9180000000000001,
          "PC_HEALTHXP": 30.084,
          "TIME": 1991,
          "TOTAL_SPEND": 1647.97,
          "USD_CAP": 158.865
         },
         {
          "FLAG_CODES": null,
          "LOCATION": "HUN",
          "PC_GDP": 1.9809999999999999,
          "PC_HEALTHXP": 28.857,
          "TIME": 1992,
          "TOTAL_SPEND": 1687.65,
          "USD_CAP": 162.754
         },
         {
          "FLAG_CODES": null,
          "LOCATION": "HUN",
          "PC_GDP": 2.127,
          "PC_HEALTHXP": 30.694000000000003,
          "TIME": 1993,
          "TOTAL_SPEND": 1844.61,
          "USD_CAP": 178.09400000000002
         },
         {
          "FLAG_CODES": null,
          "LOCATION": "HUN",
          "PC_GDP": 2.248,
          "PC_HEALTHXP": 30.348000000000003,
          "TIME": 1994,
          "TOTAL_SPEND": 2049.23,
          "USD_CAP": 198.12
         },
         {
          "FLAG_CODES": null,
          "LOCATION": "HUN",
          "PC_GDP": 1.8019999999999998,
          "PC_HEALTHXP": 26.713,
          "TIME": 1995,
          "TOTAL_SPEND": 1701.85,
          "USD_CAP": 164.765
         },
         {
          "FLAG_CODES": null,
          "LOCATION": "HUN",
          "PC_GDP": 1.8159999999999998,
          "PC_HEALTHXP": 27.273000000000003,
          "TIME": 1996,
          "TOTAL_SPEND": 1744.87,
          "USD_CAP": 169.22
         },
         {
          "FLAG_CODES": null,
          "LOCATION": "HUN",
          "PC_GDP": 1.7469999999999999,
          "PC_HEALTHXP": 27.639,
          "TIME": 1997,
          "TOTAL_SPEND": 1760.03,
          "USD_CAP": 171.035
         },
         {
          "FLAG_CODES": null,
          "LOCATION": "HUN",
          "PC_GDP": 2.028,
          "PC_HEALTHXP": 29.674,
          "TIME": 2001,
          "TOTAL_SPEND": 2733,
          "USD_CAP": 268.268
         },
         {
          "FLAG_CODES": null,
          "LOCATION": "HUN",
          "PC_GDP": 2.063,
          "PC_HEALTHXP": 28.947,
          "TIME": 2002,
          "TOTAL_SPEND": 3041.88,
          "USD_CAP": 299.439
         },
         {
          "FLAG_CODES": "B",
          "LOCATION": "HUN",
          "PC_GDP": 2.247,
          "PC_HEALTHXP": 27.593000000000004,
          "TIME": 2003,
          "TOTAL_SPEND": 3509.21,
          "USD_CAP": 346.43300000000005
         },
         {
          "FLAG_CODES": null,
          "LOCATION": "HUN",
          "PC_GDP": 2.267,
          "PC_HEALTHXP": 29.108,
          "TIME": 2004,
          "TOTAL_SPEND": 3712.45,
          "USD_CAP": 367.309
         },
         {
          "FLAG_CODES": null,
          "LOCATION": "HUN",
          "PC_GDP": 2.511,
          "PC_HEALTHXP": 31.27,
          "TIME": 2005,
          "TOTAL_SPEND": 4308.7,
          "USD_CAP": 427.151
         },
         {
          "FLAG_CODES": null,
          "LOCATION": "HUN",
          "PC_GDP": 2.5069999999999997,
          "PC_HEALTHXP": 31.980999999999998,
          "TIME": 2006,
          "TOTAL_SPEND": 4603.52,
          "USD_CAP": 457.09
         },
         {
          "FLAG_CODES": null,
          "LOCATION": "HUN",
          "PC_GDP": 2.294,
          "PC_HEALTHXP": 31.616999999999997,
          "TIME": 2007,
          "TOTAL_SPEND": 4367.43,
          "USD_CAP": 434.32
         },
         {
          "FLAG_CODES": null,
          "LOCATION": "HUN",
          "PC_GDP": 2.2769999999999997,
          "PC_HEALTHXP": 31.912,
          "TIME": 2008,
          "TOTAL_SPEND": 4705.16,
          "USD_CAP": 468.726
         },
         {
          "FLAG_CODES": null,
          "LOCATION": "HUN",
          "PC_GDP": 2.394,
          "PC_HEALTHXP": 32.863,
          "TIME": 2009,
          "TOTAL_SPEND": 4935.52,
          "USD_CAP": 492.43699999999995
         },
         {
          "FLAG_CODES": "B",
          "LOCATION": "HUN",
          "PC_GDP": 2.515,
          "PC_HEALTHXP": 33.273,
          "TIME": 2010,
          "TOTAL_SPEND": 5398.56,
          "USD_CAP": 539.855
         },
         {
          "FLAG_CODES": null,
          "LOCATION": "HUN",
          "PC_GDP": 2.653,
          "PC_HEALTHXP": 35.001,
          "TIME": 2011,
          "TOTAL_SPEND": 6013.37,
          "USD_CAP": 603.0419999999999
         },
         {
          "FLAG_CODES": null,
          "LOCATION": "HUN",
          "PC_GDP": 2.443,
          "PC_HEALTHXP": 32.579,
          "TIME": 2012,
          "TOTAL_SPEND": 5572.72,
          "USD_CAP": 561.746
         },
         {
          "FLAG_CODES": null,
          "LOCATION": "HUN",
          "PC_GDP": 2.208,
          "PC_HEALTHXP": 30.293000000000003,
          "TIME": 2013,
          "TOTAL_SPEND": 5322.24,
          "USD_CAP": 537.976
         },
         {
          "FLAG_CODES": null,
          "LOCATION": "HUN",
          "PC_GDP": 2.155,
          "PC_HEALTHXP": 30.173000000000002,
          "TIME": 2014,
          "TOTAL_SPEND": 5419.57,
          "USD_CAP": 549.2919999999999
         },
         {
          "FLAG_CODES": null,
          "LOCATION": "HUN",
          "PC_GDP": 2.114,
          "PC_HEALTHXP": 29.215,
          "TIME": 2015,
          "TOTAL_SPEND": 5501.05,
          "USD_CAP": 558.878
         },
         {
          "FLAG_CODES": null,
          "LOCATION": "ISL",
          "PC_GDP": 0.792,
          "PC_HEALTHXP": 17.13,
          "TIME": 1970,
          "TOTAL_SPEND": 6.29,
          "USD_CAP": 30.756999999999998
         },
         {
          "FLAG_CODES": null,
          "LOCATION": "ISL",
          "PC_GDP": 0.8740000000000001,
          "PC_HEALTHXP": 17.31,
          "TIME": 1971,
          "TOTAL_SPEND": 8.25,
          "USD_CAP": 40.03
         },
         {
          "FLAG_CODES": null,
          "LOCATION": "ISL",
          "PC_GDP": 0.883,
          "PC_HEALTHXP": 17.838,
          "TIME": 1972,
          "TOTAL_SPEND": 9.23,
          "USD_CAP": 44.143
         },
         {
          "FLAG_CODES": null,
          "LOCATION": "ISL",
          "PC_GDP": 0.753,
          "PC_HEALTHXP": 16.597,
          "TIME": 1973,
          "TOTAL_SPEND": 8.86,
          "USD_CAP": 41.747
         },
         {
          "FLAG_CODES": null,
          "LOCATION": "ISL",
          "PC_GDP": 0.7140000000000001,
          "PC_HEALTHXP": 13.78,
          "TIME": 1974,
          "TOTAL_SPEND": 9.68,
          "USD_CAP": 44.978
         },
         {
          "FLAG_CODES": null,
          "LOCATION": "ISL",
          "PC_GDP": 0.9079999999999999,
          "PC_HEALTHXP": 16.23,
          "TIME": 1975,
          "TOTAL_SPEND": 13.54,
          "USD_CAP": 62.126000000000005
         },
         {
          "FLAG_CODES": null,
          "LOCATION": "ISL",
          "PC_GDP": 0.779,
          "PC_HEALTHXP": 14.845,
          "TIME": 1976,
          "TOTAL_SPEND": 12.99,
          "USD_CAP": 59.00899999999999
         },
         {
          "FLAG_CODES": null,
          "LOCATION": "ISL",
          "PC_GDP": 0.757,
          "PC_HEALTHXP": 14.552999999999999,
          "TIME": 1977,
          "TOTAL_SPEND": 14.57,
          "USD_CAP": 65.7
         },
         {
          "FLAG_CODES": null,
          "LOCATION": "ISL",
          "PC_GDP": 0.8109999999999999,
          "PC_HEALTHXP": 14.505,
          "TIME": 1978,
          "TOTAL_SPEND": 17.73,
          "USD_CAP": 79.316
         },
         {
          "FLAG_CODES": null,
          "LOCATION": "ISL",
          "PC_GDP": 0.855,
          "PC_HEALTHXP": 13.522,
          "TIME": 1979,
          "TOTAL_SPEND": 21.2,
          "USD_CAP": 93.934
         },
         {
          "FLAG_CODES": "B",
          "LOCATION": "ISL",
          "PC_GDP": 0.973,
          "PC_HEALTHXP": 16.628,
          "TIME": 1980,
          "TOTAL_SPEND": 27.84,
          "USD_CAP": 122.02600000000001
         },
         {
          "FLAG_CODES": null,
          "LOCATION": "ISL",
          "PC_GDP": 0.932,
          "PC_HEALTHXP": 15.575999999999999,
          "TIME": 1981,
          "TOTAL_SPEND": 30.37,
          "USD_CAP": 131.624
         },
         {
          "FLAG_CODES": null,
          "LOCATION": "ISL",
          "PC_GDP": 1.0090000000000001,
          "PC_HEALTHXP": 16.104,
          "TIME": 1982,
          "TOTAL_SPEND": 35.69,
          "USD_CAP": 152.618
         },
         {
          "FLAG_CODES": null,
          "LOCATION": "ISL",
          "PC_GDP": 1.251,
          "PC_HEALTHXP": 18.211,
          "TIME": 1983,
          "TOTAL_SPEND": 45.01,
          "USD_CAP": 189.94099999999997
         },
         {
          "FLAG_CODES": null,
          "LOCATION": "ISL",
          "PC_GDP": 1.105,
          "PC_HEALTHXP": 17.058,
          "TIME": 1984,
          "TOTAL_SPEND": 42.86,
          "USD_CAP": 178.928
         },
         {
          "FLAG_CODES": null,
          "LOCATION": "ISL",
          "PC_GDP": 1.168,
          "PC_HEALTHXP": 17.414,
          "TIME": 1985,
          "TOTAL_SPEND": 48.3,
          "USD_CAP": 200.058
         },
         {
          "FLAG_CODES": null,
          "LOCATION": "ISL",
          "PC_GDP": 1.182,
          "PC_HEALTHXP": 16.508,
          "TIME": 1986,
          "TOTAL_SPEND": 52.97,
          "USD_CAP": 217.82299999999998
         },
         {
          "FLAG_CODES": null,
          "LOCATION": "ISL",
          "PC_GDP": 1.125,
          "PC_HEALTHXP": 15.35,
          "TIME": 1987,
          "TOTAL_SPEND": 56.16,
          "USD_CAP": 228.429
         },
         {
          "FLAG_CODES": null,
          "LOCATION": "ISL",
          "PC_GDP": 1.162,
          "PC_HEALTHXP": 14.692,
          "TIME": 1988,
          "TOTAL_SPEND": 59.96,
          "USD_CAP": 240.078
         },
         {
          "FLAG_CODES": null,
          "LOCATION": "ISL",
          "PC_GDP": 1.187,
          "PC_HEALTHXP": 15.347000000000001,
          "TIME": 1989,
          "TOTAL_SPEND": 63.78,
          "USD_CAP": 252.262
         },
         {
          "FLAG_CODES": null,
          "LOCATION": "ISL",
          "PC_GDP": 1.032,
          "PC_HEALTHXP": 13.98,
          "TIME": 1990,
          "TOTAL_SPEND": 58.21,
          "USD_CAP": 228.449
         },
         {
          "FLAG_CODES": null,
          "LOCATION": "ISL",
          "PC_GDP": 0.966,
          "PC_HEALTHXP": 12.775,
          "TIME": 1991,
          "TOTAL_SPEND": 56.15,
          "USD_CAP": 217.79
         },
         {
          "FLAG_CODES": null,
          "LOCATION": "ISL",
          "PC_GDP": 1.033,
          "PC_HEALTHXP": 13.312999999999999,
          "TIME": 1992,
          "TOTAL_SPEND": 59.36,
          "USD_CAP": 227.372
         },
         {
          "FLAG_CODES": null,
          "LOCATION": "ISL",
          "PC_GDP": 1.003,
          "PC_HEALTHXP": 12.78,
          "TIME": 1993,
          "TOTAL_SPEND": 59.77,
          "USD_CAP": 226.653
         },
         {
          "FLAG_CODES": null,
          "LOCATION": "ISL",
          "PC_GDP": 1.03,
          "PC_HEALTHXP": 13.419,
          "TIME": 1994,
          "TOTAL_SPEND": 64.94,
          "USD_CAP": 244.128
         },
         {
          "FLAG_CODES": null,
          "LOCATION": "ISL",
          "PC_GDP": 1.0759999999999998,
          "PC_HEALTHXP": 13.794,
          "TIME": 1995,
          "TOTAL_SPEND": 69.32,
          "USD_CAP": 259.171
         },
         {
          "FLAG_CODES": null,
          "LOCATION": "ISL",
          "PC_GDP": 1.1179999999999999,
          "PC_HEALTHXP": 14.277000000000001,
          "TIME": 1996,
          "TOTAL_SPEND": 75.16,
          "USD_CAP": 279.501
         },
         {
          "FLAG_CODES": null,
          "LOCATION": "ISL",
          "PC_GDP": 1.198,
          "PC_HEALTHXP": 15.489,
          "TIME": 1997,
          "TOTAL_SPEND": 87.56,
          "USD_CAP": 322.933
         },
         {
          "FLAG_CODES": null,
          "LOCATION": "ISL",
          "PC_GDP": 1.232,
          "PC_HEALTHXP": 14.498,
          "TIME": 1998,
          "TOTAL_SPEND": 96.48,
          "USD_CAP": 352.048
         },
         {
          "FLAG_CODES": null,
          "LOCATION": "ISL",
          "PC_GDP": 1.2819999999999998,
          "PC_HEALTHXP": 14.402000000000001,
          "TIME": 1999,
          "TOTAL_SPEND": 104.48,
          "USD_CAP": 376.67900000000003
         },
         {
          "FLAG_CODES": null,
          "LOCATION": "ISL",
          "PC_GDP": 1.3359999999999999,
          "PC_HEALTHXP": 14.832,
          "TIME": 2000,
          "TOTAL_SPEND": 110.83,
          "USD_CAP": 394.13300000000004
         },
         {
          "FLAG_CODES": null,
          "LOCATION": "ISL",
          "PC_GDP": 1.2770000000000001,
          "PC_HEALTHXP": 14.384,
          "TIME": 2001,
          "TOTAL_SPEND": 115.1,
          "USD_CAP": 403.914
         },
         {
          "FLAG_CODES": null,
          "LOCATION": "ISL",
          "PC_GDP": 1.3769999999999998,
          "PC_HEALTHXP": 14.366,
          "TIME": 2002,
          "TOTAL_SPEND": 127.49,
          "USD_CAP": 443.416
         },
         {
          "FLAG_CODES": null,
          "LOCATION": "ISL",
          "PC_GDP": 1.536,
          "PC_HEALTHXP": 15.241,
          "TIME": 2003,
          "TOTAL_SPEND": 143.61,
          "USD_CAP": 496.023
         },
         {
          "FLAG_CODES": "D",
          "LOCATION": "ISL",
          "PC_GDP": 1.4709999999999999,
          "PC_HEALTHXP": 15.39,
          "TIME": 2004,
          "TOTAL_SPEND": 151.6,
          "USD_CAP": 519.038
         },
         {
          "FLAG_CODES": "D",
          "LOCATION": "ISL",
          "PC_GDP": 1.33,
          "PC_HEALTHXP": 14.433,
          "TIME": 2005,
          "TOTAL_SPEND": 145.86,
          "USD_CAP": 491.556
         },
         {
          "FLAG_CODES": "D",
          "LOCATION": "ISL",
          "PC_GDP": 1.268,
          "PC_HEALTHXP": 14.218,
          "TIME": 2006,
          "TOTAL_SPEND": 149.18,
          "USD_CAP": 491.06699999999995
         },
         {
          "FLAG_CODES": "D",
          "LOCATION": "ISL",
          "PC_GDP": 1.178,
          "PC_HEALTHXP": 13.505,
          "TIME": 2007,
          "TOTAL_SPEND": 149.44,
          "USD_CAP": 479.64
         },
         {
          "FLAG_CODES": "D",
          "LOCATION": "ISL",
          "PC_GDP": 1.27,
          "PC_HEALTHXP": 14.572000000000001,
          "TIME": 2008,
          "TOTAL_SPEND": 172.05,
          "USD_CAP": 542.052
         },
         {
          "FLAG_CODES": "D",
          "LOCATION": "ISL",
          "PC_GDP": 1.419,
          "PC_HEALTHXP": 15.665,
          "TIME": 2009,
          "TOTAL_SPEND": 185.59,
          "USD_CAP": 582.697
         },
         {
          "FLAG_CODES": "D",
          "LOCATION": "ISL",
          "PC_GDP": 1.393,
          "PC_HEALTHXP": 15.812999999999999,
          "TIME": 2010,
          "TOTAL_SPEND": 170.16,
          "USD_CAP": 535.019
         },
         {
          "FLAG_CODES": null,
          "LOCATION": "ISL",
          "PC_GDP": 1.3090000000000002,
          "PC_HEALTHXP": 15.148,
          "TIME": 2011,
          "TOTAL_SPEND": 164.81,
          "USD_CAP": 516.634
         },
         {
          "FLAG_CODES": "D",
          "LOCATION": "ISL",
          "PC_GDP": 1.256,
          "PC_HEALTHXP": 14.454,
          "TIME": 2012,
          "TOTAL_SPEND": 163.11,
          "USD_CAP": 508.582
         },
         {
          "FLAG_CODES": "D",
          "LOCATION": "ISL",
          "PC_GDP": 1.177,
          "PC_HEALTHXP": 13.530999999999999,
          "TIME": 2013,
          "TOTAL_SPEND": 162.42,
          "USD_CAP": 501.667
         },
         {
          "FLAG_CODES": "D",
          "LOCATION": "ISL",
          "PC_GDP": 1.105,
          "PC_HEALTHXP": 12.581,
          "TIME": 2014,
          "TOTAL_SPEND": 160.24,
          "USD_CAP": 489.466
         },
         {
          "FLAG_CODES": "D",
          "LOCATION": "ISL",
          "PC_GDP": 1.044,
          "PC_HEALTHXP": 12.126,
          "TIME": 2015,
          "TOTAL_SPEND": 164.69,
          "USD_CAP": 497.84
         },
         {
          "FLAG_CODES": null,
          "LOCATION": "IRL",
          "PC_GDP": 0.973,
          "PC_HEALTHXP": 14.749,
          "TIME": 1975,
          "TOTAL_SPEND": 123.62,
          "USD_CAP": 38.758
         },
         {
          "FLAG_CODES": null,
          "LOCATION": "IRL",
          "PC_GDP": 0.9570000000000001,
          "PC_HEALTHXP": 14.869000000000002,
          "TIME": 1976,
          "TOTAL_SPEND": 130.12,
          "USD_CAP": 40.184
         },
         {
          "FLAG_CODES": null,
          "LOCATION": "IRL",
          "PC_GDP": 0.903,
          "PC_HEALTHXP": 14.717,
          "TIME": 1977,
          "TOTAL_SPEND": 141.07,
          "USD_CAP": 42.979
         },
         {
          "FLAG_CODES": null,
          "LOCATION": "IRL",
          "PC_GDP": 0.917,
          "PC_HEALTHXP": 14.189,
          "TIME": 1978,
          "TOTAL_SPEND": 164.28,
          "USD_CAP": 49.346000000000004
         },
         {
          "FLAG_CODES": null,
          "LOCATION": "IRL",
          "PC_GDP": 0.897,
          "PC_HEALTHXP": 13.190999999999999,
          "TIME": 1979,
          "TOTAL_SPEND": 179.3,
          "USD_CAP": 53.145
         },
         {
          "FLAG_CODES": null,
          "LOCATION": "IRL",
          "PC_GDP": 0.878,
          "PC_HEALTHXP": 11.707,
          "TIME": 1980,
          "TOTAL_SPEND": 197.29,
          "USD_CAP": 57.809
         },
         {
          "FLAG_CODES": null,
          "LOCATION": "IRL",
          "PC_GDP": 0.747,
          "PC_HEALTHXP": 10.527000000000001,
          "TIME": 1981,
          "TOTAL_SPEND": 189.58,
          "USD_CAP": 54.903999999999996
         },
         {
          "FLAG_CODES": null,
          "LOCATION": "IRL",
          "PC_GDP": 0.733,
          "PC_HEALTHXP": 10.546,
          "TIME": 1982,
          "TOTAL_SPEND": 202.12,
          "USD_CAP": 57.985
         },
         {
          "FLAG_CODES": null,
          "LOCATION": "IRL",
          "PC_GDP": 0.705,
          "PC_HEALTHXP": 10.115,
          "TIME": 1983,
          "TOTAL_SPEND": 201.75,
          "USD_CAP": 57.468999999999994
         },
         {
          "FLAG_CODES": null,
          "LOCATION": "IRL",
          "PC_GDP": 0.716,
          "PC_HEALTHXP": 10.509,
          "TIME": 1984,
          "TOTAL_SPEND": 221.35,
          "USD_CAP": 62.663000000000004
         },
         {
          "FLAG_CODES": null,
          "LOCATION": "IRL",
          "PC_GDP": 0.72,
          "PC_HEALTHXP": 10.539000000000001,
          "TIME": 1985,
          "TOTAL_SPEND": 236.76,
          "USD_CAP": 66.917
         },
         {
          "FLAG_CODES": null,
          "LOCATION": "IRL",
          "PC_GDP": 0.7440000000000001,
          "PC_HEALTHXP": 11.044,
          "TIME": 1986,
          "TOTAL_SPEND": 248.58,
          "USD_CAP": 70.226
         },
         {
          "FLAG_CODES": null,
          "LOCATION": "IRL",
          "PC_GDP": 0.7440000000000001,
          "PC_HEALTHXP": 11.546,
          "TIME": 1987,
          "TOTAL_SPEND": 266.72,
          "USD_CAP": 75.344
         },
         {
          "FLAG_CODES": null,
          "LOCATION": "IRL",
          "PC_GDP": 0.737,
          "PC_HEALTHXP": 12.019,
          "TIME": 1988,
          "TOTAL_SPEND": 287.77,
          "USD_CAP": 81.637
         },
         {
          "FLAG_CODES": null,
          "LOCATION": "IRL",
          "PC_GDP": 0.748,
          "PC_HEALTHXP": 12.994000000000002,
          "TIME": 1989,
          "TOTAL_SPEND": 320.99,
          "USD_CAP": 91.42399999999999
         },
         {
          "FLAG_CODES": null,
          "LOCATION": "IRL",
          "PC_GDP": 0.7170000000000001,
          "PC_HEALTHXP": 12.777000000000001,
          "TIME": 1990,
          "TOTAL_SPEND": 345.86,
          "USD_CAP": 98.42299999999999
         },
         {
          "FLAG_CODES": null,
          "LOCATION": "IRL",
          "PC_GDP": 0.727,
          "PC_HEALTHXP": 11.995,
          "TIME": 1991,
          "TOTAL_SPEND": 369.48,
          "USD_CAP": 104.54299999999999
         },
         {
          "FLAG_CODES": null,
          "LOCATION": "IRL",
          "PC_GDP": 0.752,
          "PC_HEALTHXP": 11.890999999999998,
          "TIME": 1992,
          "TOTAL_SPEND": 403.82,
          "USD_CAP": 113.484
         },
         {
          "FLAG_CODES": null,
          "LOCATION": "IRL",
          "PC_GDP": 0.762,
          "PC_HEALTHXP": 11.968,
          "TIME": 1993,
          "TOTAL_SPEND": 430.69,
          "USD_CAP": 120.429
         },
         {
          "FLAG_CODES": null,
          "LOCATION": "IRL",
          "PC_GDP": 0.758,
          "PC_HEALTHXP": 12.097000000000001,
          "TIME": 1994,
          "TOTAL_SPEND": 462.7,
          "USD_CAP": 128.871
         },
         {
          "FLAG_CODES": null,
          "LOCATION": "IRL",
          "PC_GDP": 0.735,
          "PC_HEALTHXP": 12.044,
          "TIME": 1995,
          "TOTAL_SPEND": 501.73,
          "USD_CAP": 139.028
         },
         {
          "FLAG_CODES": null,
          "LOCATION": "IRL",
          "PC_GDP": 0.763,
          "PC_HEALTHXP": 12.882,
          "TIME": 1996,
          "TOTAL_SPEND": 568.6,
          "USD_CAP": 156.317
         },
         {
          "FLAG_CODES": null,
          "LOCATION": "IRL",
          "PC_GDP": 0.7340000000000001,
          "PC_HEALTHXP": 12.558,
          "TIME": 1997,
          "TOTAL_SPEND": 609.83,
          "USD_CAP": 165.977
         },
         {
          "FLAG_CODES": null,
          "LOCATION": "IRL",
          "PC_GDP": 0.745,
          "PC_HEALTHXP": 13.213,
          "TIME": 1998,
          "TOTAL_SPEND": 692.26,
          "USD_CAP": 186.457
         },
         {
          "FLAG_CODES": null,
          "LOCATION": "IRL",
          "PC_GDP": 0.78,
          "PC_HEALTHXP": 13.97,
          "TIME": 1999,
          "TOTAL_SPEND": 791.62,
          "USD_CAP": 210.83
         },
         {
          "FLAG_CODES": null,
          "LOCATION": "IRL",
          "PC_GDP": 0.8370000000000001,
          "PC_HEALTHXP": 14.175999999999998,
          "TIME": 2000,
          "TOTAL_SPEND": 960.58,
          "USD_CAP": 252.44099999999997
         },
         {
          "FLAG_CODES": null,
          "LOCATION": "IRL",
          "PC_GDP": 0.924,
          "PC_HEALTHXP": 14.435,
          "TIME": 2001,
          "TOTAL_SPEND": 1165.03,
          "USD_CAP": 301.335
         },
         {
          "FLAG_CODES": null,
          "LOCATION": "IRL",
          "PC_GDP": 0.987,
          "PC_HEALTHXP": 14.779000000000002,
          "TIME": 2002,
          "TOTAL_SPEND": 1365.75,
          "USD_CAP": 347.346
         },
         {
          "FLAG_CODES": null,
          "LOCATION": "IRL",
          "PC_GDP": 1.057,
          "PC_HEALTHXP": 15.088,
          "TIME": 2003,
          "TOTAL_SPEND": 1531.39,
          "USD_CAP": 383.18199999999996
         },
         {
          "FLAG_CODES": null,
          "LOCATION": "IRL",
          "PC_GDP": 1.131,
          "PC_HEALTHXP": 15.655,
          "TIME": 2004,
          "TOTAL_SPEND": 1781.53,
          "USD_CAP": 437.694
         },
         {
          "FLAG_CODES": null,
          "LOCATION": "IRL",
          "PC_GDP": 1.183,
          "PC_HEALTHXP": 15.472999999999999,
          "TIME": 2005,
          "TOTAL_SPEND": 1990.56,
          "USD_CAP": 478.51099999999997
         },
         {
          "FLAG_CODES": null,
          "LOCATION": "IRL",
          "PC_GDP": 1.237,
          "PC_HEALTHXP": 16.465,
          "TIME": 2006,
          "TOTAL_SPEND": 2338.28,
          "USD_CAP": 547.146
         },
         {
          "FLAG_CODES": null,
          "LOCATION": "IRL",
          "PC_GDP": 1.276,
          "PC_HEALTHXP": 16.355999999999998,
          "TIME": 2007,
          "TOTAL_SPEND": 2623.91,
          "USD_CAP": 596.486
         },
         {
          "FLAG_CODES": null,
          "LOCATION": "IRL",
          "PC_GDP": 1.453,
          "PC_HEALTHXP": 15.953,
          "TIME": 2008,
          "TOTAL_SPEND": 2886.94,
          "USD_CAP": 643.036
         },
         {
          "FLAG_CODES": null,
          "LOCATION": "IRL",
          "PC_GDP": 1.591,
          "PC_HEALTHXP": 15.135,
          "TIME": 2009,
          "TOTAL_SPEND": 2999.13,
          "USD_CAP": 661.2760000000001
         },
         {
          "FLAG_CODES": null,
          "LOCATION": "IRL",
          "PC_GDP": 1.5619999999999998,
          "PC_HEALTHXP": 14.815,
          "TIME": 2010,
          "TOTAL_SPEND": 3077.9,
          "USD_CAP": 674.956
         },
         {
          "FLAG_CODES": null,
          "LOCATION": "IRL",
          "PC_GDP": 1.432,
          "PC_HEALTHXP": 14.415,
          "TIME": 2011,
          "TOTAL_SPEND": 2980.92,
          "USD_CAP": 651.311
         },
         {
          "FLAG_CODES": null,
          "LOCATION": "IRL",
          "PC_GDP": 1.4180000000000001,
          "PC_HEALTHXP": 14.091,
          "TIME": 2012,
          "TOTAL_SPEND": 3027.04,
          "USD_CAP": 659.933
         },
         {
          "FLAG_CODES": "B",
          "LOCATION": "IRL",
          "PC_GDP": 1.5119999999999998,
          "PC_HEALTHXP": 14.513,
          "TIME": 2013,
          "TOTAL_SPEND": 3358.98,
          "USD_CAP": 730.4839999999999
         },
         {
          "FLAG_CODES": null,
          "LOCATION": "IRL",
          "PC_GDP": 1.3940000000000001,
          "PC_HEALTHXP": 14.064,
          "TIME": 2014,
          "TOTAL_SPEND": 3300.15,
          "USD_CAP": 714.747
         },
         {
          "FLAG_CODES": null,
          "LOCATION": "IRL",
          "PC_GDP": 1.0070000000000001,
          "PC_HEALTHXP": 12.97,
          "TIME": 2015,
          "TOTAL_SPEND": 3200.21,
          "USD_CAP": 684.2689999999999
         },
         {
          "FLAG_CODES": null,
          "LOCATION": "ITA",
          "PC_GDP": 1.5390000000000001,
          "PC_HEALTHXP": 23.07,
          "TIME": 1988,
          "TOTAL_SPEND": 14249.68,
          "USD_CAP": 251.63099999999997
         },
         {
          "FLAG_CODES": null,
          "LOCATION": "ITA",
          "PC_GDP": 1.551,
          "PC_HEALTHXP": 23.294,
          "TIME": 1989,
          "TOTAL_SPEND": 15423.17,
          "USD_CAP": 272.149
         },
         {
          "FLAG_CODES": null,
          "LOCATION": "ITA",
          "PC_GDP": 1.5030000000000001,
          "PC_HEALTHXP": 21.43,
          "TIME": 1990,
          "TOTAL_SPEND": 15814.06,
          "USD_CAP": 278.813
         },
         {
          "FLAG_CODES": null,
          "LOCATION": "ITA",
          "PC_GDP": 1.517,
          "PC_HEALTHXP": 20.921999999999997,
          "TIME": 1991,
          "TOTAL_SPEND": 16740.81,
          "USD_CAP": 294.948
         },
         {
          "FLAG_CODES": null,
          "LOCATION": "ITA",
          "PC_GDP": 1.5290000000000001,
          "PC_HEALTHXP": 21.474,
          "TIME": 1992,
          "TOTAL_SPEND": 17398.88,
          "USD_CAP": 306.334
         },
         {
          "FLAG_CODES": null,
          "LOCATION": "ITA",
          "PC_GDP": 1.442,
          "PC_HEALTHXP": 20.351,
          "TIME": 1993,
          "TOTAL_SPEND": 16665.7,
          "USD_CAP": 293.246
         },
         {
          "FLAG_CODES": null,
          "LOCATION": "ITA",
          "PC_GDP": 1.395,
          "PC_HEALTHXP": 20.117,
          "TIME": 1994,
          "TOTAL_SPEND": 16813.2,
          "USD_CAP": 295.781
         },
         {
          "FLAG_CODES": "B",
          "LOCATION": "ITA",
          "PC_GDP": 1.3419999999999999,
          "PC_HEALTHXP": 19.534000000000002,
          "TIME": 1995,
          "TOTAL_SPEND": 16991.9,
          "USD_CAP": 298.92
         },
         {
          "FLAG_CODES": null,
          "LOCATION": "ITA",
          "PC_GDP": 1.39,
          "PC_HEALTHXP": 19.968,
          "TIME": 1996,
          "TOTAL_SPEND": 18160.38,
          "USD_CAP": 319.38599999999997
         },
         {
          "FLAG_CODES": null,
          "LOCATION": "ITA",
          "PC_GDP": 1.4580000000000002,
          "PC_HEALTHXP": 20.183,
          "TIME": 1997,
          "TOTAL_SPEND": 19744.03,
          "USD_CAP": 347.05400000000003
         },
         {
          "FLAG_CODES": null,
          "LOCATION": "ITA",
          "PC_GDP": 1.5,
          "PC_HEALTHXP": 20.643,
          "TIME": 1998,
          "TOTAL_SPEND": 21278.68,
          "USD_CAP": 373.92199999999997
         },
         {
          "FLAG_CODES": null,
          "LOCATION": "ITA",
          "PC_GDP": 1.554,
          "PC_HEALTHXP": 21.177,
          "TIME": 1999,
          "TOTAL_SPEND": 22575.57,
          "USD_CAP": 396.645
         },
         {
          "FLAG_CODES": null,
          "LOCATION": "ITA",
          "PC_GDP": 1.604,
          "PC_HEALTHXP": 21.158,
          "TIME": 2000,
          "TOTAL_SPEND": 24664.08,
          "USD_CAP": 433.14300000000003
         },
         {
          "FLAG_CODES": null,
          "LOCATION": "ITA",
          "PC_GDP": 1.703,
          "PC_HEALTHXP": 21.92,
          "TIME": 2001,
          "TOTAL_SPEND": 27163.03,
          "USD_CAP": 476.76099999999997
         },
         {
          "FLAG_CODES": null,
          "LOCATION": "ITA",
          "PC_GDP": 1.726,
          "PC_HEALTHXP": 21.865,
          "TIME": 2002,
          "TOTAL_SPEND": 28204.38,
          "USD_CAP": 494.30199999999996
         },
         {
          "FLAG_CODES": null,
          "LOCATION": "ITA",
          "PC_GDP": 1.679,
          "PC_HEALTHXP": 21.375,
          "TIME": 2003,
          "TOTAL_SPEND": 27984.09,
          "USD_CAP": 488.26599999999996
         },
         {
          "FLAG_CODES": null,
          "LOCATION": "ITA",
          "PC_GDP": 1.719,
          "PC_HEALTHXP": 20.996,
          "TIME": 2004,
          "TOTAL_SPEND": 29222.87,
          "USD_CAP": 506.591
         },
         {
          "FLAG_CODES": null,
          "LOCATION": "ITA",
          "PC_GDP": 1.703,
          "PC_HEALTHXP": 20.37,
          "TIME": 2005,
          "TOTAL_SPEND": 29671.22,
          "USD_CAP": 511.842
         },
         {
          "FLAG_CODES": null,
          "LOCATION": "ITA",
          "PC_GDP": 1.702,
          "PC_HEALTHXP": 20.124000000000002,
          "TIME": 2006,
          "TOTAL_SPEND": 32021.75,
          "USD_CAP": 550.732
         },
         {
          "FLAG_CODES": null,
          "LOCATION": "ITA",
          "PC_GDP": 1.633,
          "PC_HEALTHXP": 20.002,
          "TIME": 2007,
          "TOTAL_SPEND": 32425.14,
          "USD_CAP": 554.861
         },
         {
          "FLAG_CODES": null,
          "LOCATION": "ITA",
          "PC_GDP": 1.643,
          "PC_HEALTHXP": 19.185,
          "TIME": 2008,
          "TOTAL_SPEND": 34209.8,
          "USD_CAP": 581.535
         },
         {
          "FLAG_CODES": null,
          "LOCATION": "ITA",
          "PC_GDP": 1.702,
          "PC_HEALTHXP": 18.964000000000002,
          "TIME": 2009,
          "TOTAL_SPEND": 34755.76,
          "USD_CAP": 588.13
         },
         {
          "FLAG_CODES": null,
          "LOCATION": "ITA",
          "PC_GDP": 1.679,
          "PC_HEALTHXP": 18.75,
          "TIME": 2010,
          "TOTAL_SPEND": 34906.16,
          "USD_CAP": 588.861
         },
         {
          "FLAG_CODES": null,
          "LOCATION": "ITA",
          "PC_GDP": 1.6380000000000001,
          "PC_HEALTHXP": 18.544,
          "TIME": 2011,
          "TOTAL_SPEND": 35359.75,
          "USD_CAP": 595.488
         },
         {
          "FLAG_CODES": "B",
          "LOCATION": "ITA",
          "PC_GDP": 1.484,
          "PC_HEALTHXP": 16.570999999999998,
          "TIME": 2012,
          "TOTAL_SPEND": 32019.51,
          "USD_CAP": 537.784
         },
         {
          "FLAG_CODES": null,
          "LOCATION": "ITA",
          "PC_GDP": 1.52,
          "PC_HEALTHXP": 16.98,
          "TIME": 2013,
          "TOTAL_SPEND": 33081.57,
          "USD_CAP": 549.2180000000001
         },
         {
          "FLAG_CODES": null,
          "LOCATION": "ITA",
          "PC_GDP": 1.527,
          "PC_HEALTHXP": 16.944000000000003,
          "TIME": 2014,
          "TOTAL_SPEND": 33688.19,
          "USD_CAP": 554.181
         },
         {
          "FLAG_CODES": null,
          "LOCATION": "ITA",
          "PC_GDP": 1.6130000000000002,
          "PC_HEALTHXP": 17.932000000000002,
          "TIME": 2015,
          "TOTAL_SPEND": 36500.17,
          "USD_CAP": 601.018
         },
         {
          "FLAG_CODES": "P",
          "LOCATION": "ITA",
          "PC_GDP": 1.594,
          "PC_HEALTHXP": 17.831,
          "TIME": 2016,
          "TOTAL_SPEND": 36643.66,
          "USD_CAP": 604.675
         },
         {
          "FLAG_CODES": null,
          "LOCATION": "JPN",
          "PC_GDP": 1.33,
          "PC_HEALTHXP": 21.180999999999997,
          "TIME": 1980,
          "TOTAL_SPEND": 13471.85,
          "USD_CAP": 115.359
         },
         {
          "FLAG_CODES": null,
          "LOCATION": "JPN",
          "PC_GDP": 1.247,
          "PC_HEALTHXP": 19.458,
          "TIME": 1984,
          "TOTAL_SPEND": 18307.07,
          "USD_CAP": 152.536
         },
         {
          "FLAG_CODES": null,
          "LOCATION": "JPN",
          "PC_GDP": 1.163,
          "PC_HEALTHXP": 17.973,
          "TIME": 1985,
          "TOTAL_SPEND": 18737.52,
          "USD_CAP": 155.171
         },
         {
          "FLAG_CODES": null,
          "LOCATION": "JPN",
          "PC_GDP": 1.214,
          "PC_HEALTHXP": 18.892,
          "TIME": 1986,
          "TOTAL_SPEND": 20533.48,
          "USD_CAP": 169.011
         },
         {
          "FLAG_CODES": null,
          "LOCATION": "JPN",
          "PC_GDP": 1.305,
          "PC_HEALTHXP": 20.271,
          "TIME": 1987,
          "TOTAL_SPEND": 23561.73,
          "USD_CAP": 192.985
         },
         {
          "FLAG_CODES": null,
          "LOCATION": "JPN",
          "PC_GDP": 1.268,
          "PC_HEALTHXP": 20.631,
          "TIME": 1988,
          "TOTAL_SPEND": 25405.66,
          "USD_CAP": 207.202
         },
         {
          "FLAG_CODES": null,
          "LOCATION": "JPN",
          "PC_GDP": 1.317,
          "PC_HEALTHXP": 22.319000000000003,
          "TIME": 1989,
          "TOTAL_SPEND": 28890.77,
          "USD_CAP": 234.66299999999998
         },
         {
          "FLAG_CODES": null,
          "LOCATION": "JPN",
          "PC_GDP": 1.23,
          "PC_HEALTHXP": 21.421999999999997,
          "TIME": 1990,
          "TOTAL_SPEND": 29553.26,
          "USD_CAP": 239.226
         },
         {
          "FLAG_CODES": null,
          "LOCATION": "JPN",
          "PC_GDP": 1.3230000000000002,
          "PC_HEALTHXP": 22.868000000000002,
          "TIME": 1991,
          "TOTAL_SPEND": 33893.01,
          "USD_CAP": 273.505
         },
         {
          "FLAG_CODES": null,
          "LOCATION": "JPN",
          "PC_GDP": 1.33,
          "PC_HEALTHXP": 22.009,
          "TIME": 1992,
          "TOTAL_SPEND": 35088.73,
          "USD_CAP": 282.452
         },
         {
          "FLAG_CODES": null,
          "LOCATION": "JPN",
          "PC_GDP": 1.405,
          "PC_HEALTHXP": 22.255,
          "TIME": 1993,
          "TOTAL_SPEND": 38007.39,
          "USD_CAP": 305.192
         },
         {
          "FLAG_CODES": null,
          "LOCATION": "JPN",
          "PC_GDP": 1.386,
          "PC_HEALTHXP": 21.057,
          "TIME": 1994,
          "TOTAL_SPEND": 38656.94,
          "USD_CAP": 309.35200000000003
         },
         {
          "FLAG_CODES": null,
          "LOCATION": "JPN",
          "PC_GDP": 1.3219999999999998,
          "PC_HEALTHXP": 21.039,
          "TIME": 1995,
          "TOTAL_SPEND": 38781.22,
          "USD_CAP": 309.164
         },
         {
          "FLAG_CODES": null,
          "LOCATION": "JPN",
          "PC_GDP": 1.288,
          "PC_HEALTHXP": 21.039,
          "TIME": 1996,
          "TOTAL_SPEND": 39718.08,
          "USD_CAP": 315.832
         },
         {
          "FLAG_CODES": null,
          "LOCATION": "JPN",
          "PC_GDP": 1.248,
          "PC_HEALTHXP": 19.496,
          "TIME": 1997,
          "TOTAL_SPEND": 39509.54,
          "USD_CAP": 313.426
         },
         {
          "FLAG_CODES": null,
          "LOCATION": "JPN",
          "PC_GDP": 1.187,
          "PC_HEALTHXP": 17.942,
          "TIME": 1998,
          "TOTAL_SPEND": 37573.54,
          "USD_CAP": 297.259
         },
         {
          "FLAG_CODES": null,
          "LOCATION": "JPN",
          "PC_GDP": 1.266,
          "PC_HEALTHXP": 18.152,
          "TIME": 1999,
          "TOTAL_SPEND": 40592.07,
          "USD_CAP": 320.55400000000003
         },
         {
          "FLAG_CODES": null,
          "LOCATION": "JPN",
          "PC_GDP": 1.3159999999999998,
          "PC_HEALTHXP": 18.406,
          "TIME": 2000,
          "TOTAL_SPEND": 44704.8,
          "USD_CAP": 352.44199999999995
         },
         {
          "FLAG_CODES": null,
          "LOCATION": "JPN",
          "PC_GDP": 1.3880000000000001,
          "PC_HEALTHXP": 18.859,
          "TIME": 2001,
          "TOTAL_SPEND": 48433.47,
          "USD_CAP": 380.91900000000004
         },
         {
          "FLAG_CODES": null,
          "LOCATION": "JPN",
          "PC_GDP": 1.393,
          "PC_HEALTHXP": 18.64,
          "TIME": 2002,
          "TOTAL_SPEND": 49998.2,
          "USD_CAP": 392.31199999999995
         },
         {
          "FLAG_CODES": null,
          "LOCATION": "JPN",
          "PC_GDP": 1.486,
          "PC_HEALTHXP": 19.527,
          "TIME": 2003,
          "TOTAL_SPEND": 54839.3,
          "USD_CAP": 429.37800000000004
         },
         {
          "FLAG_CODES": null,
          "LOCATION": "JPN",
          "PC_GDP": 1.49,
          "PC_HEALTHXP": 19.459,
          "TIME": 2004,
          "TOTAL_SPEND": 57872.54,
          "USD_CAP": 452.975
         },
         {
          "FLAG_CODES": null,
          "LOCATION": "JPN",
          "PC_GDP": 1.54,
          "PC_HEALTHXP": 19.794,
          "TIME": 2005,
          "TOTAL_SPEND": 62312.46,
          "USD_CAP": 487.681
         },
         {
          "FLAG_CODES": null,
          "LOCATION": "JPN",
          "PC_GDP": 1.545,
          "PC_HEALTHXP": 19.789,
          "TIME": 2006,
          "TOTAL_SPEND": 65282,
          "USD_CAP": 510.598
         },
         {
          "FLAG_CODES": null,
          "LOCATION": "JPN",
          "PC_GDP": 1.5759999999999998,
          "PC_HEALTHXP": 19.972,
          "TIME": 2007,
          "TOTAL_SPEND": 69633.57,
          "USD_CAP": 544.008
         },
         {
          "FLAG_CODES": null,
          "LOCATION": "JPN",
          "PC_GDP": 1.632,
          "PC_HEALTHXP": 19.9,
          "TIME": 2008,
          "TOTAL_SPEND": 72703.93,
          "USD_CAP": 567.72
         },
         {
          "FLAG_CODES": null,
          "LOCATION": "JPN",
          "PC_GDP": 1.901,
          "PC_HEALTHXP": 20.982,
          "TIME": 2009,
          "TOTAL_SPEND": 80562.31,
          "USD_CAP": 629.1619999999999
         },
         {
          "FLAG_CODES": null,
          "LOCATION": "JPN",
          "PC_GDP": 1.875,
          "PC_HEALTHXP": 20.473,
          "TIME": 2010,
          "TOTAL_SPEND": 84030.7,
          "USD_CAP": 656.1310000000001
         },
         {
          "FLAG_CODES": null,
          "LOCATION": "JPN",
          "PC_GDP": 2.008,
          "PC_HEALTHXP": 18.910999999999998,
          "TIME": 2011,
          "TOTAL_SPEND": 91816.82,
          "USD_CAP": 718.2560000000001
         },
         {
          "FLAG_CODES": null,
          "LOCATION": "JPN",
          "PC_GDP": 2.0380000000000003,
          "PC_HEALTHXP": 18.887,
          "TIME": 2012,
          "TOTAL_SPEND": 96766.9,
          "USD_CAP": 758.189
         },
         {
          "FLAG_CODES": null,
          "LOCATION": "JPN",
          "PC_GDP": 2.035,
          "PC_HEALTHXP": 18.854,
          "TIME": 2013,
          "TOTAL_SPEND": 101085.42,
          "USD_CAP": 793.169
         },
         {
          "FLAG_CODES": null,
          "LOCATION": "JPN",
          "PC_GDP": 2.037,
          "PC_HEALTHXP": 18.803,
          "TIME": 2014,
          "TOTAL_SPEND": 102168.65,
          "USD_CAP": 802.7330000000001
         },
         {
          "FLAG_CODES": null,
          "LOCATION": "KOR",
          "PC_GDP": 0.551,
          "PC_HEALTHXP": 21.38,
          "TIME": 1970,
          "TOTAL_SPEND": 107.56,
          "USD_CAP": 3.3360000000000003
         },
         {
          "FLAG_CODES": null,
          "LOCATION": "KOR",
          "PC_GDP": 0.45899999999999996,
          "PC_HEALTHXP": 20.491999999999997,
          "TIME": 1971,
          "TOTAL_SPEND": 103.91,
          "USD_CAP": 3.16
         },
         {
          "FLAG_CODES": null,
          "LOCATION": "KOR",
          "PC_GDP": 0.428,
          "PC_HEALTHXP": 20.99,
          "TIME": 1972,
          "TOTAL_SPEND": 108.46,
          "USD_CAP": 3.237
         },
         {
          "FLAG_CODES": null,
          "LOCATION": "KOR",
          "PC_GDP": 0.366,
          "PC_HEALTHXP": 20.916,
          "TIME": 1973,
          "TOTAL_SPEND": 112.17,
          "USD_CAP": 3.2889999999999997
         },
         {
          "FLAG_CODES": null,
          "LOCATION": "KOR",
          "PC_GDP": 0.316,
          "PC_HEALTHXP": 20.773000000000003,
          "TIME": 1974,
          "TOTAL_SPEND": 115.56,
          "USD_CAP": 3.3310000000000004
         },
         {
          "FLAG_CODES": null,
          "LOCATION": "KOR",
          "PC_GDP": 0.48700000000000004,
          "PC_HEALTHXP": 21.112,
          "TIME": 1975,
          "TOTAL_SPEND": 209.89,
          "USD_CAP": 5.949
         },
         {
          "FLAG_CODES": null,
          "LOCATION": "KOR",
          "PC_GDP": 0.502,
          "PC_HEALTHXP": 21.513,
          "TIME": 1976,
          "TOTAL_SPEND": 258.07,
          "USD_CAP": 7.199
         },
         {
          "FLAG_CODES": null,
          "LOCATION": "KOR",
          "PC_GDP": 0.46299999999999997,
          "PC_HEALTHXP": 20.923000000000002,
          "TIME": 1977,
          "TOTAL_SPEND": 284.12,
          "USD_CAP": 7.803
         },
         {
          "FLAG_CODES": null,
          "LOCATION": "KOR",
          "PC_GDP": 0.514,
          "PC_HEALTHXP": 21.374000000000002,
          "TIME": 1978,
          "TOTAL_SPEND": 373.87,
          "USD_CAP": 10.113
         },
         {
          "FLAG_CODES": null,
          "LOCATION": "KOR",
          "PC_GDP": 0.6759999999999999,
          "PC_HEALTHXP": 21.569000000000003,
          "TIME": 1979,
          "TOTAL_SPEND": 578.03,
          "USD_CAP": 15.4
         },
         {
          "FLAG_CODES": null,
          "LOCATION": "KOR",
          "PC_GDP": 0.743,
          "PC_HEALTHXP": 21.476,
          "TIME": 1980,
          "TOTAL_SPEND": 680.74,
          "USD_CAP": 17.855999999999998
         },
         {
          "FLAG_CODES": null,
          "LOCATION": "KOR",
          "PC_GDP": 0.789,
          "PC_HEALTHXP": 21.927,
          "TIME": 1981,
          "TOTAL_SPEND": 846.99,
          "USD_CAP": 21.873
         },
         {
          "FLAG_CODES": null,
          "LOCATION": "KOR",
          "PC_GDP": 0.78,
          "PC_HEALTHXP": 21.933000000000003,
          "TIME": 1982,
          "TOTAL_SPEND": 963.06,
          "USD_CAP": 24.489
         },
         {
          "FLAG_CODES": null,
          "LOCATION": "KOR",
          "PC_GDP": 0.757,
          "PC_HEALTHXP": 21.959,
          "TIME": 1983,
          "TOTAL_SPEND": 1100.89,
          "USD_CAP": 27.584
         },
         {
          "FLAG_CODES": null,
          "LOCATION": "KOR",
          "PC_GDP": 0.711,
          "PC_HEALTHXP": 21.69,
          "TIME": 1984,
          "TOTAL_SPEND": 1182.2,
          "USD_CAP": 29.258000000000003
         },
         {
          "FLAG_CODES": null,
          "LOCATION": "KOR",
          "PC_GDP": 0.723,
          "PC_HEALTHXP": 21.788,
          "TIME": 1985,
          "TOTAL_SPEND": 1335.65,
          "USD_CAP": 32.732
         },
         {
          "FLAG_CODES": null,
          "LOCATION": "KOR",
          "PC_GDP": 0.696,
          "PC_HEALTHXP": 21.816999999999997,
          "TIME": 1986,
          "TOTAL_SPEND": 1460.74,
          "USD_CAP": 35.443000000000005
         },
         {
          "FLAG_CODES": null,
          "LOCATION": "KOR",
          "PC_GDP": 0.679,
          "PC_HEALTHXP": 21.843000000000004,
          "TIME": 1987,
          "TOTAL_SPEND": 1642.85,
          "USD_CAP": 39.471
         },
         {
          "FLAG_CODES": null,
          "LOCATION": "KOR",
          "PC_GDP": 0.6990000000000001,
          "PC_HEALTHXP": 21.54,
          "TIME": 1988,
          "TOTAL_SPEND": 1958.4,
          "USD_CAP": 46.593999999999994
         },
         {
          "FLAG_CODES": null,
          "LOCATION": "KOR",
          "PC_GDP": 0.8170000000000001,
          "PC_HEALTHXP": 21.901,
          "TIME": 1989,
          "TOTAL_SPEND": 2546.69,
          "USD_CAP": 59.994
         },
         {
          "FLAG_CODES": null,
          "LOCATION": "KOR",
          "PC_GDP": 0.7959999999999999,
          "PC_HEALTHXP": 21.635,
          "TIME": 1990,
          "TOTAL_SPEND": 2824.53,
          "USD_CAP": 65.887
         },
         {
          "FLAG_CODES": null,
          "LOCATION": "KOR",
          "PC_GDP": 0.765,
          "PC_HEALTHXP": 21.726999999999997,
          "TIME": 1991,
          "TOTAL_SPEND": 3094.13,
          "USD_CAP": 71.465
         },
         {
          "FLAG_CODES": null,
          "LOCATION": "KOR",
          "PC_GDP": 0.772,
          "PC_HEALTHXP": 21.186999999999998,
          "TIME": 1992,
          "TOTAL_SPEND": 3391.82,
          "USD_CAP": 77.531
         },
         {
          "FLAG_CODES": null,
          "LOCATION": "KOR",
          "PC_GDP": 0.7759999999999999,
          "PC_HEALTHXP": 21.811999999999998,
          "TIME": 1993,
          "TOTAL_SPEND": 3729.28,
          "USD_CAP": 84.383
         },
         {
          "FLAG_CODES": null,
          "LOCATION": "KOR",
          "PC_GDP": 0.769,
          "PC_HEALTHXP": 22.391,
          "TIME": 1994,
          "TOTAL_SPEND": 4121.13,
          "USD_CAP": 92.316
         },
         {
          "FLAG_CODES": null,
          "LOCATION": "KOR",
          "PC_GDP": 0.7859999999999999,
          "PC_HEALTHXP": 22.834,
          "TIME": 1995,
          "TOTAL_SPEND": 4710.23,
          "USD_CAP": 104.456
         },
         {
          "FLAG_CODES": null,
          "LOCATION": "KOR",
          "PC_GDP": 0.835,
          "PC_HEALTHXP": 23.041,
          "TIME": 1996,
          "TOTAL_SPEND": 5485.68,
          "USD_CAP": 120.499
         },
         {
          "FLAG_CODES": null,
          "LOCATION": "KOR",
          "PC_GDP": 0.8290000000000001,
          "PC_HEALTHXP": 22.989,
          "TIME": 1997,
          "TOTAL_SPEND": 5869.79,
          "USD_CAP": 127.73299999999999
         },
         {
          "FLAG_CODES": null,
          "LOCATION": "KOR",
          "PC_GDP": 0.8370000000000001,
          "PC_HEALTHXP": 22.373,
          "TIME": 1998,
          "TOTAL_SPEND": 5662.64,
          "USD_CAP": 122.339
         },
         {
          "FLAG_CODES": null,
          "LOCATION": "KOR",
          "PC_GDP": 0.885,
          "PC_HEALTHXP": 22.44,
          "TIME": 1999,
          "TOTAL_SPEND": 6761.94,
          "USD_CAP": 145.054
         },
         {
          "FLAG_CODES": null,
          "LOCATION": "KOR",
          "PC_GDP": 0.978,
          "PC_HEALTHXP": 24.454,
          "TIME": 2000,
          "TOTAL_SPEND": 8311.74,
          "USD_CAP": 176.815
         },
         {
          "FLAG_CODES": null,
          "LOCATION": "KOR",
          "PC_GDP": 1.2109999999999999,
          "PC_HEALTHXP": 26.752,
          "TIME": 2001,
          "TOTAL_SPEND": 11001.91,
          "USD_CAP": 232.25400000000002
         },
         {
          "FLAG_CODES": null,
          "LOCATION": "KOR",
          "PC_GDP": 1.182,
          "PC_HEALTHXP": 27.015,
          "TIME": 2002,
          "TOTAL_SPEND": 11702.12,
          "USD_CAP": 245.612
         },
         {
          "FLAG_CODES": null,
          "LOCATION": "KOR",
          "PC_GDP": 1.3969999999999998,
          "PC_HEALTHXP": 29.38,
          "TIME": 2003,
          "TOTAL_SPEND": 14300.31,
          "USD_CAP": 298.593
         },
         {
          "FLAG_CODES": null,
          "LOCATION": "KOR",
          "PC_GDP": 1.3969999999999998,
          "PC_HEALTHXP": 29.254,
          "TIME": 2004,
          "TOTAL_SPEND": 15419.01,
          "USD_CAP": 320.678
         },
         {
          "FLAG_CODES": null,
          "LOCATION": "KOR",
          "PC_GDP": 1.443,
          "PC_HEALTHXP": 28.401999999999997,
          "TIME": 2005,
          "TOTAL_SPEND": 16829.52,
          "USD_CAP": 349.272
         },
         {
          "FLAG_CODES": null,
          "LOCATION": "KOR",
          "PC_GDP": 1.556,
          "PC_HEALTHXP": 28.304000000000002,
          "TIME": 2006,
          "TOTAL_SPEND": 19466.43,
          "USD_CAP": 401.881
         },
         {
          "FLAG_CODES": null,
          "LOCATION": "KOR",
          "PC_GDP": 1.5319999999999998,
          "PC_HEALTHXP": 27.061999999999998,
          "TIME": 2007,
          "TOTAL_SPEND": 20753.01,
          "USD_CAP": 426.283
         },
         {
          "FLAG_CODES": null,
          "LOCATION": "KOR",
          "PC_GDP": 1.546,
          "PC_HEALTHXP": 26.569000000000003,
          "TIME": 2008,
          "TOTAL_SPEND": 21726.33,
          "USD_CAP": 442.9
         },
         {
          "FLAG_CODES": null,
          "LOCATION": "KOR",
          "PC_GDP": 1.662,
          "PC_HEALTHXP": 26.122,
          "TIME": 2009,
          "TOTAL_SPEND": 23208.75,
          "USD_CAP": 470.691
         },
         {
          "FLAG_CODES": null,
          "LOCATION": "KOR",
          "PC_GDP": 1.705,
          "PC_HEALTHXP": 26.205,
          "TIME": 2010,
          "TOTAL_SPEND": 25659.17,
          "USD_CAP": 517.8009999999999
         },
         {
          "FLAG_CODES": null,
          "LOCATION": "KOR",
          "PC_GDP": 1.689,
          "PC_HEALTHXP": 25.755,
          "TIME": 2011,
          "TOTAL_SPEND": 26341.38,
          "USD_CAP": 527.496
         },
         {
          "FLAG_CODES": null,
          "LOCATION": "KOR",
          "PC_GDP": 1.669,
          "PC_HEALTHXP": 24.809,
          "TIME": 2012,
          "TOTAL_SPEND": 26892.96,
          "USD_CAP": 535.7180000000001
         },
         {
          "FLAG_CODES": null,
          "LOCATION": "KOR",
          "PC_GDP": 1.631,
          "PC_HEALTHXP": 23.622,
          "TIME": 2013,
          "TOTAL_SPEND": 26828.12,
          "USD_CAP": 531.999
         },
         {
          "FLAG_CODES": null,
          "LOCATION": "KOR",
          "PC_GDP": 1.629,
          "PC_HEALTHXP": 22.87,
          "TIME": 2014,
          "TOTAL_SPEND": 27809.68,
          "USD_CAP": 548.01
         },
         {
          "FLAG_CODES": null,
          "LOCATION": "KOR",
          "PC_GDP": 1.584,
          "PC_HEALTHXP": 21.427,
          "TIME": 2015,
          "TOTAL_SPEND": 27708.87,
          "USD_CAP": 543.1519999999999
         },
         {
          "FLAG_CODES": "P",
          "LOCATION": "KOR",
          "PC_GDP": 1.5530000000000002,
          "PC_HEALTHXP": 20.235,
          "TIME": 2016,
          "TOTAL_SPEND": 28296.65,
          "USD_CAP": 552.1759999999999
         },
         {
          "FLAG_CODES": null,
          "LOCATION": "LUX",
          "PC_GDP": 0.642,
          "PC_HEALTHXP": 12.038,
          "TIME": 1995,
          "TOTAL_SPEND": 109.42,
          "USD_CAP": 267.785
         },
         {
          "FLAG_CODES": null,
          "LOCATION": "LUX",
          "PC_GDP": 0.616,
          "PC_HEALTHXP": 11.524000000000001,
          "TIME": 1996,
          "TOTAL_SPEND": 111.08,
          "USD_CAP": 268.172
         },
         {
          "FLAG_CODES": null,
          "LOCATION": "LUX",
          "PC_GDP": 0.664,
          "PC_HEALTHXP": 12.647,
          "TIME": 1997,
          "TOTAL_SPEND": 125.5,
          "USD_CAP": 299.20099999999996
         },
         {
          "FLAG_CODES": null,
          "LOCATION": "LUX",
          "PC_GDP": 0.6679999999999999,
          "PC_HEALTHXP": 12.309000000000001,
          "TIME": 1998,
          "TOTAL_SPEND": 132.27,
          "USD_CAP": 311.45
         },
         {
          "FLAG_CODES": null,
          "LOCATION": "LUX",
          "PC_GDP": 0.6609999999999999,
          "PC_HEALTHXP": 11.965,
          "TIME": 1999,
          "TOTAL_SPEND": 151.04,
          "USD_CAP": 350.87199999999996
         },
         {
          "FLAG_CODES": "B",
          "LOCATION": "LUX",
          "PC_GDP": 0.6509999999999999,
          "PC_HEALTHXP": 11.036,
          "TIME": 2000,
          "TOTAL_SPEND": 163.97,
          "USD_CAP": 375.816
         },
         {
          "FLAG_CODES": null,
          "LOCATION": "LUX",
          "PC_GDP": 0.7020000000000001,
          "PC_HEALTHXP": 10.958,
          "TIME": 2001,
          "TOTAL_SPEND": 180.91,
          "USD_CAP": 409.75
         },
         {
          "FLAG_CODES": null,
          "LOCATION": "LUX",
          "PC_GDP": 0.733,
          "PC_HEALTHXP": 10.879000000000001,
          "TIME": 2002,
          "TOTAL_SPEND": 200.15,
          "USD_CAP": 448.58
         },
         {
          "FLAG_CODES": null,
          "LOCATION": "LUX",
          "PC_GDP": 0.764,
          "PC_HEALTHXP": 10.965,
          "TIME": 2003,
          "TOTAL_SPEND": 215.97,
          "USD_CAP": 478.191
         },
         {
          "FLAG_CODES": null,
          "LOCATION": "LUX",
          "PC_GDP": 0.765,
          "PC_HEALTHXP": 10.412,
          "TIME": 2004,
          "TOTAL_SPEND": 234.03,
          "USD_CAP": 510.874
         },
         {
          "FLAG_CODES": null,
          "LOCATION": "LUX",
          "PC_GDP": 0.733,
          "PC_HEALTHXP": 10.208,
          "TIME": 2005,
          "TOTAL_SPEND": 243.37,
          "USD_CAP": 523.189
         },
         {
          "FLAG_CODES": null,
          "LOCATION": "LUX",
          "PC_GDP": 0.684,
          "PC_HEALTHXP": 10.198,
          "TIME": 2006,
          "TOTAL_SPEND": 264.95,
          "USD_CAP": 560.575
         },
         {
          "FLAG_CODES": null,
          "LOCATION": "LUX",
          "PC_GDP": 0.665,
          "PC_HEALTHXP": 10.673,
          "TIME": 2007,
          "TOTAL_SPEND": 282.39,
          "USD_CAP": 588.312
         },
         {
          "FLAG_CODES": null,
          "LOCATION": "LUX",
          "PC_GDP": 0.669,
          "PC_HEALTHXP": 10.226,
          "TIME": 2008,
          "TOTAL_SPEND": 298.81,
          "USD_CAP": 611.498
         },
         {
          "FLAG_CODES": null,
          "LOCATION": "LUX",
          "PC_GDP": 0.7240000000000001,
          "PC_HEALTHXP": 9.86,
          "TIME": 2009,
          "TOTAL_SPEND": 313.79,
          "USD_CAP": 630.377
         },
         {
          "FLAG_CODES": null,
          "LOCATION": "LUX",
          "PC_GDP": 0.68,
          "PC_HEALTHXP": 9.668,
          "TIME": 2010,
          "TOTAL_SPEND": 313.02,
          "USD_CAP": 617.448
         },
         {
          "FLAG_CODES": "B",
          "LOCATION": "LUX",
          "PC_GDP": 0.5429999999999999,
          "PC_HEALTHXP": 8.877,
          "TIME": 2011,
          "TOTAL_SPEND": 274.7,
          "USD_CAP": 529.962
         },
         {
          "FLAG_CODES": null,
          "LOCATION": "LUX",
          "PC_GDP": 0.563,
          "PC_HEALTHXP": 8.56,
          "TIME": 2012,
          "TOTAL_SPEND": 291.01,
          "USD_CAP": 548.101
         },
         {
          "FLAG_CODES": null,
          "LOCATION": "LUX",
          "PC_GDP": 0.552,
          "PC_HEALTHXP": 8.424,
          "TIME": 2013,
          "TOTAL_SPEND": 306.34,
          "USD_CAP": 563.7869999999999
         },
         {
          "FLAG_CODES": "P",
          "LOCATION": "LUX",
          "PC_GDP": 0.513,
          "PC_HEALTHXP": 8.192,
          "TIME": 2014,
          "TOTAL_SPEND": 312.19,
          "USD_CAP": 561.164
         },
         {
          "FLAG_CODES": "P",
          "LOCATION": "LUX",
          "PC_GDP": 0.52,
          "PC_HEALTHXP": 8.601,
          "TIME": 2015,
          "TOTAL_SPEND": 334.03,
          "USD_CAP": 586.428
         },
         {
          "FLAG_CODES": null,
          "LOCATION": "MEX",
          "PC_GDP": 0.9309999999999999,
          "PC_HEALTHXP": 18.935,
          "TIME": 1999,
          "TOTAL_SPEND": 8527.76,
          "USD_CAP": 85.022
         },
         {
          "FLAG_CODES": null,
          "LOCATION": "MEX",
          "PC_GDP": 0.968,
          "PC_HEALTHXP": 19.936,
          "TIME": 2000,
          "TOTAL_SPEND": 9822.97,
          "USD_CAP": 96.569
         },
         {
          "FLAG_CODES": null,
          "LOCATION": "MEX",
          "PC_GDP": 1.045,
          "PC_HEALTHXP": 19.889,
          "TIME": 2001,
          "TOTAL_SPEND": 10849.15,
          "USD_CAP": 105.26299999999999
         },
         {
          "FLAG_CODES": null,
          "LOCATION": "MEX",
          "PC_GDP": 1.17,
          "PC_HEALTHXP": 21.64,
          "TIME": 2002,
          "TOTAL_SPEND": 12598.44,
          "USD_CAP": 120.726
         },
         {
          "FLAG_CODES": "B",
          "LOCATION": "MEX",
          "PC_GDP": 2.134,
          "PC_HEALTHXP": 35.894,
          "TIME": 2003,
          "TOTAL_SPEND": 24366.08,
          "USD_CAP": 230.65099999999998
         },
         {
          "FLAG_CODES": null,
          "LOCATION": "MEX",
          "PC_GDP": 2.12,
          "PC_HEALTHXP": 35.048,
          "TIME": 2004,
          "TOTAL_SPEND": 25944.4,
          "USD_CAP": 242.481
         },
         {
          "FLAG_CODES": null,
          "LOCATION": "MEX",
          "PC_GDP": 2.108,
          "PC_HEALTHXP": 35.603,
          "TIME": 2005,
          "TOTAL_SPEND": 28223.82,
          "USD_CAP": 260.194
         },
         {
          "FLAG_CODES": null,
          "LOCATION": "MEX",
          "PC_GDP": 1.984,
          "PC_HEALTHXP": 34.725,
          "TIME": 2006,
          "TOTAL_SPEND": 29503,
          "USD_CAP": 267.98400000000004
         },
         {
          "FLAG_CODES": null,
          "LOCATION": "MEX",
          "PC_GDP": 1.974,
          "PC_HEALTHXP": 33.928000000000004,
          "TIME": 2007,
          "TOTAL_SPEND": 31203.68,
          "USD_CAP": 279.012
         },
         {
          "FLAG_CODES": null,
          "LOCATION": "MEX",
          "PC_GDP": 1.9040000000000001,
          "PC_HEALTHXP": 33.143,
          "TIME": 2008,
          "TOTAL_SPEND": 31901.69,
          "USD_CAP": 280.672
         },
         {
          "FLAG_CODES": null,
          "LOCATION": "MEX",
          "PC_GDP": 2.004,
          "PC_HEALTHXP": 32.454,
          "TIME": 2009,
          "TOTAL_SPEND": 33330.88,
          "USD_CAP": 288.566
         },
         {
          "FLAG_CODES": null,
          "LOCATION": "MEX",
          "PC_GDP": 1.896,
          "PC_HEALTHXP": 31.497,
          "TIME": 2010,
          "TOTAL_SPEND": 33676.28,
          "USD_CAP": 287.04900000000004
         },
         {
          "FLAG_CODES": null,
          "LOCATION": "MEX",
          "PC_GDP": 1.6230000000000002,
          "PC_HEALTHXP": 28.201,
          "TIME": 2011,
          "TOTAL_SPEND": 31652.94,
          "USD_CAP": 265.79
         },
         {
          "FLAG_CODES": null,
          "LOCATION": "MEX",
          "PC_GDP": 1.704,
          "PC_HEALTHXP": 28.765,
          "TIME": 2012,
          "TOTAL_SPEND": 34960.95,
          "USD_CAP": 289.344
         },
         {
          "FLAG_CODES": null,
          "LOCATION": "MEX",
          "PC_GDP": 1.645,
          "PC_HEALTHXP": 27.35,
          "TIME": 2013,
          "TOTAL_SPEND": 34794.7,
          "USD_CAP": 283.955
         },
         {
          "FLAG_CODES": null,
          "LOCATION": "MEX",
          "PC_GDP": 1.537,
          "PC_HEALTHXP": 27.011,
          "TIME": 2014,
          "TOTAL_SPEND": 34437.83,
          "USD_CAP": 277.22900000000004
         },
         {
          "FLAG_CODES": null,
          "LOCATION": "MEX",
          "PC_GDP": 1.595,
          "PC_HEALTHXP": 27.201,
          "TIME": 2015,
          "TOTAL_SPEND": 36108.67,
          "USD_CAP": 286.825
         },
         {
          "FLAG_CODES": null,
          "LOCATION": "NLD",
          "PC_GDP": 0.6609999999999999,
          "PC_HEALTHXP": 11.687000000000001,
          "TIME": 1972,
          "TOTAL_SPEND": 440.98,
          "USD_CAP": 33.085
         },
         {
          "FLAG_CODES": null,
          "LOCATION": "NLD",
          "PC_GDP": 0.637,
          "PC_HEALTHXP": 11.175,
          "TIME": 1973,
          "TOTAL_SPEND": 473.72,
          "USD_CAP": 35.249
         },
         {
          "FLAG_CODES": null,
          "LOCATION": "NLD",
          "PC_GDP": 0.609,
          "PC_HEALTHXP": 10.327,
          "TIME": 1974,
          "TOTAL_SPEND": 514.64,
          "USD_CAP": 37.995
         },
         {
          "FLAG_CODES": null,
          "LOCATION": "NLD",
          "PC_GDP": 0.617,
          "PC_HEALTHXP": 9.894,
          "TIME": 1975,
          "TOTAL_SPEND": 570.79,
          "USD_CAP": 41.766000000000005
         },
         {
          "FLAG_CODES": null,
          "LOCATION": "NLD",
          "PC_GDP": 0.588,
          "PC_HEALTHXP": 9.525,
          "TIME": 1976,
          "TOTAL_SPEND": 601.29,
          "USD_CAP": 43.653999999999996
         },
         {
          "FLAG_CODES": null,
          "LOCATION": "NLD",
          "PC_GDP": 0.575,
          "PC_HEALTHXP": 9.183,
          "TIME": 1977,
          "TOTAL_SPEND": 636.55,
          "USD_CAP": 45.94
         },
         {
          "FLAG_CODES": null,
          "LOCATION": "NLD",
          "PC_GDP": 0.5710000000000001,
          "PC_HEALTHXP": 8.954,
          "TIME": 1978,
          "TOTAL_SPEND": 692.44,
          "USD_CAP": 49.667
         },
         {
          "FLAG_CODES": null,
          "LOCATION": "NLD",
          "PC_GDP": 0.5660000000000001,
          "PC_HEALTHXP": 8.645,
          "TIME": 1979,
          "TOTAL_SPEND": 757.14,
          "USD_CAP": 53.934
         },
         {
          "FLAG_CODES": null,
          "LOCATION": "NLD",
          "PC_GDP": 0.555,
          "PC_HEALTHXP": 8.412,
          "TIME": 1980,
          "TOTAL_SPEND": 836.13,
          "USD_CAP": 59.091
         },
         {
          "FLAG_CODES": null,
          "LOCATION": "NLD",
          "PC_GDP": 0.56,
          "PC_HEALTHXP": 8.378,
          "TIME": 1981,
          "TOTAL_SPEND": 915.87,
          "USD_CAP": 64.28399999999999
         },
         {
          "FLAG_CODES": null,
          "LOCATION": "NLD",
          "PC_GDP": 0.598,
          "PC_HEALTHXP": 8.651,
          "TIME": 1982,
          "TOTAL_SPEND": 1025.69,
          "USD_CAP": 71.663
         },
         {
          "FLAG_CODES": null,
          "LOCATION": "NLD",
          "PC_GDP": 0.591,
          "PC_HEALTHXP": 8.547,
          "TIME": 1983,
          "TOTAL_SPEND": 1075.15,
          "USD_CAP": 74.834
         },
         {
          "FLAG_CODES": null,
          "LOCATION": "NLD",
          "PC_GDP": 0.614,
          "PC_HEALTHXP": 9.244,
          "TIME": 1984,
          "TOTAL_SPEND": 1191.22,
          "USD_CAP": 82.585
         },
         {
          "FLAG_CODES": null,
          "LOCATION": "NLD",
          "PC_GDP": 0.636,
          "PC_HEALTHXP": 9.595,
          "TIME": 1985,
          "TOTAL_SPEND": 1306.77,
          "USD_CAP": 90.17399999999999
         },
         {
          "FLAG_CODES": null,
          "LOCATION": "NLD",
          "PC_GDP": 0.67,
          "PC_HEALTHXP": 9.969,
          "TIME": 1986,
          "TOTAL_SPEND": 1442.51,
          "USD_CAP": 98.99
         },
         {
          "FLAG_CODES": null,
          "LOCATION": "NLD",
          "PC_GDP": 0.71,
          "PC_HEALTHXP": 10.399000000000001,
          "TIME": 1987,
          "TOTAL_SPEND": 1598.37,
          "USD_CAP": 108.992
         },
         {
          "FLAG_CODES": null,
          "LOCATION": "NLD",
          "PC_GDP": 0.7070000000000001,
          "PC_HEALTHXP": 10.472000000000001,
          "TIME": 1988,
          "TOTAL_SPEND": 1705.04,
          "USD_CAP": 115.51700000000001
         },
         {
          "FLAG_CODES": null,
          "LOCATION": "NLD",
          "PC_GDP": 0.69,
          "PC_HEALTHXP": 9.972999999999999,
          "TIME": 1989,
          "TOTAL_SPEND": 1805.82,
          "USD_CAP": 121.613
         },
         {
          "FLAG_CODES": null,
          "LOCATION": "NLD",
          "PC_GDP": 0.72,
          "PC_HEALTHXP": 10.168,
          "TIME": 1990,
          "TOTAL_SPEND": 2034.95,
          "USD_CAP": 136.10299999999998
         },
         {
          "FLAG_CODES": null,
          "LOCATION": "NLD",
          "PC_GDP": 0.737,
          "PC_HEALTHXP": 10.144,
          "TIME": 1991,
          "TOTAL_SPEND": 2203.4,
          "USD_CAP": 146.213
         },
         {
          "FLAG_CODES": null,
          "LOCATION": "NLD",
          "PC_GDP": 0.8220000000000001,
          "PC_HEALTHXP": 10.995999999999999,
          "TIME": 1992,
          "TOTAL_SPEND": 2556.24,
          "USD_CAP": 168.34900000000002
         },
         {
          "FLAG_CODES": null,
          "LOCATION": "NLD",
          "PC_GDP": 0.872,
          "PC_HEALTHXP": 11.522,
          "TIME": 1993,
          "TOTAL_SPEND": 2814.24,
          "USD_CAP": 184.053
         },
         {
          "FLAG_CODES": null,
          "LOCATION": "NLD",
          "PC_GDP": 0.85,
          "PC_HEALTHXP": 11.405999999999999,
          "TIME": 1994,
          "TOTAL_SPEND": 2883.76,
          "USD_CAP": 187.46599999999998
         },
         {
          "FLAG_CODES": null,
          "LOCATION": "NLD",
          "PC_GDP": 0.858,
          "PC_HEALTHXP": 11.65,
          "TIME": 1995,
          "TOTAL_SPEND": 3063.12,
          "USD_CAP": 198.145
         },
         {
          "FLAG_CODES": null,
          "LOCATION": "NLD",
          "PC_GDP": 0.848,
          "PC_HEALTHXP": 11.627,
          "TIME": 1996,
          "TOTAL_SPEND": 3189.06,
          "USD_CAP": 205.342
         },
         {
          "FLAG_CODES": null,
          "LOCATION": "NLD",
          "PC_GDP": 0.8170000000000001,
          "PC_HEALTHXP": 11.499,
          "TIME": 1997,
          "TOTAL_SPEND": 3278.39,
          "USD_CAP": 210.01
         },
         {
          "FLAG_CODES": "B",
          "LOCATION": "NLD",
          "PC_GDP": 0.8440000000000001,
          "PC_HEALTHXP": 11.76,
          "TIME": 1998,
          "TOTAL_SPEND": 3623.4,
          "USD_CAP": 230.68400000000003
         },
         {
          "FLAG_CODES": null,
          "LOCATION": "NLD",
          "PC_GDP": 0.862,
          "PC_HEALTHXP": 12.003,
          "TIME": 1999,
          "TOTAL_SPEND": 3943.27,
          "USD_CAP": 249.38299999999998
         },
         {
          "FLAG_CODES": null,
          "LOCATION": "NLD",
          "PC_GDP": 0.867,
          "PC_HEALTHXP": 12.285,
          "TIME": 2000,
          "TOTAL_SPEND": 4358.61,
          "USD_CAP": 273.687
         },
         {
          "FLAG_CODES": null,
          "LOCATION": "NLD",
          "PC_GDP": 0.91,
          "PC_HEALTHXP": 12.232000000000001,
          "TIME": 2001,
          "TOTAL_SPEND": 4807.03,
          "USD_CAP": 299.575
         },
         {
          "FLAG_CODES": null,
          "LOCATION": "NLD",
          "PC_GDP": 0.956,
          "PC_HEALTHXP": 12.017999999999999,
          "TIME": 2002,
          "TOTAL_SPEND": 5247.19,
          "USD_CAP": 324.925
         },
         {
          "FLAG_CODES": "B",
          "LOCATION": "NLD",
          "PC_GDP": 1.033,
          "PC_HEALTHXP": 11.139000000000001,
          "TIME": 2005,
          "TOTAL_SPEND": 6280.02,
          "USD_CAP": 384.80800000000005
         },
         {
          "FLAG_CODES": null,
          "LOCATION": "NLD",
          "PC_GDP": 0.997,
          "PC_HEALTHXP": 10.857000000000001,
          "TIME": 2006,
          "TOTAL_SPEND": 6619.32,
          "USD_CAP": 404.94800000000004
         },
         {
          "FLAG_CODES": null,
          "LOCATION": "NLD",
          "PC_GDP": 1.016,
          "PC_HEALTHXP": 11.004000000000001,
          "TIME": 2007,
          "TOTAL_SPEND": 7236.78,
          "USD_CAP": 441.76
         },
         {
          "FLAG_CODES": null,
          "LOCATION": "NLD",
          "PC_GDP": 0.982,
          "PC_HEALTHXP": 10.33,
          "TIME": 2008,
          "TOTAL_SPEND": 7407.13,
          "USD_CAP": 450.402
         },
         {
          "FLAG_CODES": null,
          "LOCATION": "NLD",
          "PC_GDP": 1.022,
          "PC_HEALTHXP": 9.982999999999999,
          "TIME": 2009,
          "TOTAL_SPEND": 7448.16,
          "USD_CAP": 450.574
         },
         {
          "FLAG_CODES": null,
          "LOCATION": "NLD",
          "PC_GDP": 1.021,
          "PC_HEALTHXP": 9.817,
          "TIME": 2010,
          "TOTAL_SPEND": 7565.29,
          "USD_CAP": 455.31800000000004
         },
         {
          "FLAG_CODES": null,
          "LOCATION": "NLD",
          "PC_GDP": 1.003,
          "PC_HEALTHXP": 9.53,
          "TIME": 2011,
          "TOTAL_SPEND": 7710.18,
          "USD_CAP": 461.879
         },
         {
          "FLAG_CODES": null,
          "LOCATION": "NLD",
          "PC_GDP": 0.903,
          "PC_HEALTHXP": 8.277000000000001,
          "TIME": 2012,
          "TOTAL_SPEND": 7062.77,
          "USD_CAP": 421.533
         },
         {
          "FLAG_CODES": null,
          "LOCATION": "NLD",
          "PC_GDP": 0.845,
          "PC_HEALTHXP": 7.757000000000001,
          "TIME": 2013,
          "TOTAL_SPEND": 6913.43,
          "USD_CAP": 411.405
         },
         {
          "FLAG_CODES": null,
          "LOCATION": "NLD",
          "PC_GDP": 0.8290000000000001,
          "PC_HEALTHXP": 7.638,
          "TIME": 2014,
          "TOTAL_SPEND": 6855.12,
          "USD_CAP": 406.47
         },
         {
          "FLAG_CODES": null,
          "LOCATION": "NLD",
          "PC_GDP": 0.841,
          "PC_HEALTHXP": 7.865,
          "TIME": 2015,
          "TOTAL_SPEND": 7057.07,
          "USD_CAP": 416.594
         },
         {
          "FLAG_CODES": "P",
          "LOCATION": "NLD",
          "PC_GDP": 0.843,
          "PC_HEALTHXP": 8.024,
          "TIME": 2016,
          "TOTAL_SPEND": 7354.27,
          "USD_CAP": 432.13599999999997
         },
         {
          "FLAG_CODES": null,
          "LOCATION": "NZL",
          "PC_GDP": 0.583,
          "PC_HEALTHXP": 11.429,
          "TIME": 1971,
          "TOTAL_SPEND": 70.18,
          "USD_CAP": 24.598000000000003
         },
         {
          "FLAG_CODES": null,
          "LOCATION": "NZL",
          "PC_GDP": 0.645,
          "PC_HEALTHXP": 10.638,
          "TIME": 1976,
          "TOTAL_SPEND": 129.76,
          "USD_CAP": 41.718
         },
         {
          "FLAG_CODES": null,
          "LOCATION": "NZL",
          "PC_GDP": 0.6809999999999999,
          "PC_HEALTHXP": 11.865,
          "TIME": 1980,
          "TOTAL_SPEND": 178.48,
          "USD_CAP": 57.333999999999996
         },
         {
          "FLAG_CODES": null,
          "LOCATION": "NZL",
          "PC_GDP": 0.614,
          "PC_HEALTHXP": 10.843,
          "TIME": 1981,
          "TOTAL_SPEND": 181.31,
          "USD_CAP": 58.022
         },
         {
          "FLAG_CODES": null,
          "LOCATION": "NZL",
          "PC_GDP": 0.6629999999999999,
          "PC_HEALTHXP": 11.429,
          "TIME": 1982,
          "TOTAL_SPEND": 215.11,
          "USD_CAP": 68.157
         },
         {
          "FLAG_CODES": null,
          "LOCATION": "NZL",
          "PC_GDP": 0.6759999999999999,
          "PC_HEALTHXP": 11.962,
          "TIME": 1983,
          "TOTAL_SPEND": 239.37,
          "USD_CAP": 74.818
         },
         {
          "FLAG_CODES": null,
          "LOCATION": "NZL",
          "PC_GDP": 0.6679999999999999,
          "PC_HEALTHXP": 12.433,
          "TIME": 1984,
          "TOTAL_SPEND": 260.43,
          "USD_CAP": 80.7
         },
         {
          "FLAG_CODES": null,
          "LOCATION": "NZL",
          "PC_GDP": 0.657,
          "PC_HEALTHXP": 13.308,
          "TIME": 1985,
          "TOTAL_SPEND": 264.77,
          "USD_CAP": 81.54
         },
         {
          "FLAG_CODES": null,
          "LOCATION": "NZL",
          "PC_GDP": 0.73,
          "PC_HEALTHXP": 14.491,
          "TIME": 1986,
          "TOTAL_SPEND": 311.57,
          "USD_CAP": 95.976
         },
         {
          "FLAG_CODES": null,
          "LOCATION": "NZL",
          "PC_GDP": 0.8190000000000001,
          "PC_HEALTHXP": 14.699000000000002,
          "TIME": 1987,
          "TOTAL_SPEND": 357.54,
          "USD_CAP": 109.193
         },
         {
          "FLAG_CODES": null,
          "LOCATION": "NZL",
          "PC_GDP": 0.871,
          "PC_HEALTHXP": 14.213,
          "TIME": 1988,
          "TOTAL_SPEND": 390.98,
          "USD_CAP": 119.07700000000001
         },
         {
          "FLAG_CODES": null,
          "LOCATION": "NZL",
          "PC_GDP": 0.9,
          "PC_HEALTHXP": 14.344000000000001,
          "TIME": 1989,
          "TOTAL_SPEND": 424,
          "USD_CAP": 128.515
         },
         {
          "FLAG_CODES": null,
          "LOCATION": "NZL",
          "PC_GDP": 0.917,
          "PC_HEALTHXP": 13.751,
          "TIME": 1990,
          "TOTAL_SPEND": 445.97,
          "USD_CAP": 133.933
         },
         {
          "FLAG_CODES": null,
          "LOCATION": "NZL",
          "PC_GDP": 0.9990000000000001,
          "PC_HEALTHXP": 14.071,
          "TIME": 1991,
          "TOTAL_SPEND": 508.7,
          "USD_CAP": 145.548
         },
         {
          "FLAG_CODES": null,
          "LOCATION": "NZL",
          "PC_GDP": 1.028,
          "PC_HEALTHXP": 14.218,
          "TIME": 1992,
          "TOTAL_SPEND": 541.42,
          "USD_CAP": 153.303
         },
         {
          "FLAG_CODES": null,
          "LOCATION": "NZL",
          "PC_GDP": 1.0290000000000001,
          "PC_HEALTHXP": 14.854000000000001,
          "TIME": 1993,
          "TOTAL_SPEND": 586.55,
          "USD_CAP": 164.199
         },
         {
          "FLAG_CODES": null,
          "LOCATION": "NZL",
          "PC_GDP": 1.0959999999999999,
          "PC_HEALTHXP": 15.806,
          "TIME": 1994,
          "TOTAL_SPEND": 678.3,
          "USD_CAP": 187.377
         },
         {
          "FLAG_CODES": null,
          "LOCATION": "NZL",
          "PC_GDP": 1.0270000000000001,
          "PC_HEALTHXP": 14.775,
          "TIME": 1995,
          "TOTAL_SPEND": 675.32,
          "USD_CAP": 183.84
         },
         {
          "FLAG_CODES": null,
          "LOCATION": "NZL",
          "PC_GDP": 1.002,
          "PC_HEALTHXP": 14.540999999999999,
          "TIME": 1996,
          "TOTAL_SPEND": 690.5,
          "USD_CAP": 185.02200000000002
         },
         {
          "FLAG_CODES": null,
          "LOCATION": "NZL",
          "PC_GDP": 1.0190000000000001,
          "PC_HEALTHXP": 14.355,
          "TIME": 1997,
          "TOTAL_SPEND": 737.21,
          "USD_CAP": 194.96200000000002
         },
         {
          "FLAG_CODES": null,
          "LOCATION": "NZL",
          "PC_GDP": 0.851,
          "PC_HEALTHXP": 10.767000000000001,
          "TIME": 2004,
          "TOTAL_SPEND": 872.28,
          "USD_CAP": 213.40200000000002
         },
         {
          "FLAG_CODES": null,
          "LOCATION": "NZL",
          "PC_GDP": 0.885,
          "PC_HEALTHXP": 10.697000000000001,
          "TIME": 2005,
          "TOTAL_SPEND": 939.43,
          "USD_CAP": 227.25099999999998
         },
         {
          "FLAG_CODES": null,
          "LOCATION": "NZL",
          "PC_GDP": 0.976,
          "PC_HEALTHXP": 11.308,
          "TIME": 2006,
          "TOTAL_SPEND": 1134.33,
          "USD_CAP": 271.073
         },
         {
          "FLAG_CODES": null,
          "LOCATION": "NZL",
          "PC_GDP": 0.865,
          "PC_HEALTHXP": 10.394,
          "TIME": 2007,
          "TOTAL_SPEND": 1073.64,
          "USD_CAP": 254.188
         },
         {
          "FLAG_CODES": null,
          "LOCATION": "NOR",
          "PC_GDP": 0.342,
          "PC_HEALTHXP": 8.564,
          "TIME": 1970,
          "TOTAL_SPEND": 44.63,
          "USD_CAP": 11.514000000000001
         },
         {
          "FLAG_CODES": null,
          "LOCATION": "NOR",
          "PC_GDP": 0.33799999999999997,
          "PC_HEALTHXP": 7.933,
          "TIME": 1971,
          "TOTAL_SPEND": 49.01,
          "USD_CAP": 12.556
         },
         {
          "FLAG_CODES": null,
          "LOCATION": "NOR",
          "PC_GDP": 0.332,
          "PC_HEALTHXP": 7.166,
          "TIME": 1972,
          "TOTAL_SPEND": 52.91,
          "USD_CAP": 13.453
         },
         {
          "FLAG_CODES": null,
          "LOCATION": "NOR",
          "PC_GDP": 0.33799999999999997,
          "PC_HEALTHXP": 7.057,
          "TIME": 1973,
          "TOTAL_SPEND": 59.3,
          "USD_CAP": 14.972999999999999
         },
         {
          "FLAG_CODES": null,
          "LOCATION": "NOR",
          "PC_GDP": 0.34600000000000003,
          "PC_HEALTHXP": 7.236000000000001,
          "TIME": 1974,
          "TOTAL_SPEND": 68.87,
          "USD_CAP": 17.281
         },
         {
          "FLAG_CODES": null,
          "LOCATION": "NOR",
          "PC_GDP": 0.369,
          "PC_HEALTHXP": 7.103,
          "TIME": 1975,
          "TOTAL_SPEND": 84.1,
          "USD_CAP": 20.986
         },
         {
          "FLAG_CODES": null,
          "LOCATION": "NOR",
          "PC_GDP": 0.366,
          "PC_HEALTHXP": 6.876,
          "TIME": 1976,
          "TOTAL_SPEND": 93.17,
          "USD_CAP": 23.14
         },
         {
          "FLAG_CODES": null,
          "LOCATION": "NOR",
          "PC_GDP": 0.353,
          "PC_HEALTHXP": 6.355,
          "TIME": 1977,
          "TOTAL_SPEND": 99.24,
          "USD_CAP": 24.545
         },
         {
          "FLAG_CODES": null,
          "LOCATION": "NOR",
          "PC_GDP": 0.33799999999999997,
          "PC_HEALTHXP": 5.545,
          "TIME": 1978,
          "TOTAL_SPEND": 105.72,
          "USD_CAP": 26.049
         },
         {
          "FLAG_CODES": null,
          "LOCATION": "NOR",
          "PC_GDP": 0.322,
          "PC_HEALTHXP": 5.787000000000001,
          "TIME": 1979,
          "TOTAL_SPEND": 113.93,
          "USD_CAP": 27.975
         },
         {
          "FLAG_CODES": null,
          "LOCATION": "NOR",
          "PC_GDP": 0.596,
          "PC_HEALTHXP": 11.023,
          "TIME": 1980,
          "TOTAL_SPEND": 240.35,
          "USD_CAP": 58.82899999999999
         },
         {
          "FLAG_CODES": null,
          "LOCATION": "NOR",
          "PC_GDP": 0.59,
          "PC_HEALTHXP": 10.847000000000001,
          "TIME": 1981,
          "TOTAL_SPEND": 264.21,
          "USD_CAP": 64.446
         },
         {
          "FLAG_CODES": null,
          "LOCATION": "NOR",
          "PC_GDP": 0.614,
          "PC_HEALTHXP": 10.88,
          "TIME": 1982,
          "TOTAL_SPEND": 292.46,
          "USD_CAP": 71.07600000000001
         },
         {
          "FLAG_CODES": null,
          "LOCATION": "NOR",
          "PC_GDP": 0.621,
          "PC_HEALTHXP": 10.673,
          "TIME": 1983,
          "TOTAL_SPEND": 320.08,
          "USD_CAP": 77.53
         },
         {
          "FLAG_CODES": null,
          "LOCATION": "NOR",
          "PC_GDP": 0.599,
          "PC_HEALTHXP": 10.940999999999999,
          "TIME": 1984,
          "TOTAL_SPEND": 339.09,
          "USD_CAP": 81.903
         },
         {
          "FLAG_CODES": null,
          "LOCATION": "NOR",
          "PC_GDP": 0.584,
          "PC_HEALTHXP": 10.661,
          "TIME": 1985,
          "TOTAL_SPEND": 359.82,
          "USD_CAP": 86.65
         },
         {
          "FLAG_CODES": null,
          "LOCATION": "NOR",
          "PC_GDP": 0.622,
          "PC_HEALTHXP": 10.51,
          "TIME": 1986,
          "TOTAL_SPEND": 406.76,
          "USD_CAP": 97.60700000000001
         },
         {
          "FLAG_CODES": null,
          "LOCATION": "NOR",
          "PC_GDP": 0.635,
          "PC_HEALTHXP": 10.322000000000001,
          "TIME": 1987,
          "TOTAL_SPEND": 433.55,
          "USD_CAP": 103.54899999999999
         },
         {
          "FLAG_CODES": null,
          "LOCATION": "NOR",
          "PC_GDP": 0.485,
          "PC_HEALTHXP": 7.712000000000001,
          "TIME": 1988,
          "TOTAL_SPEND": 341.85,
          "USD_CAP": 81.21
         },
         {
          "FLAG_CODES": null,
          "LOCATION": "NOR",
          "PC_GDP": 0.498,
          "PC_HEALTHXP": 8.141,
          "TIME": 1989,
          "TOTAL_SPEND": 368.31,
          "USD_CAP": 87.135
         },
         {
          "FLAG_CODES": null,
          "LOCATION": "NOR",
          "PC_GDP": 0.542,
          "PC_HEALTHXP": 7.659,
          "TIME": 1990,
          "TOTAL_SPEND": 423.58,
          "USD_CAP": 99.867
         },
         {
          "FLAG_CODES": null,
          "LOCATION": "NOR",
          "PC_GDP": 0.573,
          "PC_HEALTHXP": 7.7989999999999995,
          "TIME": 1991,
          "TOTAL_SPEND": 477.33,
          "USD_CAP": 112.00299999999999
         },
         {
          "FLAG_CODES": null,
          "LOCATION": "NOR",
          "PC_GDP": 0.593,
          "PC_HEALTHXP": 7.903,
          "TIME": 1992,
          "TOTAL_SPEND": 522.92,
          "USD_CAP": 121.995
         },
         {
          "FLAG_CODES": "B",
          "LOCATION": "NOR",
          "PC_GDP": 0.745,
          "PC_HEALTHXP": 10.101,
          "TIME": 1993,
          "TOTAL_SPEND": 692.42,
          "USD_CAP": 160.58100000000002
         },
         {
          "FLAG_CODES": null,
          "LOCATION": "NOR",
          "PC_GDP": 0.677,
          "PC_HEALTHXP": 9.282,
          "TIME": 1994,
          "TOTAL_SPEND": 674.61,
          "USD_CAP": 155.562
         },
         {
          "FLAG_CODES": null,
          "LOCATION": "NOR",
          "PC_GDP": 0.6920000000000001,
          "PC_HEALTHXP": 9.514,
          "TIME": 1995,
          "TOTAL_SPEND": 733.13,
          "USD_CAP": 168.18099999999998
         },
         {
          "FLAG_CODES": null,
          "LOCATION": "NOR",
          "PC_GDP": 0.6940000000000001,
          "PC_HEALTHXP": 9.652999999999999,
          "TIME": 1996,
          "TOTAL_SPEND": 814.63,
          "USD_CAP": 185.93099999999998
         },
         {
          "FLAG_CODES": "B",
          "LOCATION": "NOR",
          "PC_GDP": 0.746,
          "PC_HEALTHXP": 9.633,
          "TIME": 1997,
          "TOTAL_SPEND": 939.24,
          "USD_CAP": 213.21400000000003
         },
         {
          "FLAG_CODES": null,
          "LOCATION": "NOR",
          "PC_GDP": 0.8079999999999999,
          "PC_HEALTHXP": 9.592,
          "TIME": 1998,
          "TOTAL_SPEND": 1008.69,
          "USD_CAP": 227.62
         },
         {
          "FLAG_CODES": null,
          "LOCATION": "NOR",
          "PC_GDP": 0.81,
          "PC_HEALTHXP": 9.601,
          "TIME": 1999,
          "TOTAL_SPEND": 1104.19,
          "USD_CAP": 247.47
         },
         {
          "FLAG_CODES": null,
          "LOCATION": "NOR",
          "PC_GDP": 0.787,
          "PC_HEALTHXP": 10.212,
          "TIME": 2000,
          "TOTAL_SPEND": 1305.61,
          "USD_CAP": 290.719
         },
         {
          "FLAG_CODES": "B",
          "LOCATION": "NOR",
          "PC_GDP": 0.8009999999999999,
          "PC_HEALTHXP": 9.993,
          "TIME": 2001,
          "TOTAL_SPEND": 1370.16,
          "USD_CAP": 303.553
         },
         {
          "FLAG_CODES": null,
          "LOCATION": "NOR",
          "PC_GDP": 0.9059999999999999,
          "PC_HEALTHXP": 10.057,
          "TIME": 2002,
          "TOTAL_SPEND": 1560.16,
          "USD_CAP": 343.788
         },
         {
          "FLAG_CODES": null,
          "LOCATION": "NOR",
          "PC_GDP": 0.9109999999999999,
          "PC_HEALTHXP": 9.877,
          "TIME": 2003,
          "TOTAL_SPEND": 1601.61,
          "USD_CAP": 350.856
         },
         {
          "FLAG_CODES": null,
          "LOCATION": "NOR",
          "PC_GDP": 0.888,
          "PC_HEALTHXP": 10.062000000000001,
          "TIME": 2004,
          "TOTAL_SPEND": 1733.88,
          "USD_CAP": 377.594
         },
         {
          "FLAG_CODES": null,
          "LOCATION": "NOR",
          "PC_GDP": 0.805,
          "PC_HEALTHXP": 9.662,
          "TIME": 2005,
          "TOTAL_SPEND": 1778.31,
          "USD_CAP": 384.64099999999996
         },
         {
          "FLAG_CODES": null,
          "LOCATION": "NOR",
          "PC_GDP": 0.731,
          "PC_HEALTHXP": 9.232000000000001,
          "TIME": 2006,
          "TOTAL_SPEND": 1843.08,
          "USD_CAP": 395.454
         },
         {
          "FLAG_CODES": null,
          "LOCATION": "NOR",
          "PC_GDP": 0.691,
          "PC_HEALTHXP": 8.579,
          "TIME": 2007,
          "TOTAL_SPEND": 1816.77,
          "USD_CAP": 385.796
         },
         {
          "FLAG_CODES": null,
          "LOCATION": "NOR",
          "PC_GDP": 0.633,
          "PC_HEALTHXP": 7.95,
          "TIME": 2008,
          "TOTAL_SPEND": 1862.34,
          "USD_CAP": 390.574
         },
         {
          "FLAG_CODES": null,
          "LOCATION": "NOR",
          "PC_GDP": 0.69,
          "PC_HEALTHXP": 7.606,
          "TIME": 2009,
          "TOTAL_SPEND": 1847.5,
          "USD_CAP": 382.60699999999997
         },
         {
          "FLAG_CODES": null,
          "LOCATION": "NOR",
          "PC_GDP": 0.682,
          "PC_HEALTHXP": 7.653,
          "TIME": 2010,
          "TOTAL_SPEND": 1933.48,
          "USD_CAP": 395.45599999999996
         },
         {
          "FLAG_CODES": null,
          "LOCATION": "NOR",
          "PC_GDP": 0.703,
          "PC_HEALTHXP": 7.997999999999999,
          "TIME": 2011,
          "TOTAL_SPEND": 2161.35,
          "USD_CAP": 436.365
         },
         {
          "FLAG_CODES": null,
          "LOCATION": "NOR",
          "PC_GDP": 0.679,
          "PC_HEALTHXP": 7.733,
          "TIME": 2012,
          "TOTAL_SPEND": 2226.38,
          "USD_CAP": 443.629
         },
         {
          "FLAG_CODES": null,
          "LOCATION": "NOR",
          "PC_GDP": 0.6779999999999999,
          "PC_HEALTHXP": 7.5889999999999995,
          "TIME": 2013,
          "TOTAL_SPEND": 2304.93,
          "USD_CAP": 453.76
         },
         {
          "FLAG_CODES": null,
          "LOCATION": "NOR",
          "PC_GDP": 0.7,
          "PC_HEALTHXP": 7.49,
          "TIME": 2014,
          "TOTAL_SPEND": 2361.06,
          "USD_CAP": 459.597
         },
         {
          "FLAG_CODES": null,
          "LOCATION": "NOR",
          "PC_GDP": 0.764,
          "PC_HEALTHXP": 7.655,
          "TIME": 2015,
          "TOTAL_SPEND": 2458.59,
          "USD_CAP": 473.844
         },
         {
          "FLAG_CODES": "P",
          "LOCATION": "NOR",
          "PC_GDP": 0.789,
          "PC_HEALTHXP": 7.539,
          "TIME": 2016,
          "TOTAL_SPEND": 2622.48,
          "USD_CAP": 501.15
         },
         {
          "FLAG_CODES": null,
          "LOCATION": "POL",
          "PC_GDP": 1.794,
          "PC_HEALTHXP": 29.509,
          "TIME": 2002,
          "TOTAL_SPEND": 8079.64,
          "USD_CAP": 211.34099999999998
         },
         {
          "FLAG_CODES": null,
          "LOCATION": "POL",
          "PC_GDP": 1.883,
          "PC_HEALTHXP": 31.574,
          "TIME": 2003,
          "TOTAL_SPEND": 8815.02,
          "USD_CAP": 230.732
         },
         {
          "FLAG_CODES": null,
          "LOCATION": "POL",
          "PC_GDP": 1.819,
          "PC_HEALTHXP": 31,
          "TIME": 2004,
          "TOTAL_SPEND": 9273.93,
          "USD_CAP": 242.886
         },
         {
          "FLAG_CODES": null,
          "LOCATION": "POL",
          "PC_GDP": 1.7280000000000002,
          "PC_HEALTHXP": 29.761999999999997,
          "TIME": 2005,
          "TOTAL_SPEND": 9166.23,
          "USD_CAP": 240.171
         },
         {
          "FLAG_CODES": null,
          "LOCATION": "POL",
          "PC_GDP": 1.672,
          "PC_HEALTHXP": 28.819000000000003,
          "TIME": 2006,
          "TOTAL_SPEND": 9660.19,
          "USD_CAP": 253.274
         },
         {
          "FLAG_CODES": null,
          "LOCATION": "POL",
          "PC_GDP": 1.5590000000000002,
          "PC_HEALTHXP": 26.54,
          "TIME": 2007,
          "TOTAL_SPEND": 9971.16,
          "USD_CAP": 261.569
         },
         {
          "FLAG_CODES": null,
          "LOCATION": "POL",
          "PC_GDP": 1.568,
          "PC_HEALTHXP": 24.605,
          "TIME": 2008,
          "TOTAL_SPEND": 10947.54,
          "USD_CAP": 287.143
         },
         {
          "FLAG_CODES": null,
          "LOCATION": "POL",
          "PC_GDP": 1.619,
          "PC_HEALTHXP": 24.574,
          "TIME": 2009,
          "TOTAL_SPEND": 11897.54,
          "USD_CAP": 311.849
         },
         {
          "FLAG_CODES": null,
          "LOCATION": "POL",
          "PC_GDP": 1.5619999999999998,
          "PC_HEALTHXP": 24.333000000000002,
          "TIME": 2010,
          "TOTAL_SPEND": 12531.3,
          "USD_CAP": 329.4
         },
         {
          "FLAG_CODES": null,
          "LOCATION": "POL",
          "PC_GDP": 1.505,
          "PC_HEALTHXP": 24.148000000000003,
          "TIME": 2011,
          "TOTAL_SPEND": 13093.26,
          "USD_CAP": 343.98699999999997
         },
         {
          "FLAG_CODES": null,
          "LOCATION": "POL",
          "PC_GDP": 1.38,
          "PC_HEALTHXP": 22.255,
          "TIME": 2012,
          "TOTAL_SPEND": 12519.47,
          "USD_CAP": 328.913
         },
         {
          "FLAG_CODES": null,
          "LOCATION": "POL",
          "PC_GDP": 1.3840000000000001,
          "PC_HEALTHXP": 21.704,
          "TIME": 2013,
          "TOTAL_SPEND": 13011.53,
          "USD_CAP": 342.04699999999997
         },
         {
          "FLAG_CODES": null,
          "LOCATION": "POL",
          "PC_GDP": 1.341,
          "PC_HEALTHXP": 21.468000000000004,
          "TIME": 2014,
          "TOTAL_SPEND": 13108.5,
          "USD_CAP": 344.85400000000004
         },
         {
          "FLAG_CODES": null,
          "LOCATION": "POL",
          "PC_GDP": 1.33,
          "PC_HEALTHXP": 20.965999999999998,
          "TIME": 2015,
          "TOTAL_SPEND": 13568.14,
          "USD_CAP": 357.184
         },
         {
          "FLAG_CODES": null,
          "LOCATION": "PRT",
          "PC_GDP": 0.322,
          "PC_HEALTHXP": 14.225999999999999,
          "TIME": 1970,
          "TOTAL_SPEND": 58.89,
          "USD_CAP": 6.784
         },
         {
          "FLAG_CODES": null,
          "LOCATION": "PRT",
          "PC_GDP": 0.846,
          "PC_HEALTHXP": 20.706,
          "TIME": 1977,
          "TOTAL_SPEND": 334.15,
          "USD_CAP": 35.339
         },
         {
          "FLAG_CODES": null,
          "LOCATION": "PRT",
          "PC_GDP": 1.021,
          "PC_HEALTHXP": 24.23,
          "TIME": 1978,
          "TOTAL_SPEND": 443.71,
          "USD_CAP": 46.422
         },
         {
          "FLAG_CODES": null,
          "LOCATION": "PRT",
          "PC_GDP": 1.025,
          "PC_HEALTHXP": 25.041,
          "TIME": 1979,
          "TOTAL_SPEND": 509.66,
          "USD_CAP": 52.753
         },
         {
          "FLAG_CODES": null,
          "LOCATION": "PRT",
          "PC_GDP": 1.004,
          "PC_HEALTHXP": 20.976999999999997,
          "TIME": 1980,
          "TOTAL_SPEND": 569.24,
          "USD_CAP": 58.286
         },
         {
          "FLAG_CODES": null,
          "LOCATION": "PRT",
          "PC_GDP": 0.978,
          "PC_HEALTHXP": 19.472,
          "TIME": 1981,
          "TOTAL_SPEND": 615.91,
          "USD_CAP": 62.52
         },
         {
          "FLAG_CODES": null,
          "LOCATION": "PRT",
          "PC_GDP": 0.965,
          "PC_HEALTHXP": 18.984,
          "TIME": 1982,
          "TOTAL_SPEND": 659.19,
          "USD_CAP": 66.506
         },
         {
          "FLAG_CODES": null,
          "LOCATION": "PRT",
          "PC_GDP": 0.9690000000000001,
          "PC_HEALTHXP": 20.083,
          "TIME": 1983,
          "TOTAL_SPEND": 686.57,
          "USD_CAP": 68.94800000000001
         },
         {
          "FLAG_CODES": null,
          "LOCATION": "PRT",
          "PC_GDP": 1.018,
          "PC_HEALTHXP": 20.576999999999998,
          "TIME": 1984,
          "TOTAL_SPEND": 733.35,
          "USD_CAP": 73.363
         },
         {
          "FLAG_CODES": null,
          "LOCATION": "PRT",
          "PC_GDP": 1.393,
          "PC_HEALTHXP": 25.954,
          "TIME": 1985,
          "TOTAL_SPEND": 1064.23,
          "USD_CAP": 106.17200000000001
         },
         {
          "FLAG_CODES": null,
          "LOCATION": "PRT",
          "PC_GDP": 1.365,
          "PC_HEALTHXP": 23.01,
          "TIME": 1986,
          "TOTAL_SPEND": 1107.79,
          "USD_CAP": 110.41799999999999
         },
         {
          "FLAG_CODES": null,
          "LOCATION": "PRT",
          "PC_GDP": 1.462,
          "PC_HEALTHXP": 25.339000000000002,
          "TIME": 1987,
          "TOTAL_SPEND": 1294.19,
          "USD_CAP": 129.032
         },
         {
          "FLAG_CODES": null,
          "LOCATION": "PRT",
          "PC_GDP": 1.3969999999999998,
          "PC_HEALTHXP": 23.255,
          "TIME": 1988,
          "TOTAL_SPEND": 1376.44,
          "USD_CAP": 137.375
         },
         {
          "FLAG_CODES": null,
          "LOCATION": "PRT",
          "PC_GDP": 1.344,
          "PC_HEALTHXP": 24.267,
          "TIME": 1989,
          "TOTAL_SPEND": 1463.81,
          "USD_CAP": 146.308
         },
         {
          "FLAG_CODES": null,
          "LOCATION": "PRT",
          "PC_GDP": 1.396,
          "PC_HEALTHXP": 25.305,
          "TIME": 1990,
          "TOTAL_SPEND": 1638.87,
          "USD_CAP": 164.162
         },
         {
          "FLAG_CODES": null,
          "LOCATION": "PRT",
          "PC_GDP": 1.4969999999999999,
          "PC_HEALTHXP": 24.785999999999998,
          "TIME": 1991,
          "TOTAL_SPEND": 1895.43,
          "USD_CAP": 190.3
         },
         {
          "FLAG_CODES": null,
          "LOCATION": "PRT",
          "PC_GDP": 1.567,
          "PC_HEALTHXP": 25.336,
          "TIME": 1992,
          "TOTAL_SPEND": 2052.13,
          "USD_CAP": 206.19299999999998
         },
         {
          "FLAG_CODES": null,
          "LOCATION": "PRT",
          "PC_GDP": 1.6909999999999998,
          "PC_HEALTHXP": 26.203000000000003,
          "TIME": 1993,
          "TOTAL_SPEND": 2219.99,
          "USD_CAP": 222.78599999999997
         },
         {
          "FLAG_CODES": null,
          "LOCATION": "PRT",
          "PC_GDP": 1.673,
          "PC_HEALTHXP": 26.03,
          "TIME": 1994,
          "TOTAL_SPEND": 2264.98,
          "USD_CAP": 226.69
         },
         {
          "FLAG_CODES": "B",
          "LOCATION": "PRT",
          "PC_GDP": 1.7480000000000002,
          "PC_HEALTHXP": 24.275,
          "TIME": 1995,
          "TOTAL_SPEND": 2518.93,
          "USD_CAP": 251.235
         },
         {
          "FLAG_CODES": null,
          "LOCATION": "PRT",
          "PC_GDP": 1.835,
          "PC_HEALTHXP": 24.625999999999998,
          "TIME": 1996,
          "TOTAL_SPEND": 2752.27,
          "USD_CAP": 273.478
         },
         {
          "FLAG_CODES": null,
          "LOCATION": "PRT",
          "PC_GDP": 1.8319999999999999,
          "PC_HEALTHXP": 24.72,
          "TIME": 1997,
          "TOTAL_SPEND": 2923.05,
          "USD_CAP": 289.154
         },
         {
          "FLAG_CODES": null,
          "LOCATION": "PRT",
          "PC_GDP": 1.7830000000000001,
          "PC_HEALTHXP": 24.15,
          "TIME": 1998,
          "TOTAL_SPEND": 3019.92,
          "USD_CAP": 297.23
         },
         {
          "FLAG_CODES": "B",
          "LOCATION": "PRT",
          "PC_GDP": 1.8319999999999999,
          "PC_HEALTHXP": 21.881,
          "TIME": 2000,
          "TOTAL_SPEND": 3558.59,
          "USD_CAP": 345.833
         },
         {
          "FLAG_CODES": null,
          "LOCATION": "PRT",
          "PC_GDP": 1.89,
          "PC_HEALTHXP": 22.486,
          "TIME": 2001,
          "TOTAL_SPEND": 3835.32,
          "USD_CAP": 370.10699999999997
         },
         {
          "FLAG_CODES": null,
          "LOCATION": "PRT",
          "PC_GDP": 1.929,
          "PC_HEALTHXP": 22.541999999999998,
          "TIME": 2002,
          "TOTAL_SPEND": 4094.15,
          "USD_CAP": 392.92699999999996
         },
         {
          "FLAG_CODES": null,
          "LOCATION": "PRT",
          "PC_GDP": 1.984,
          "PC_HEALTHXP": 22.284000000000002,
          "TIME": 2003,
          "TOTAL_SPEND": 4323.44,
          "USD_CAP": 413.37699999999995
         },
         {
          "FLAG_CODES": null,
          "LOCATION": "PRT",
          "PC_GDP": 2.076,
          "PC_HEALTHXP": 22.336,
          "TIME": 2004,
          "TOTAL_SPEND": 4678,
          "USD_CAP": 446.21
         },
         {
          "FLAG_CODES": null,
          "LOCATION": "PRT",
          "PC_GDP": 2.084,
          "PC_HEALTHXP": 22.09,
          "TIME": 2005,
          "TOTAL_SPEND": 4977.12,
          "USD_CAP": 473.861
         },
         {
          "FLAG_CODES": null,
          "LOCATION": "PRT",
          "PC_GDP": 2.041,
          "PC_HEALTHXP": 22.342,
          "TIME": 2006,
          "TOTAL_SPEND": 5298.66,
          "USD_CAP": 503.565
         },
         {
          "FLAG_CODES": null,
          "LOCATION": "PRT",
          "PC_GDP": 2.0069999999999997,
          "PC_HEALTHXP": 22.136,
          "TIME": 2007,
          "TOTAL_SPEND": 5436.72,
          "USD_CAP": 515.673
         },
         {
          "FLAG_CODES": null,
          "LOCATION": "PRT",
          "PC_GDP": 1.9809999999999999,
          "PC_HEALTHXP": 21.184,
          "TIME": 2008,
          "TOTAL_SPEND": 5570.75,
          "USD_CAP": 527.624
         },
         {
          "FLAG_CODES": null,
          "LOCATION": "PRT",
          "PC_GDP": 1.9909999999999999,
          "PC_HEALTHXP": 20.154,
          "TIME": 2009,
          "TOTAL_SPEND": 5575.26,
          "USD_CAP": 527.548
         },
         {
          "FLAG_CODES": null,
          "LOCATION": "PRT",
          "PC_GDP": 1.892,
          "PC_HEALTHXP": 19.269000000000002,
          "TIME": 2010,
          "TOTAL_SPEND": 5473.66,
          "USD_CAP": 517.697
         },
         {
          "FLAG_CODES": null,
          "LOCATION": "PRT",
          "PC_GDP": 1.751,
          "PC_HEALTHXP": 18.373,
          "TIME": 2011,
          "TOTAL_SPEND": 4951.01,
          "USD_CAP": 468.954
         },
         {
          "FLAG_CODES": null,
          "LOCATION": "PRT",
          "PC_GDP": 1.555,
          "PC_HEALTHXP": 16.637999999999998,
          "TIME": 2012,
          "TOTAL_SPEND": 4326.49,
          "USD_CAP": 411.465
         },
         {
          "FLAG_CODES": null,
          "LOCATION": "PRT",
          "PC_GDP": 1.419,
          "PC_HEALTHXP": 15.613,
          "TIME": 2013,
          "TOTAL_SPEND": 4140.33,
          "USD_CAP": 395.92699999999996
         },
         {
          "FLAG_CODES": null,
          "LOCATION": "PRT",
          "PC_GDP": 1.389,
          "PC_HEALTHXP": 15.398,
          "TIME": 2014,
          "TOTAL_SPEND": 4162.46,
          "USD_CAP": 400.19599999999997
         },
         {
          "FLAG_CODES": null,
          "LOCATION": "PRT",
          "PC_GDP": 1.391,
          "PC_HEALTHXP": 15.5,
          "TIME": 2015,
          "TOTAL_SPEND": 4276.61,
          "USD_CAP": 412.87699999999995
         },
         {
          "FLAG_CODES": null,
          "LOCATION": "SVK",
          "PC_GDP": 1.9280000000000002,
          "PC_HEALTHXP": 34.81,
          "TIME": 1999,
          "TOTAL_SPEND": 1113.44,
          "USD_CAP": 206.34400000000002
         },
         {
          "FLAG_CODES": null,
          "LOCATION": "SVK",
          "PC_GDP": 1.8430000000000002,
          "PC_HEALTHXP": 34.69,
          "TIME": 2000,
          "TOTAL_SPEND": 1126.96,
          "USD_CAP": 209.13400000000001
         },
         {
          "FLAG_CODES": null,
          "LOCATION": "SVK",
          "PC_GDP": 1.851,
          "PC_HEALTHXP": 34.657,
          "TIME": 2001,
          "TOTAL_SPEND": 1234.38,
          "USD_CAP": 229.487
         },
         {
          "FLAG_CODES": null,
          "LOCATION": "SVK",
          "PC_GDP": 2.072,
          "PC_HEALTHXP": 37.564,
          "TIME": 2002,
          "TOTAL_SPEND": 1481.37,
          "USD_CAP": 275.505
         },
         {
          "FLAG_CODES": null,
          "LOCATION": "SVK",
          "PC_GDP": 2.1959999999999997,
          "PC_HEALTHXP": 40.239000000000004,
          "TIME": 2003,
          "TOTAL_SPEND": 1668.7,
          "USD_CAP": 310.54900000000004
         },
         {
          "FLAG_CODES": null,
          "LOCATION": "SVK",
          "PC_GDP": 2.215,
          "PC_HEALTHXP": 34.185,
          "TIME": 2004,
          "TOTAL_SPEND": 1808.69,
          "USD_CAP": 336.67
         },
         {
          "FLAG_CODES": "B",
          "LOCATION": "SVK",
          "PC_GDP": 2.1959999999999997,
          "PC_HEALTHXP": 33.282,
          "TIME": 2005,
          "TOTAL_SPEND": 1960.44,
          "USD_CAP": 364.88199999999995
         },
         {
          "FLAG_CODES": null,
          "LOCATION": "SVK",
          "PC_GDP": 2.136,
          "PC_HEALTHXP": 31.128,
          "TIME": 2006,
          "TOTAL_SPEND": 2166.16,
          "USD_CAP": 403.152
         },
         {
          "FLAG_CODES": null,
          "LOCATION": "SVK",
          "PC_GDP": 2.112,
          "PC_HEALTHXP": 29.372,
          "TIME": 2007,
          "TOTAL_SPEND": 2401.34,
          "USD_CAP": 446.793
         },
         {
          "FLAG_CODES": null,
          "LOCATION": "SVK",
          "PC_GDP": 2.101,
          "PC_HEALTHXP": 30.159000000000002,
          "TIME": 2008,
          "TOTAL_SPEND": 2677.57,
          "USD_CAP": 497.76
         },
         {
          "FLAG_CODES": null,
          "LOCATION": "SVK",
          "PC_GDP": 2.342,
          "PC_HEALTHXP": 29.429000000000002,
          "TIME": 2009,
          "TOTAL_SPEND": 2911.43,
          "USD_CAP": 540.515
         },
         {
          "FLAG_CODES": null,
          "LOCATION": "SVK",
          "PC_GDP": 2.278,
          "PC_HEALTHXP": 29.198,
          "TIME": 2010,
          "TOTAL_SPEND": 3071.39,
          "USD_CAP": 569.68
         },
         {
          "FLAG_CODES": null,
          "LOCATION": "SVK",
          "PC_GDP": 2.131,
          "PC_HEALTHXP": 28.72,
          "TIME": 2011,
          "TOTAL_SPEND": 2971.38,
          "USD_CAP": 550.42
         },
         {
          "FLAG_CODES": null,
          "LOCATION": "SVK",
          "PC_GDP": 2.026,
          "PC_HEALTHXP": 26.544,
          "TIME": 2012,
          "TOTAL_SPEND": 2919.85,
          "USD_CAP": 539.956
         },
         {
          "FLAG_CODES": null,
          "LOCATION": "SVK",
          "PC_GDP": 1.9980000000000002,
          "PC_HEALTHXP": 26.535,
          "TIME": 2013,
          "TOTAL_SPEND": 3016.68,
          "USD_CAP": 557.263
         },
         {
          "FLAG_CODES": "B",
          "LOCATION": "SVK",
          "PC_GDP": 1.871,
          "PC_HEALTHXP": 27.029,
          "TIME": 2014,
          "TOTAL_SPEND": 2941.7,
          "USD_CAP": 542.885
         },
         {
          "FLAG_CODES": null,
          "LOCATION": "SVK",
          "PC_GDP": 1.85,
          "PC_HEALTHXP": 26.866,
          "TIME": 2015,
          "TOTAL_SPEND": 3000.82,
          "USD_CAP": 553.268
         },
         {
          "FLAG_CODES": null,
          "LOCATION": "ESP",
          "PC_GDP": 1.083,
          "PC_HEALTHXP": 21.807,
          "TIME": 1980,
          "TOTAL_SPEND": 2855.36,
          "USD_CAP": 76.161
         },
         {
          "FLAG_CODES": null,
          "LOCATION": "ESP",
          "PC_GDP": 1.0959999999999999,
          "PC_HEALTHXP": 21.468000000000004,
          "TIME": 1981,
          "TOTAL_SPEND": 3153.87,
          "USD_CAP": 83.527
         },
         {
          "FLAG_CODES": null,
          "LOCATION": "ESP",
          "PC_GDP": 1.153,
          "PC_HEALTHXP": 22.189,
          "TIME": 1982,
          "TOTAL_SPEND": 3568.29,
          "USD_CAP": 93.93700000000001
         },
         {
          "FLAG_CODES": null,
          "LOCATION": "ESP",
          "PC_GDP": 1.104,
          "PC_HEALTHXP": 20.64,
          "TIME": 1983,
          "TOTAL_SPEND": 3613.55,
          "USD_CAP": 94.666
         },
         {
          "FLAG_CODES": null,
          "LOCATION": "ESP",
          "PC_GDP": 0.993,
          "PC_HEALTHXP": 19.24,
          "TIME": 1984,
          "TOTAL_SPEND": 3425.7,
          "USD_CAP": 89.37299999999999
         },
         {
          "FLAG_CODES": null,
          "LOCATION": "ESP",
          "PC_GDP": 1.061,
          "PC_HEALTHXP": 21.034000000000002,
          "TIME": 1985,
          "TOTAL_SPEND": 3865.84,
          "USD_CAP": 100.491
         },
         {
          "FLAG_CODES": null,
          "LOCATION": "ESP",
          "PC_GDP": 0.983,
          "PC_HEALTHXP": 19.646,
          "TIME": 1986,
          "TOTAL_SPEND": 3773.85,
          "USD_CAP": 97.807
         },
         {
          "FLAG_CODES": null,
          "LOCATION": "ESP",
          "PC_GDP": 0.98,
          "PC_HEALTHXP": 19.317,
          "TIME": 1987,
          "TOTAL_SPEND": 4072.16,
          "USD_CAP": 105.265
         },
         {
          "FLAG_CODES": null,
          "LOCATION": "ESP",
          "PC_GDP": 1.0390000000000001,
          "PC_HEALTHXP": 18.402,
          "TIME": 1988,
          "TOTAL_SPEND": 4693.01,
          "USD_CAP": 121.057
         },
         {
          "FLAG_CODES": null,
          "LOCATION": "ESP",
          "PC_GDP": 1.084,
          "PC_HEALTHXP": 18.798,
          "TIME": 1989,
          "TOTAL_SPEND": 5335.44,
          "USD_CAP": 137.41299999999998
         },
         {
          "FLAG_CODES": null,
          "LOCATION": "ESP",
          "PC_GDP": 1.1320000000000001,
          "PC_HEALTHXP": 18.555999999999997,
          "TIME": 1990,
          "TOTAL_SPEND": 5996.02,
          "USD_CAP": 154.269
         },
         {
          "FLAG_CODES": null,
          "LOCATION": "ESP",
          "PC_GDP": 1.3940000000000001,
          "PC_HEALTHXP": 19.775,
          "TIME": 1995,
          "TOTAL_SPEND": 8973.42,
          "USD_CAP": 225.894
         },
         {
          "FLAG_CODES": null,
          "LOCATION": "ESP",
          "PC_GDP": 1.433,
          "PC_HEALTHXP": 20.275,
          "TIME": 1996,
          "TOTAL_SPEND": 9672.21,
          "USD_CAP": 242.47299999999998
         },
         {
          "FLAG_CODES": null,
          "LOCATION": "ESP",
          "PC_GDP": 1.482,
          "PC_HEALTHXP": 21.320999999999998,
          "TIME": 1997,
          "TOTAL_SPEND": 10602.87,
          "USD_CAP": 264.692
         },
         {
          "FLAG_CODES": null,
          "LOCATION": "ESP",
          "PC_GDP": 1.4980000000000002,
          "PC_HEALTHXP": 21.66,
          "TIME": 1998,
          "TOTAL_SPEND": 11455.9,
          "USD_CAP": 284.806
         },
         {
          "FLAG_CODES": "B",
          "LOCATION": "ESP",
          "PC_GDP": 1.5319999999999998,
          "PC_HEALTHXP": 22.123,
          "TIME": 1999,
          "TOTAL_SPEND": 12313.31,
          "USD_CAP": 304.884
         },
         {
          "FLAG_CODES": null,
          "LOCATION": "ESP",
          "PC_GDP": 1.4969999999999999,
          "PC_HEALTHXP": 21.958000000000002,
          "TIME": 2000,
          "TOTAL_SPEND": 13064.52,
          "USD_CAP": 322.041
         },
         {
          "FLAG_CODES": null,
          "LOCATION": "ESP",
          "PC_GDP": 1.489,
          "PC_HEALTHXP": 21.949,
          "TIME": 2001,
          "TOTAL_SPEND": 13966.18,
          "USD_CAP": 341.88599999999997
         },
         {
          "FLAG_CODES": null,
          "LOCATION": "ESP",
          "PC_GDP": 1.541,
          "PC_HEALTHXP": 22.65,
          "TIME": 2002,
          "TOTAL_SPEND": 15553.61,
          "USD_CAP": 375.405
         },
         {
          "FLAG_CODES": "B",
          "LOCATION": "ESP",
          "PC_GDP": 1.6480000000000001,
          "PC_HEALTHXP": 21.879,
          "TIME": 2003,
          "TOTAL_SPEND": 17414.13,
          "USD_CAP": 412.778
         },
         {
          "FLAG_CODES": null,
          "LOCATION": "ESP",
          "PC_GDP": 1.62,
          "PC_HEALTHXP": 21.26,
          "TIME": 2004,
          "TOTAL_SPEND": 18215.19,
          "USD_CAP": 424.38
         },
         {
          "FLAG_CODES": null,
          "LOCATION": "ESP",
          "PC_GDP": 1.585,
          "PC_HEALTHXP": 20.653000000000002,
          "TIME": 2005,
          "TOTAL_SPEND": 19172.73,
          "USD_CAP": 439.20599999999996
         },
         {
          "FLAG_CODES": null,
          "LOCATION": "ESP",
          "PC_GDP": 1.5230000000000001,
          "PC_HEALTHXP": 19.635,
          "TIME": 2006,
          "TOTAL_SPEND": 20845.03,
          "USD_CAP": 469.51099999999997
         },
         {
          "FLAG_CODES": null,
          "LOCATION": "ESP",
          "PC_GDP": 1.49,
          "PC_HEALTHXP": 19.01,
          "TIME": 2007,
          "TOTAL_SPEND": 21954.76,
          "USD_CAP": 485.43699999999995
         },
         {
          "FLAG_CODES": null,
          "LOCATION": "ESP",
          "PC_GDP": 1.5330000000000001,
          "PC_HEALTHXP": 18.494,
          "TIME": 2008,
          "TOTAL_SPEND": 23574.18,
          "USD_CAP": 512.994
         },
         {
          "FLAG_CODES": null,
          "LOCATION": "ESP",
          "PC_GDP": 1.641,
          "PC_HEALTHXP": 18.252,
          "TIME": 2009,
          "TOTAL_SPEND": 24663.09,
          "USD_CAP": 531.957
         },
         {
          "FLAG_CODES": null,
          "LOCATION": "ESP",
          "PC_GDP": 1.641,
          "PC_HEALTHXP": 18.192,
          "TIME": 2010,
          "TOTAL_SPEND": 24451.15,
          "USD_CAP": 524.9630000000001
         },
         {
          "FLAG_CODES": null,
          "LOCATION": "ESP",
          "PC_GDP": 1.617,
          "PC_HEALTHXP": 17.78,
          "TIME": 2011,
          "TOTAL_SPEND": 24229.92,
          "USD_CAP": 518.368
         },
         {
          "FLAG_CODES": null,
          "LOCATION": "ESP",
          "PC_GDP": 1.6019999999999999,
          "PC_HEALTHXP": 17.652,
          "TIME": 2012,
          "TOTAL_SPEND": 23961.7,
          "USD_CAP": 512.297
         },
         {
          "FLAG_CODES": null,
          "LOCATION": "ESP",
          "PC_GDP": 1.685,
          "PC_HEALTHXP": 18.679000000000002,
          "TIME": 2013,
          "TOTAL_SPEND": 25606.48,
          "USD_CAP": 549.259
         },
         {
          "FLAG_CODES": null,
          "LOCATION": "ESP",
          "PC_GDP": 1.6269999999999998,
          "PC_HEALTHXP": 17.909000000000002,
          "TIME": 2014,
          "TOTAL_SPEND": 25450.05,
          "USD_CAP": 547.538
         },
         {
          "FLAG_CODES": null,
          "LOCATION": "ESP",
          "PC_GDP": 1.649,
          "PC_HEALTHXP": 17.995,
          "TIME": 2015,
          "TOTAL_SPEND": 26579.83,
          "USD_CAP": 572.253
         },
         {
          "FLAG_CODES": null,
          "LOCATION": "SWE",
          "PC_GDP": 0.42200000000000004,
          "PC_HEALTHXP": 7.666,
          "TIME": 1970,
          "TOTAL_SPEND": 164.22,
          "USD_CAP": 20.418
         },
         {
          "FLAG_CODES": null,
          "LOCATION": "SWE",
          "PC_GDP": 0.462,
          "PC_HEALTHXP": 7.768,
          "TIME": 1971,
          "TOTAL_SPEND": 190.57,
          "USD_CAP": 23.531999999999996
         },
         {
          "FLAG_CODES": null,
          "LOCATION": "SWE",
          "PC_GDP": 0.513,
          "PC_HEALTHXP": 8.49,
          "TIME": 1972,
          "TOTAL_SPEND": 226.1,
          "USD_CAP": 27.837
         },
         {
          "FLAG_CODES": null,
          "LOCATION": "SWE",
          "PC_GDP": 0.561,
          "PC_HEALTHXP": 9.326,
          "TIME": 1973,
          "TOTAL_SPEND": 271.05,
          "USD_CAP": 33.314
         },
         {
          "FLAG_CODES": null,
          "LOCATION": "SWE",
          "PC_GDP": 0.563,
          "PC_HEALTHXP": 8.995,
          "TIME": 1974,
          "TOTAL_SPEND": 305.78,
          "USD_CAP": 37.473
         },
         {
          "FLAG_CODES": null,
          "LOCATION": "SWE",
          "PC_GDP": 0.56,
          "PC_HEALTHXP": 8.56,
          "TIME": 1975,
          "TOTAL_SPEND": 340.89,
          "USD_CAP": 41.61
         },
         {
          "FLAG_CODES": null,
          "LOCATION": "SWE",
          "PC_GDP": 0.555,
          "PC_HEALTHXP": 8.118,
          "TIME": 1976,
          "TOTAL_SPEND": 359.67,
          "USD_CAP": 43.743
         },
         {
          "FLAG_CODES": null,
          "LOCATION": "SWE",
          "PC_GDP": 0.584,
          "PC_HEALTHXP": 7.7010000000000005,
          "TIME": 1977,
          "TOTAL_SPEND": 396.1,
          "USD_CAP": 48.003
         },
         {
          "FLAG_CODES": null,
          "LOCATION": "SWE",
          "PC_GDP": 0.573,
          "PC_HEALTHXP": 7.507000000000001,
          "TIME": 1978,
          "TOTAL_SPEND": 423.13,
          "USD_CAP": 51.13
         },
         {
          "FLAG_CODES": null,
          "LOCATION": "SWE",
          "PC_GDP": 0.556,
          "PC_HEALTHXP": 7.381,
          "TIME": 1979,
          "TOTAL_SPEND": 460.95,
          "USD_CAP": 55.57899999999999
         },
         {
          "FLAG_CODES": null,
          "LOCATION": "SWE",
          "PC_GDP": 0.546,
          "PC_HEALTHXP": 6.974,
          "TIME": 1980,
          "TOTAL_SPEND": 502.77,
          "USD_CAP": 60.498000000000005
         },
         {
          "FLAG_CODES": null,
          "LOCATION": "SWE",
          "PC_GDP": 0.557,
          "PC_HEALTHXP": 7.019,
          "TIME": 1981,
          "TOTAL_SPEND": 563.15,
          "USD_CAP": 67.682
         },
         {
          "FLAG_CODES": null,
          "LOCATION": "SWE",
          "PC_GDP": 0.586,
          "PC_HEALTHXP": 7.297999999999999,
          "TIME": 1982,
          "TOTAL_SPEND": 636.47,
          "USD_CAP": 76.45100000000001
         },
         {
          "FLAG_CODES": null,
          "LOCATION": "SWE",
          "PC_GDP": 0.5870000000000001,
          "PC_HEALTHXP": 7.393,
          "TIME": 1983,
          "TOTAL_SPEND": 675.37,
          "USD_CAP": 81.086
         },
         {
          "FLAG_CODES": null,
          "LOCATION": "SWE",
          "PC_GDP": 0.5539999999999999,
          "PC_HEALTHXP": 7.157,
          "TIME": 1984,
          "TOTAL_SPEND": 688.64,
          "USD_CAP": 82.604
         },
         {
          "FLAG_CODES": null,
          "LOCATION": "SWE",
          "PC_GDP": 0.564,
          "PC_HEALTHXP": 7.671,
          "TIME": 1985,
          "TOTAL_SPEND": 738.65,
          "USD_CAP": 88.45700000000001
         },
         {
          "FLAG_CODES": null,
          "LOCATION": "SWE",
          "PC_GDP": 0.565,
          "PC_HEALTHXP": 7.933,
          "TIME": 1986,
          "TOTAL_SPEND": 775.07,
          "USD_CAP": 92.603
         },
         {
          "FLAG_CODES": null,
          "LOCATION": "SWE",
          "PC_GDP": 0.586,
          "PC_HEALTHXP": 8.142999999999999,
          "TIME": 1987,
          "TOTAL_SPEND": 852.57,
          "USD_CAP": 101.523
         },
         {
          "FLAG_CODES": null,
          "LOCATION": "SWE",
          "PC_GDP": 0.54,
          "PC_HEALTHXP": 7.585,
          "TIME": 1988,
          "TOTAL_SPEND": 833.19,
          "USD_CAP": 98.76
         },
         {
          "FLAG_CODES": null,
          "LOCATION": "SWE",
          "PC_GDP": 0.617,
          "PC_HEALTHXP": 8.6,
          "TIME": 1989,
          "TOTAL_SPEND": 1015.82,
          "USD_CAP": 119.60700000000001
         },
         {
          "FLAG_CODES": null,
          "LOCATION": "SWE",
          "PC_GDP": 0.626,
          "PC_HEALTHXP": 8.628,
          "TIME": 1990,
          "TOTAL_SPEND": 1076.83,
          "USD_CAP": 125.815
         },
         {
          "FLAG_CODES": null,
          "LOCATION": "SWE",
          "PC_GDP": 0.6629999999999999,
          "PC_HEALTHXP": 9.154,
          "TIME": 1991,
          "TOTAL_SPEND": 1164.91,
          "USD_CAP": 135.181
         },
         {
          "FLAG_CODES": null,
          "LOCATION": "SWE",
          "PC_GDP": 0.7609999999999999,
          "PC_HEALTHXP": 10.107999999999999,
          "TIME": 1992,
          "TOTAL_SPEND": 1351.49,
          "USD_CAP": 155.916
         },
         {
          "FLAG_CODES": "B",
          "LOCATION": "SWE",
          "PC_GDP": 0.871,
          "PC_HEALTHXP": 11.203,
          "TIME": 1993,
          "TOTAL_SPEND": 1550.51,
          "USD_CAP": 177.84
         },
         {
          "FLAG_CODES": null,
          "LOCATION": "SWE",
          "PC_GDP": 0.9109999999999999,
          "PC_HEALTHXP": 12.355,
          "TIME": 1994,
          "TOTAL_SPEND": 1725.35,
          "USD_CAP": 196.493
         },
         {
          "FLAG_CODES": null,
          "LOCATION": "SWE",
          "PC_GDP": 0.943,
          "PC_HEALTHXP": 12.929,
          "TIME": 1995,
          "TOTAL_SPEND": 1895.19,
          "USD_CAP": 214.705
         },
         {
          "FLAG_CODES": null,
          "LOCATION": "SWE",
          "PC_GDP": 1.068,
          "PC_HEALTHXP": 14.254000000000001,
          "TIME": 1996,
          "TOTAL_SPEND": 2229.94,
          "USD_CAP": 252.227
         },
         {
          "FLAG_CODES": null,
          "LOCATION": "SWE",
          "PC_GDP": 0.953,
          "PC_HEALTHXP": 13.027999999999999,
          "TIME": 1997,
          "TOTAL_SPEND": 2061.63,
          "USD_CAP": 233.05599999999998
         },
         {
          "FLAG_CODES": null,
          "LOCATION": "SWE",
          "PC_GDP": 1.058,
          "PC_HEALTHXP": 14.286,
          "TIME": 1998,
          "TOTAL_SPEND": 2384.74,
          "USD_CAP": 269.433
         },
         {
          "FLAG_CODES": null,
          "LOCATION": "SWE",
          "PC_GDP": 1.085,
          "PC_HEALTHXP": 14.635,
          "TIME": 1999,
          "TOTAL_SPEND": 2609.53,
          "USD_CAP": 294.6
         },
         {
          "FLAG_CODES": null,
          "LOCATION": "SWE",
          "PC_GDP": 1.0759999999999998,
          "PC_HEALTHXP": 14.511,
          "TIME": 2000,
          "TOTAL_SPEND": 2792.03,
          "USD_CAP": 314.697
         },
         {
          "FLAG_CODES": "B",
          "LOCATION": "SWE",
          "PC_GDP": 1.1740000000000002,
          "PC_HEALTHXP": 14.61,
          "TIME": 2001,
          "TOTAL_SPEND": 3101.48,
          "USD_CAP": 348.639
         },
         {
          "FLAG_CODES": null,
          "LOCATION": "SWE",
          "PC_GDP": 1.23,
          "PC_HEALTHXP": 14.706,
          "TIME": 2002,
          "TOTAL_SPEND": 3357.03,
          "USD_CAP": 376.14
         },
         {
          "FLAG_CODES": null,
          "LOCATION": "SWE",
          "PC_GDP": 1.203,
          "PC_HEALTHXP": 14.215,
          "TIME": 2003,
          "TOTAL_SPEND": 3391.89,
          "USD_CAP": 378.634
         },
         {
          "FLAG_CODES": null,
          "LOCATION": "SWE",
          "PC_GDP": 1.167,
          "PC_HEALTHXP": 14.128,
          "TIME": 2004,
          "TOTAL_SPEND": 3521.87,
          "USD_CAP": 391.6
         },
         {
          "FLAG_CODES": null,
          "LOCATION": "SWE",
          "PC_GDP": 1.1520000000000001,
          "PC_HEALTHXP": 13.922,
          "TIME": 2005,
          "TOTAL_SPEND": 3534.48,
          "USD_CAP": 391.434
         },
         {
          "FLAG_CODES": null,
          "LOCATION": "SWE",
          "PC_GDP": 1.139,
          "PC_HEALTHXP": 13.952,
          "TIME": 2006,
          "TOTAL_SPEND": 3871.02,
          "USD_CAP": 426.3
         },
         {
          "FLAG_CODES": null,
          "LOCATION": "SWE",
          "PC_GDP": 1.1059999999999999,
          "PC_HEALTHXP": 13.704,
          "TIME": 2007,
          "TOTAL_SPEND": 4105.92,
          "USD_CAP": 448.82800000000003
         },
         {
          "FLAG_CODES": null,
          "LOCATION": "SWE",
          "PC_GDP": 1.135,
          "PC_HEALTHXP": 13.65,
          "TIME": 2008,
          "TOTAL_SPEND": 4378.64,
          "USD_CAP": 474.925
         },
         {
          "FLAG_CODES": null,
          "LOCATION": "SWE",
          "PC_GDP": 1.205,
          "PC_HEALTHXP": 13.475,
          "TIME": 2009,
          "TOTAL_SPEND": 4448.59,
          "USD_CAP": 478.41900000000004
         },
         {
          "FLAG_CODES": null,
          "LOCATION": "SWE",
          "PC_GDP": 1.129,
          "PC_HEALTHXP": 13.300999999999998,
          "TIME": 2010,
          "TOTAL_SPEND": 4410.78,
          "USD_CAP": 470.32599999999996
         },
         {
          "FLAG_CODES": null,
          "LOCATION": "SWE",
          "PC_GDP": 1.094,
          "PC_HEALTHXP": 10.245,
          "TIME": 2011,
          "TOTAL_SPEND": 4523.39,
          "USD_CAP": 478.705
         },
         {
          "FLAG_CODES": null,
          "LOCATION": "SWE",
          "PC_GDP": 1.11,
          "PC_HEALTHXP": 10.149,
          "TIME": 2012,
          "TOTAL_SPEND": 4726.42,
          "USD_CAP": 496.505
         },
         {
          "FLAG_CODES": null,
          "LOCATION": "SWE",
          "PC_GDP": 1.093,
          "PC_HEALTHXP": 9.846,
          "TIME": 2013,
          "TOTAL_SPEND": 4792.45,
          "USD_CAP": 499.194
         },
         {
          "FLAG_CODES": null,
          "LOCATION": "SWE",
          "PC_GDP": 1.094,
          "PC_HEALTHXP": 9.816,
          "TIME": 2014,
          "TOTAL_SPEND": 4920.69,
          "USD_CAP": 507.491
         },
         {
          "FLAG_CODES": null,
          "LOCATION": "SWE",
          "PC_GDP": 1.085,
          "PC_HEALTHXP": 9.851,
          "TIME": 2015,
          "TOTAL_SPEND": 5083.62,
          "USD_CAP": 518.78
         },
         {
          "FLAG_CODES": null,
          "LOCATION": "CHE",
          "PC_GDP": 0.8079999999999999,
          "PC_HEALTHXP": 11.592,
          "TIME": 1985,
          "TOTAL_SPEND": 1107.9,
          "USD_CAP": 171.227
         },
         {
          "FLAG_CODES": null,
          "LOCATION": "CHE",
          "PC_GDP": 0.865,
          "PC_HEALTHXP": 12.105,
          "TIME": 1986,
          "TOTAL_SPEND": 1232.06,
          "USD_CAP": 189.428
         },
         {
          "FLAG_CODES": null,
          "LOCATION": "CHE",
          "PC_GDP": 0.76,
          "PC_HEALTHXP": 10.344000000000001,
          "TIME": 1987,
          "TOTAL_SPEND": 1128.13,
          "USD_CAP": 172.362
         },
         {
          "FLAG_CODES": null,
          "LOCATION": "CHE",
          "PC_GDP": 0.79,
          "PC_HEALTHXP": 10.682,
          "TIME": 1988,
          "TOTAL_SPEND": 1253.53,
          "USD_CAP": 190.12
         },
         {
          "FLAG_CODES": null,
          "LOCATION": "CHE",
          "PC_GDP": 0.7659999999999999,
          "PC_HEALTHXP": 10.325999999999999,
          "TIME": 1989,
          "TOTAL_SPEND": 1317.64,
          "USD_CAP": 198.234
         },
         {
          "FLAG_CODES": null,
          "LOCATION": "CHE",
          "PC_GDP": 0.777,
          "PC_HEALTHXP": 10.549000000000001,
          "TIME": 1990,
          "TOTAL_SPEND": 1435.43,
          "USD_CAP": 213.748
         },
         {
          "FLAG_CODES": null,
          "LOCATION": "CHE",
          "PC_GDP": 0.805,
          "PC_HEALTHXP": 10.106,
          "TIME": 1991,
          "TOTAL_SPEND": 1523.19,
          "USD_CAP": 223.99900000000002
         },
         {
          "FLAG_CODES": null,
          "LOCATION": "CHE",
          "PC_GDP": 0.8079999999999999,
          "PC_HEALTHXP": 9.692,
          "TIME": 1992,
          "TOTAL_SPEND": 1562.72,
          "USD_CAP": 227.292
         },
         {
          "FLAG_CODES": null,
          "LOCATION": "CHE",
          "PC_GDP": 0.843,
          "PC_HEALTHXP": 10.022,
          "TIME": 1993,
          "TOTAL_SPEND": 1667.39,
          "USD_CAP": 240.31799999999998
         },
         {
          "FLAG_CODES": null,
          "LOCATION": "CHE",
          "PC_GDP": 0.853,
          "PC_HEALTHXP": 10.055,
          "TIME": 1994,
          "TOTAL_SPEND": 1745.5,
          "USD_CAP": 249.578
         },
         {
          "FLAG_CODES": "B",
          "LOCATION": "CHE",
          "PC_GDP": 0.893,
          "PC_HEALTHXP": 10.097000000000001,
          "TIME": 1995,
          "TOTAL_SPEND": 1874.98,
          "USD_CAP": 266.307
         },
         {
          "FLAG_CODES": null,
          "LOCATION": "CHE",
          "PC_GDP": 0.935,
          "PC_HEALTHXP": 10.162,
          "TIME": 1996,
          "TOTAL_SPEND": 2015.84,
          "USD_CAP": 285.052
         },
         {
          "FLAG_CODES": null,
          "LOCATION": "CHE",
          "PC_GDP": 0.96,
          "PC_HEALTHXP": 10.453,
          "TIME": 1997,
          "TOTAL_SPEND": 2164.66,
          "USD_CAP": 305.35900000000004
         },
         {
          "FLAG_CODES": null,
          "LOCATION": "CHE",
          "PC_GDP": 0.9640000000000001,
          "PC_HEALTHXP": 10.352,
          "TIME": 1998,
          "TOTAL_SPEND": 2252.87,
          "USD_CAP": 316.86
         },
         {
          "FLAG_CODES": null,
          "LOCATION": "CHE",
          "PC_GDP": 1.003,
          "PC_HEALTHXP": 10.623,
          "TIME": 1999,
          "TOTAL_SPEND": 2422.12,
          "USD_CAP": 339.043
         },
         {
          "FLAG_CODES": null,
          "LOCATION": "CHE",
          "PC_GDP": 1.012,
          "PC_HEALTHXP": 10.835999999999999,
          "TIME": 2000,
          "TOTAL_SPEND": 2593.52,
          "USD_CAP": 361.001
         },
         {
          "FLAG_CODES": null,
          "LOCATION": "CHE",
          "PC_GDP": 1.041,
          "PC_HEALTHXP": 10.741,
          "TIME": 2001,
          "TOTAL_SPEND": 2774.32,
          "USD_CAP": 383.731
         },
         {
          "FLAG_CODES": null,
          "LOCATION": "CHE",
          "PC_GDP": 1.05,
          "PC_HEALTHXP": 10.395,
          "TIME": 2002,
          "TOTAL_SPEND": 2881.16,
          "USD_CAP": 395.506
         },
         {
          "FLAG_CODES": null,
          "LOCATION": "CHE",
          "PC_GDP": 1.103,
          "PC_HEALTHXP": 10.616,
          "TIME": 2003,
          "TOTAL_SPEND": 3045.48,
          "USD_CAP": 414.972
         },
         {
          "FLAG_CODES": null,
          "LOCATION": "CHE",
          "PC_GDP": 1.1,
          "PC_HEALTHXP": 10.549000000000001,
          "TIME": 2004,
          "TOTAL_SPEND": 3179.75,
          "USD_CAP": 430.29900000000004
         },
         {
          "FLAG_CODES": null,
          "LOCATION": "CHE",
          "PC_GDP": 1.089,
          "PC_HEALTHXP": 10.622,
          "TIME": 2005,
          "TOTAL_SPEND": 3277.65,
          "USD_CAP": 440.715
         },
         {
          "FLAG_CODES": null,
          "LOCATION": "CHE",
          "PC_GDP": 1.02,
          "PC_HEALTHXP": 10.399000000000001,
          "TIME": 2006,
          "TOTAL_SPEND": 3430.73,
          "USD_CAP": 458.412
         },
         {
          "FLAG_CODES": null,
          "LOCATION": "CHE",
          "PC_GDP": 0.993,
          "PC_HEALTHXP": 10.305,
          "TIME": 2007,
          "TOTAL_SPEND": 3708.66,
          "USD_CAP": 491.14099999999996
         },
         {
          "FLAG_CODES": null,
          "LOCATION": "CHE",
          "PC_GDP": 0.991,
          "PC_HEALTHXP": 10.137,
          "TIME": 2008,
          "TOTAL_SPEND": 3966.81,
          "USD_CAP": 518.695
         },
         {
          "FLAG_CODES": null,
          "LOCATION": "CHE",
          "PC_GDP": 1.053,
          "PC_HEALTHXP": 10.134,
          "TIME": 2009,
          "TOTAL_SPEND": 4208.93,
          "USD_CAP": 543.521
         },
         {
          "FLAG_CODES": "B",
          "LOCATION": "CHE",
          "PC_GDP": 1.558,
          "PC_HEALTHXP": 14.503,
          "TIME": 2010,
          "TOTAL_SPEND": 6452.98,
          "USD_CAP": 824.671
         },
         {
          "FLAG_CODES": null,
          "LOCATION": "CHE",
          "PC_GDP": 1.5619999999999998,
          "PC_HEALTHXP": 14.439,
          "TIME": 2011,
          "TOTAL_SPEND": 6909.27,
          "USD_CAP": 873.221
         },
         {
          "FLAG_CODES": null,
          "LOCATION": "CHE",
          "PC_GDP": 1.588,
          "PC_HEALTHXP": 14.307,
          "TIME": 2012,
          "TOTAL_SPEND": 7312.3,
          "USD_CAP": 914.3960000000001
         },
         {
          "FLAG_CODES": null,
          "LOCATION": "CHE",
          "PC_GDP": 1.6,
          "PC_HEALTHXP": 14.083,
          "TIME": 2013,
          "TOTAL_SPEND": 7739.2,
          "USD_CAP": 956.715
         },
         {
          "FLAG_CODES": null,
          "LOCATION": "CHE",
          "PC_GDP": 1.61,
          "PC_HEALTHXP": 13.895,
          "TIME": 2014,
          "TOTAL_SPEND": 8073.75,
          "USD_CAP": 985.9689999999999
         },
         {
          "FLAG_CODES": null,
          "LOCATION": "CHE",
          "PC_GDP": 1.69,
          "PC_HEALTHXP": 14.014000000000001,
          "TIME": 2015,
          "TOTAL_SPEND": 8746.65,
          "USD_CAP": 1056.053
         },
         {
          "FLAG_CODES": null,
          "LOCATION": "TUR",
          "PC_GDP": 0.276,
          "PC_HEALTHXP": 10.714,
          "TIME": 1981,
          "TOTAL_SPEND": 569.73,
          "USD_CAP": 12.664000000000001
         },
         {
          "FLAG_CODES": null,
          "LOCATION": "TUR",
          "PC_GDP": 0.27699999999999997,
          "PC_HEALTHXP": 12.902999999999999,
          "TIME": 1982,
          "TOTAL_SPEND": 626.45,
          "USD_CAP": 13.610999999999999
         },
         {
          "FLAG_CODES": null,
          "LOCATION": "TUR",
          "PC_GDP": 0.261,
          "PC_HEALTHXP": 11.905,
          "TIME": 1983,
          "TOTAL_SPEND": 647.82,
          "USD_CAP": 13.762
         },
         {
          "FLAG_CODES": null,
          "LOCATION": "TUR",
          "PC_GDP": 0.231,
          "PC_HEALTHXP": 10.937999999999999,
          "TIME": 1984,
          "TOTAL_SPEND": 630.2,
          "USD_CAP": 13.097999999999999
         },
         {
          "FLAG_CODES": null,
          "LOCATION": "TUR",
          "PC_GDP": 0.207,
          "PC_HEALTHXP": 13.889000000000001,
          "TIME": 1985,
          "TOTAL_SPEND": 604.45,
          "USD_CAP": 12.302
         },
         {
          "FLAG_CODES": null,
          "LOCATION": "TUR",
          "PC_GDP": 0.228,
          "PC_HEALTHXP": 12.402999999999999,
          "TIME": 1986,
          "TOTAL_SPEND": 724.61,
          "USD_CAP": 14.455
         },
         {
          "FLAG_CODES": null,
          "LOCATION": "TUR",
          "PC_GDP": 0.253,
          "PC_HEALTHXP": 13.333,
          "TIME": 1987,
          "TOTAL_SPEND": 902.8,
          "USD_CAP": 17.667
         },
         {
          "FLAG_CODES": null,
          "LOCATION": "TUR",
          "PC_GDP": 0.54,
          "PC_HEALTHXP": 22.021,
          "TIME": 1990,
          "TOTAL_SPEND": 2364.3,
          "USD_CAP": 43.847
         },
         {
          "FLAG_CODES": null,
          "LOCATION": "TUR",
          "PC_GDP": 0.83,
          "PC_HEALTHXP": 31.628,
          "TIME": 1994,
          "TOTAL_SPEND": 4336.59,
          "USD_CAP": 75.335
         },
         {
          "FLAG_CODES": "B",
          "LOCATION": "TUR",
          "PC_GDP": 1.2209999999999999,
          "PC_HEALTHXP": 27.339000000000002,
          "TIME": 1999,
          "TOTAL_SPEND": 6251.84,
          "USD_CAP": 100.37100000000001
         },
         {
          "FLAG_CODES": null,
          "LOCATION": "TUR",
          "PC_GDP": 1.285,
          "PC_HEALTHXP": 27.805999999999997,
          "TIME": 2000,
          "TOTAL_SPEND": 7479.54,
          "USD_CAP": 118.272
         },
         {
          "FLAG_CODES": null,
          "LOCATION": "GBR",
          "PC_GDP": 0.628,
          "PC_HEALTHXP": 15.819,
          "TIME": 1970,
          "TOTAL_SPEND": 1247.19,
          "USD_CAP": 22.406
         },
         {
          "FLAG_CODES": null,
          "LOCATION": "GBR",
          "PC_GDP": 0.642,
          "PC_HEALTHXP": 15.992,
          "TIME": 1971,
          "TOTAL_SPEND": 1387.12,
          "USD_CAP": 24.816
         },
         {
          "FLAG_CODES": null,
          "LOCATION": "GBR",
          "PC_GDP": 0.638,
          "PC_HEALTHXP": 15.6,
          "TIME": 1972,
          "TOTAL_SPEND": 1498.23,
          "USD_CAP": 26.713
         },
         {
          "FLAG_CODES": null,
          "LOCATION": "GBR",
          "PC_GDP": 0.603,
          "PC_HEALTHXP": 15.005,
          "TIME": 1973,
          "TOTAL_SPEND": 1591.32,
          "USD_CAP": 28.318
         },
         {
          "FLAG_CODES": null,
          "LOCATION": "GBR",
          "PC_GDP": 0.695,
          "PC_HEALTHXP": 14.959000000000001,
          "TIME": 1974,
          "TOTAL_SPEND": 1949.55,
          "USD_CAP": 34.671
         },
         {
          "FLAG_CODES": null,
          "LOCATION": "GBR",
          "PC_GDP": 0.627,
          "PC_HEALTHXP": 12.706,
          "TIME": 1975,
          "TOTAL_SPEND": 1892.28,
          "USD_CAP": 33.655
         },
         {
          "FLAG_CODES": null,
          "LOCATION": "GBR",
          "PC_GDP": 0.649,
          "PC_HEALTHXP": 13.110999999999999,
          "TIME": 1976,
          "TOTAL_SPEND": 2126.67,
          "USD_CAP": 37.833
         },
         {
          "FLAG_CODES": null,
          "LOCATION": "GBR",
          "PC_GDP": 0.662,
          "PC_HEALTHXP": 13.654000000000002,
          "TIME": 1977,
          "TOTAL_SPEND": 2360.01,
          "USD_CAP": 41.998000000000005
         },
         {
          "FLAG_CODES": null,
          "LOCATION": "GBR",
          "PC_GDP": 0.665,
          "PC_HEALTHXP": 13.849,
          "TIME": 1978,
          "TOTAL_SPEND": 2642.75,
          "USD_CAP": 47.027
         },
         {
          "FLAG_CODES": null,
          "LOCATION": "GBR",
          "PC_GDP": 0.6459999999999999,
          "PC_HEALTHXP": 13.627,
          "TIME": 1979,
          "TOTAL_SPEND": 2884.85,
          "USD_CAP": 51.288999999999994
         },
         {
          "FLAG_CODES": null,
          "LOCATION": "GBR",
          "PC_GDP": 0.685,
          "PC_HEALTHXP": 13.527999999999999,
          "TIME": 1980,
          "TOTAL_SPEND": 3266.68,
          "USD_CAP": 58.008
         },
         {
          "FLAG_CODES": null,
          "LOCATION": "GBR",
          "PC_GDP": 0.7070000000000001,
          "PC_HEALTHXP": 13.383,
          "TIME": 1981,
          "TOTAL_SPEND": 3659.22,
          "USD_CAP": 64.956
         },
         {
          "FLAG_CODES": null,
          "LOCATION": "GBR",
          "PC_GDP": 0.742,
          "PC_HEALTHXP": 14.488,
          "TIME": 1982,
          "TOTAL_SPEND": 4160.51,
          "USD_CAP": 73.881
         },
         {
          "FLAG_CODES": null,
          "LOCATION": "GBR",
          "PC_GDP": 0.76,
          "PC_HEALTHXP": 14.289000000000001,
          "TIME": 1983,
          "TOTAL_SPEND": 4617.89,
          "USD_CAP": 81.975
         },
         {
          "FLAG_CODES": null,
          "LOCATION": "GBR",
          "PC_GDP": 0.794,
          "PC_HEALTHXP": 15.155999999999999,
          "TIME": 1984,
          "TOTAL_SPEND": 5105.41,
          "USD_CAP": 90.486
         },
         {
          "FLAG_CODES": null,
          "LOCATION": "GBR",
          "PC_GDP": 0.7709999999999999,
          "PC_HEALTHXP": 15.008,
          "TIME": 1985,
          "TOTAL_SPEND": 5334.67,
          "USD_CAP": 94.335
         },
         {
          "FLAG_CODES": null,
          "LOCATION": "GBR",
          "PC_GDP": 0.772,
          "PC_HEALTHXP": 15.07,
          "TIME": 1986,
          "TOTAL_SPEND": 5620.7,
          "USD_CAP": 99.163
         },
         {
          "FLAG_CODES": null,
          "LOCATION": "GBR",
          "PC_GDP": 0.7490000000000001,
          "PC_HEALTHXP": 14.468,
          "TIME": 1987,
          "TOTAL_SPEND": 5890.88,
          "USD_CAP": 103.709
         },
         {
          "FLAG_CODES": null,
          "LOCATION": "GBR",
          "PC_GDP": 0.746,
          "PC_HEALTHXP": 14.664000000000001,
          "TIME": 1988,
          "TOTAL_SPEND": 6424.19,
          "USD_CAP": 112.84700000000001
         },
         {
          "FLAG_CODES": null,
          "LOCATION": "GBR",
          "PC_GDP": 0.7440000000000001,
          "PC_HEALTHXP": 14.777000000000001,
          "TIME": 1989,
          "TOTAL_SPEND": 6829.8,
          "USD_CAP": 119.66
         },
         {
          "FLAG_CODES": null,
          "LOCATION": "GBR",
          "PC_GDP": 0.737,
          "PC_HEALTHXP": 14.485,
          "TIME": 1990,
          "TOTAL_SPEND": 7064.81,
          "USD_CAP": 123.40799999999999
         },
         {
          "FLAG_CODES": null,
          "LOCATION": "GBR",
          "PC_GDP": 0.8059999999999999,
          "PC_HEALTHXP": 14.7,
          "TIME": 1991,
          "TOTAL_SPEND": 7895.12,
          "USD_CAP": 137.486
         },
         {
          "FLAG_CODES": null,
          "LOCATION": "GBR",
          "PC_GDP": 0.8959999999999999,
          "PC_HEALTHXP": 15.092,
          "TIME": 1992,
          "TOTAL_SPEND": 9000.97,
          "USD_CAP": 156.32
         },
         {
          "FLAG_CODES": null,
          "LOCATION": "GBR",
          "PC_GDP": 0.932,
          "PC_HEALTHXP": 15.52,
          "TIME": 1993,
          "TOTAL_SPEND": 9825.44,
          "USD_CAP": 170.23
         },
         {
          "FLAG_CODES": null,
          "LOCATION": "GBR",
          "PC_GDP": 0.9690000000000001,
          "PC_HEALTHXP": 15.948,
          "TIME": 1994,
          "TOTAL_SPEND": 10847.86,
          "USD_CAP": 187.46599999999998
         },
         {
          "FLAG_CODES": null,
          "LOCATION": "GBR",
          "PC_GDP": 0.9129999999999999,
          "PC_HEALTHXP": 16.125999999999998,
          "TIME": 1995,
          "TOTAL_SPEND": 10694.53,
          "USD_CAP": 184.328
         },
         {
          "FLAG_CODES": null,
          "LOCATION": "GBR",
          "PC_GDP": 0.935,
          "PC_HEALTHXP": 16.546,
          "TIME": 1996,
          "TOTAL_SPEND": 11700.4,
          "USD_CAP": 201.15200000000002
         },
         {
          "FLAG_CODES": "B",
          "LOCATION": "GBR",
          "PC_GDP": 0.935,
          "PC_HEALTHXP": 16.925,
          "TIME": 1997,
          "TOTAL_SPEND": 12375.21,
          "USD_CAP": 212.206
         },
         {
          "FLAG_CODES": "B",
          "LOCATION": "GBR",
          "PC_GDP": 1.2009999999999998,
          "PC_HEALTHXP": 12.185,
          "TIME": 2013,
          "TOTAL_SPEND": 30044.91,
          "USD_CAP": 468.51300000000003
         },
         {
          "FLAG_CODES": null,
          "LOCATION": "GBR",
          "PC_GDP": 1.181,
          "PC_HEALTHXP": 12.049000000000001,
          "TIME": 2014,
          "TOTAL_SPEND": 31056.25,
          "USD_CAP": 480.649
         },
         {
          "FLAG_CODES": null,
          "LOCATION": "GBR",
          "PC_GDP": 1.1909999999999998,
          "PC_HEALTHXP": 12.057,
          "TIME": 2015,
          "TOTAL_SPEND": 32394.7,
          "USD_CAP": 497.394
         },
         {
          "FLAG_CODES": null,
          "LOCATION": "USA",
          "PC_GDP": 1.421,
          "PC_HEALTHXP": 11.365,
          "TIME": 2000,
          "TOTAL_SPEND": 146190.88,
          "USD_CAP": 518.109
         },
         {
          "FLAG_CODES": null,
          "LOCATION": "USA",
          "PC_GDP": 1.545,
          "PC_HEALTHXP": 11.729000000000001,
          "TIME": 2001,
          "TOTAL_SPEND": 164134.99,
          "USD_CAP": 575.975
         },
         {
          "FLAG_CODES": null,
          "LOCATION": "USA",
          "PC_GDP": 1.686,
          "PC_HEALTHXP": 12.075,
          "TIME": 2002,
          "TOTAL_SPEND": 185043.96,
          "USD_CAP": 643.351
         },
         {
          "FLAG_CODES": null,
          "LOCATION": "USA",
          "PC_GDP": 1.7819999999999998,
          "PC_HEALTHXP": 12.327,
          "TIME": 2003,
          "TOTAL_SPEND": 205171.87,
          "USD_CAP": 707.2260000000001
         },
         {
          "FLAG_CODES": null,
          "LOCATION": "USA",
          "PC_GDP": 1.818,
          "PC_HEALTHXP": 12.505,
          "TIME": 2004,
          "TOTAL_SPEND": 223196.99,
          "USD_CAP": 762.2710000000001
         },
         {
          "FLAG_CODES": null,
          "LOCATION": "USA",
          "PC_GDP": 1.814,
          "PC_HEALTHXP": 12.470999999999998,
          "TIME": 2005,
          "TOTAL_SPEND": 237506.99,
          "USD_CAP": 803.701
         },
         {
          "FLAG_CODES": null,
          "LOCATION": "USA",
          "PC_GDP": 1.8659999999999999,
          "PC_HEALTHXP": 12.725,
          "TIME": 2006,
          "TOTAL_SPEND": 258487.11,
          "USD_CAP": 866.302
         },
         {
          "FLAG_CODES": null,
          "LOCATION": "USA",
          "PC_GDP": 1.8840000000000001,
          "PC_HEALTHXP": 12.640999999999998,
          "TIME": 2007,
          "TOTAL_SPEND": 272704.91,
          "USD_CAP": 905.301
         },
         {
          "FLAG_CODES": null,
          "LOCATION": "USA",
          "PC_GDP": 1.896,
          "PC_HEALTHXP": 12.399000000000001,
          "TIME": 2008,
          "TOTAL_SPEND": 279102,
          "USD_CAP": 917.815
         },
         {
          "FLAG_CODES": null,
          "LOCATION": "USA",
          "PC_GDP": 2.015,
          "PC_HEALTHXP": 12.331,
          "TIME": 2009,
          "TOTAL_SPEND": 290480.12,
          "USD_CAP": 946.8939999999999
         },
         {
          "FLAG_CODES": null,
          "LOCATION": "USA",
          "PC_GDP": 1.9569999999999999,
          "PC_HEALTHXP": 11.937999999999999,
          "TIME": 2010,
          "TOTAL_SPEND": 292909.12,
          "USD_CAP": 946.8589999999999
         },
         {
          "FLAG_CODES": null,
          "LOCATION": "USA",
          "PC_GDP": 1.939,
          "PC_HEALTHXP": 11.855,
          "TIME": 2011,
          "TOTAL_SPEND": 300935.91,
          "USD_CAP": 965.58
         },
         {
          "FLAG_CODES": null,
          "LOCATION": "USA",
          "PC_GDP": 1.874,
          "PC_HEALTHXP": 11.459000000000001,
          "TIME": 2012,
          "TOTAL_SPEND": 302768.85,
          "USD_CAP": 964.237
         },
         {
          "FLAG_CODES": null,
          "LOCATION": "USA",
          "PC_GDP": 1.858,
          "PC_HEALTHXP": 11.384,
          "TIME": 2013,
          "TOTAL_SPEND": 310154.01,
          "USD_CAP": 980.8639999999999
         },
         {
          "FLAG_CODES": null,
          "LOCATION": "USA",
          "PC_GDP": 1.9809999999999999,
          "PC_HEALTHXP": 11.968,
          "TIME": 2014,
          "TOTAL_SPEND": 344495.16,
          "USD_CAP": 1081.402
         },
         {
          "FLAG_CODES": null,
          "LOCATION": "USA",
          "PC_GDP": 2.068,
          "PC_HEALTHXP": 12.227,
          "TIME": 2015,
          "TOTAL_SPEND": 373009.91,
          "USD_CAP": 1162.399
         },
         {
          "FLAG_CODES": null,
          "LOCATION": "EST",
          "PC_GDP": 1.139,
          "PC_HEALTHXP": 19.973,
          "TIME": 1999,
          "TOTAL_SPEND": 132.53,
          "USD_CAP": 95.33200000000001
         },
         {
          "FLAG_CODES": null,
          "LOCATION": "EST",
          "PC_GDP": 1.177,
          "PC_HEALTHXP": 22.79,
          "TIME": 2000,
          "TOTAL_SPEND": 154.79,
          "USD_CAP": 110.803
         },
         {
          "FLAG_CODES": null,
          "LOCATION": "EST",
          "PC_GDP": 1.222,
          "PC_HEALTHXP": 25.52,
          "TIME": 2001,
          "TOTAL_SPEND": 175.15,
          "USD_CAP": 126.176
         },
         {
          "FLAG_CODES": null,
          "LOCATION": "EST",
          "PC_GDP": 1.285,
          "PC_HEALTHXP": 27.158,
          "TIME": 2002,
          "TOTAL_SPEND": 205.49,
          "USD_CAP": 148.975
         },
         {
          "FLAG_CODES": null,
          "LOCATION": "EST",
          "PC_GDP": 1.204,
          "PC_HEALTHXP": 24.654,
          "TIME": 2003,
          "TOTAL_SPEND": 215.69,
          "USD_CAP": 157.352
         },
         {
          "FLAG_CODES": "B",
          "LOCATION": "EST",
          "PC_GDP": 1.301,
          "PC_HEALTHXP": 25.539,
          "TIME": 2004,
          "TOTAL_SPEND": 255.73,
          "USD_CAP": 187.68200000000002
         },
         {
          "FLAG_CODES": null,
          "LOCATION": "EST",
          "PC_GDP": 1.1909999999999998,
          "PC_HEALTHXP": 24.026,
          "TIME": 2005,
          "TOTAL_SPEND": 266.42,
          "USD_CAP": 196.655
         },
         {
          "FLAG_CODES": null,
          "LOCATION": "EST",
          "PC_GDP": 1.169,
          "PC_HEALTHXP": 23.76,
          "TIME": 2006,
          "TOTAL_SPEND": 303.27,
          "USD_CAP": 225.173
         },
         {
          "FLAG_CODES": null,
          "LOCATION": "EST",
          "PC_GDP": 1.093,
          "PC_HEALTHXP": 21.745,
          "TIME": 2007,
          "TOTAL_SPEND": 321.85,
          "USD_CAP": 240.063
         },
         {
          "FLAG_CODES": null,
          "LOCATION": "EST",
          "PC_GDP": 1.081,
          "PC_HEALTHXP": 18.788,
          "TIME": 2008,
          "TOTAL_SPEND": 327.5,
          "USD_CAP": 244.933
         },
         {
          "FLAG_CODES": null,
          "LOCATION": "EST",
          "PC_GDP": 1.307,
          "PC_HEALTHXP": 19.983,
          "TIME": 2009,
          "TOTAL_SPEND": 358.1,
          "USD_CAP": 268.334
         },
         {
          "FLAG_CODES": null,
          "LOCATION": "EST",
          "PC_GDP": 1.296,
          "PC_HEALTHXP": 20.458,
          "TIME": 2010,
          "TOTAL_SPEND": 373.06,
          "USD_CAP": 280.186
         },
         {
          "FLAG_CODES": null,
          "LOCATION": "EST",
          "PC_GDP": 1.157,
          "PC_HEALTHXP": 19.87,
          "TIME": 2011,
          "TOTAL_SPEND": 376.94,
          "USD_CAP": 283.959
         },
         {
          "FLAG_CODES": null,
          "LOCATION": "EST",
          "PC_GDP": 1.1740000000000002,
          "PC_HEALTHXP": 20.15,
          "TIME": 2012,
          "TOTAL_SPEND": 404.17,
          "USD_CAP": 305.562
         },
         {
          "FLAG_CODES": null,
          "LOCATION": "EST",
          "PC_GDP": 1.1640000000000001,
          "PC_HEALTHXP": 19.327,
          "TIME": 2013,
          "TOTAL_SPEND": 420.9,
          "USD_CAP": 319.351
         },
         {
          "FLAG_CODES": null,
          "LOCATION": "EST",
          "PC_GDP": 1.162,
          "PC_HEALTHXP": 18.703,
          "TIME": 2014,
          "TOTAL_SPEND": 435.83,
          "USD_CAP": 331.543
         },
         {
          "FLAG_CODES": null,
          "LOCATION": "EST",
          "PC_GDP": 1.187,
          "PC_HEALTHXP": 18.22,
          "TIME": 2015,
          "TOTAL_SPEND": 451.82,
          "USD_CAP": 343.486
         },
         {
          "FLAG_CODES": null,
          "LOCATION": "SVN",
          "PC_GDP": 1.766,
          "PC_HEALTHXP": 22.090999999999998,
          "TIME": 2002,
          "TOTAL_SPEND": 715.38,
          "USD_CAP": 358.67
         },
         {
          "FLAG_CODES": null,
          "LOCATION": "SVN",
          "PC_GDP": 1.714,
          "PC_HEALTHXP": 21.213,
          "TIME": 2003,
          "TOTAL_SPEND": 723.02,
          "USD_CAP": 362.285
         },
         {
          "FLAG_CODES": null,
          "LOCATION": "SVN",
          "PC_GDP": 1.683,
          "PC_HEALTHXP": 21.234,
          "TIME": 2004,
          "TOTAL_SPEND": 766.13,
          "USD_CAP": 383.63800000000003
         },
         {
          "FLAG_CODES": null,
          "LOCATION": "SVN",
          "PC_GDP": 1.6969999999999998,
          "PC_HEALTHXP": 21.305,
          "TIME": 2005,
          "TOTAL_SPEND": 812.86,
          "USD_CAP": 406.336
         },
         {
          "FLAG_CODES": null,
          "LOCATION": "SVN",
          "PC_GDP": 1.65,
          "PC_HEALTHXP": 21.146,
          "TIME": 2006,
          "TOTAL_SPEND": 853.51,
          "USD_CAP": 425.293
         },
         {
          "FLAG_CODES": null,
          "LOCATION": "SVN",
          "PC_GDP": 1.505,
          "PC_HEALTHXP": 20.077,
          "TIME": 2007,
          "TOTAL_SPEND": 837.95,
          "USD_CAP": 415.215
         },
         {
          "FLAG_CODES": null,
          "LOCATION": "SVN",
          "PC_GDP": 1.4969999999999999,
          "PC_HEALTHXP": 19.07,
          "TIME": 2008,
          "TOTAL_SPEND": 896.32,
          "USD_CAP": 443.436
         },
         {
          "FLAG_CODES": null,
          "LOCATION": "SVN",
          "PC_GDP": 1.6909999999999998,
          "PC_HEALTHXP": 19.75,
          "TIME": 2009,
          "TOTAL_SPEND": 948.6,
          "USD_CAP": 465.075
         },
         {
          "FLAG_CODES": null,
          "LOCATION": "SVN",
          "PC_GDP": 1.699,
          "PC_HEALTHXP": 19.847,
          "TIME": 2010,
          "TOTAL_SPEND": 967.48,
          "USD_CAP": 472.26800000000003
         },
         {
          "FLAG_CODES": null,
          "LOCATION": "SVN",
          "PC_GDP": 1.6769999999999998,
          "PC_HEALTHXP": 19.633,
          "TIME": 2011,
          "TOTAL_SPEND": 991.46,
          "USD_CAP": 482.969
         },
         {
          "FLAG_CODES": null,
          "LOCATION": "SVN",
          "PC_GDP": 1.767,
          "PC_HEALTHXP": 20.247,
          "TIME": 2012,
          "TOTAL_SPEND": 1048.39,
          "USD_CAP": 509.63199999999995
         },
         {
          "FLAG_CODES": null,
          "LOCATION": "SVN",
          "PC_GDP": 1.7830000000000001,
          "PC_HEALTHXP": 20.358,
          "TIME": 2013,
          "TOTAL_SPEND": 1084.48,
          "USD_CAP": 526.46
         },
         {
          "FLAG_CODES": null,
          "LOCATION": "SVN",
          "PC_GDP": 1.589,
          "PC_HEALTHXP": 18.605999999999998,
          "TIME": 2014,
          "TOTAL_SPEND": 1015.68,
          "USD_CAP": 492.577
         },
         {
          "FLAG_CODES": null,
          "LOCATION": "SVN",
          "PC_GDP": 1.5659999999999998,
          "PC_HEALTHXP": 18.33,
          "TIME": 2015,
          "TOTAL_SPEND": 1032.94,
          "USD_CAP": 500.56699999999995
         },
         {
          "FLAG_CODES": "B",
          "LOCATION": "ISR",
          "PC_GDP": 0.9229999999999999,
          "PC_HEALTHXP": 13.293,
          "TIME": 2006,
          "TOTAL_SPEND": 1670.55,
          "USD_CAP": 236.833
         },
         {
          "FLAG_CODES": null,
          "LOCATION": "ISR",
          "PC_GDP": 0.938,
          "PC_HEALTHXP": 13.57,
          "TIME": 2007,
          "TOTAL_SPEND": 1851.75,
          "USD_CAP": 257.901
         },
         {
          "FLAG_CODES": null,
          "LOCATION": "ISR",
          "PC_GDP": 0.937,
          "PC_HEALTHXP": 13.389000000000001,
          "TIME": 2008,
          "TOTAL_SPEND": 1877.07,
          "USD_CAP": 256.823
         },
         {
          "FLAG_CODES": null,
          "LOCATION": "ISR",
          "PC_GDP": 0.991,
          "PC_HEALTHXP": 13.974,
          "TIME": 2009,
          "TOTAL_SPEND": 2038.46,
          "USD_CAP": 272.317
         },
         {
          "FLAG_CODES": null,
          "LOCATION": "ISR",
          "PC_GDP": 0.9570000000000001,
          "PC_HEALTHXP": 13.577,
          "TIME": 2010,
          "TOTAL_SPEND": 2104.98,
          "USD_CAP": 276.113
         },
         {
          "FLAG_CODES": null,
          "LOCATION": "ISR",
          "PC_GDP": 0.938,
          "PC_HEALTHXP": 13.388,
          "TIME": 2011,
          "TOTAL_SPEND": 2223.7,
          "USD_CAP": 286.345
         },
         {
          "FLAG_CODES": null,
          "LOCATION": "ISR",
          "PC_GDP": 0.941,
          "PC_HEALTHXP": 13.213,
          "TIME": 2012,
          "TOTAL_SPEND": 2363.63,
          "USD_CAP": 298.796
         },
         {
          "FLAG_CODES": null,
          "LOCATION": "ISR",
          "PC_GDP": 0.915,
          "PC_HEALTHXP": 12.924000000000001,
          "TIME": 2013,
          "TOTAL_SPEND": 2524.26,
          "USD_CAP": 313.203
         },
         {
          "FLAG_CODES": null,
          "LOCATION": "LVA",
          "PC_GDP": 1.475,
          "PC_HEALTHXP": 23.68,
          "TIME": 2004,
          "TOTAL_SPEND": 408.03,
          "USD_CAP": 180.294
         },
         {
          "FLAG_CODES": null,
          "LOCATION": "LVA",
          "PC_GDP": 1.321,
          "PC_HEALTHXP": 22.548000000000002,
          "TIME": 2005,
          "TOTAL_SPEND": 409.66,
          "USD_CAP": 182.984
         },
         {
          "FLAG_CODES": null,
          "LOCATION": "LVA",
          "PC_GDP": 1.33,
          "PC_HEALTHXP": 23.176,
          "TIME": 2006,
          "TOTAL_SPEND": 464.91,
          "USD_CAP": 209.574
         },
         {
          "FLAG_CODES": null,
          "LOCATION": "LVA",
          "PC_GDP": 1.53,
          "PC_HEALTHXP": 26.523000000000003,
          "TIME": 2007,
          "TOTAL_SPEND": 610.06,
          "USD_CAP": 277.258
         },
         {
          "FLAG_CODES": null,
          "LOCATION": "LVA",
          "PC_GDP": 1.209,
          "PC_HEALTHXP": 21.484,
          "TIME": 2008,
          "TOTAL_SPEND": 511.34,
          "USD_CAP": 234.84799999999998
         },
         {
          "FLAG_CODES": null,
          "LOCATION": "LVA",
          "PC_GDP": 1.499,
          "PC_HEALTHXP": 24.354,
          "TIME": 2009,
          "TOTAL_SPEND": 542.08,
          "USD_CAP": 253.112
         },
         {
          "FLAG_CODES": null,
          "LOCATION": "LVA",
          "PC_GDP": 1.5859999999999999,
          "PC_HEALTHXP": 25.794,
          "TIME": 2010,
          "TOTAL_SPEND": 585.24,
          "USD_CAP": 279.009
         },
         {
          "FLAG_CODES": null,
          "LOCATION": "LVA",
          "PC_GDP": 1.454,
          "PC_HEALTHXP": 26.092,
          "TIME": 2011,
          "TOTAL_SPEND": 592.12,
          "USD_CAP": 287.478
         },
         {
          "FLAG_CODES": null,
          "LOCATION": "LVA",
          "PC_GDP": 1.383,
          "PC_HEALTHXP": 25.519000000000002,
          "TIME": 2012,
          "TOTAL_SPEND": 598.01,
          "USD_CAP": 293.962
         },
         {
          "FLAG_CODES": "B",
          "LOCATION": "LVA",
          "PC_GDP": 1.419,
          "PC_HEALTHXP": 26.284000000000002,
          "TIME": 2013,
          "TOTAL_SPEND": 647.77,
          "USD_CAP": 321.85
         },
         {
          "FLAG_CODES": null,
          "LOCATION": "LVA",
          "PC_GDP": 1.473,
          "PC_HEALTHXP": 26.845,
          "TIME": 2014,
          "TOTAL_SPEND": 701.59,
          "USD_CAP": 351.889
         },
         {
          "FLAG_CODES": null,
          "LOCATION": "LVA",
          "PC_GDP": 1.5419999999999998,
          "PC_HEALTHXP": 26.761,
          "TIME": 2015,
          "TOTAL_SPEND": 759.08,
          "USD_CAP": 383.852
         },
         {
          "FLAG_CODES": null,
          "LOCATION": "LTU",
          "PC_GDP": 1.867,
          "PC_HEALTHXP": 33.914,
          "TIME": 2004,
          "TOTAL_SPEND": 822.35,
          "USD_CAP": 243.511
         },
         {
          "FLAG_CODES": null,
          "LOCATION": "LTU",
          "PC_GDP": 1.9369999999999998,
          "PC_HEALTHXP": 34.341,
          "TIME": 2005,
          "TOTAL_SPEND": 935.09,
          "USD_CAP": 281.439
         },
         {
          "FLAG_CODES": null,
          "LOCATION": "LTU",
          "PC_GDP": 1.8090000000000002,
          "PC_HEALTHXP": 30.993000000000002,
          "TIME": 2006,
          "TOTAL_SPEND": 975.86,
          "USD_CAP": 298.436
         },
         {
          "FLAG_CODES": null,
          "LOCATION": "LTU",
          "PC_GDP": 1.639,
          "PC_HEALTHXP": 28.47,
          "TIME": 2007,
          "TOTAL_SPEND": 1011.18,
          "USD_CAP": 312.933
         },
         {
          "FLAG_CODES": null,
          "LOCATION": "LTU",
          "PC_GDP": 1.643,
          "PC_HEALTHXP": 26.125999999999998,
          "TIME": 2008,
          "TOTAL_SPEND": 1089.82,
          "USD_CAP": 340.75800000000004
         },
         {
          "FLAG_CODES": null,
          "LOCATION": "LTU",
          "PC_GDP": 1.9609999999999999,
          "PC_HEALTHXP": 26.660999999999998,
          "TIME": 2009,
          "TOTAL_SPEND": 1126.71,
          "USD_CAP": 356.225
         },
         {
          "FLAG_CODES": null,
          "LOCATION": "LTU",
          "PC_GDP": 1.821,
          "PC_HEALTHXP": 26.715999999999998,
          "TIME": 2010,
          "TOTAL_SPEND": 1135.35,
          "USD_CAP": 366.56300000000005
         },
         {
          "FLAG_CODES": null,
          "LOCATION": "LTU",
          "PC_GDP": 1.692,
          "PC_HEALTHXP": 26.038,
          "TIME": 2011,
          "TOTAL_SPEND": 1170.64,
          "USD_CAP": 386.589
         },
         {
          "FLAG_CODES": null,
          "LOCATION": "LTU",
          "PC_GDP": 1.82,
          "PC_HEALTHXP": 28.941999999999997,
          "TIME": 2012,
          "TOTAL_SPEND": 1340.7,
          "USD_CAP": 448.728
         },
         {
          "FLAG_CODES": null,
          "LOCATION": "LTU",
          "PC_GDP": 1.7280000000000002,
          "PC_HEALTHXP": 28.173000000000002,
          "TIME": 2013,
          "TOTAL_SPEND": 1364.02,
          "USD_CAP": 461.17800000000005
         },
         {
          "FLAG_CODES": null,
          "LOCATION": "LTU",
          "PC_GDP": 1.724,
          "PC_HEALTHXP": 27.836,
          "TIME": 2014,
          "TOTAL_SPEND": 1422.92,
          "USD_CAP": 485.245
         },
         {
          "FLAG_CODES": null,
          "LOCATION": "LTU",
          "PC_GDP": 1.745,
          "PC_HEALTHXP": 26.784000000000002,
          "TIME": 2015,
          "TOTAL_SPEND": 1465.3,
          "USD_CAP": 504.42199999999997
         },
         {
          "FLAG_CODES": null,
          "LOCATION": "RUS",
          "PC_GDP": 1.286,
          "PC_HEALTHXP": 22.939,
          "TIME": 2015,
          "TOTAL_SPEND": 44655.62,
          "USD_CAP": 309.9
         }
        ]
       },
       "encoding": {
        "x": {
         "field": "PC_HEALTHXP",
         "type": "quantitative"
        },
        "y": {
         "field": "TOTAL_SPEND",
         "type": "quantitative"
        }
       },
       "mark": "point"
      },
      "image/png": "[encoded data removed]",
      "text/plain": [
       "<VegaLite 2 object>\n",
       "\n",
       "If you see this message, it means the renderer has not been properly enabled\n",
       "for the frontend that you are using. For more information, see\n",
       "https://altair-viz.github.io/user_guide/troubleshooting.html\n"
      ]
     },
     "execution_count": 12,
     "metadata": {},
     "output_type": "execute_result"
    }
   ],
   "source": [
    "altair.Chart(csvfile).mark_point().encode(\n",
    "    x='PC_HEALTHXP',\n",
    "    y='TOTAL_SPEND'\n",
    ")"
   ]
  },
  {
   "cell_type": "code",
   "execution_count": 13,
   "metadata": {},
   "outputs": [
    {
     "data": {
      "text/plain": [
       "'2.0.0rc2'"
      ]
     },
     "execution_count": 13,
     "metadata": {},
     "output_type": "execute_result"
    }
   ],
   "source": [
    "altair.__version__\n"
   ]
  }
 ],
 "metadata": {
  "kernelspec": {
   "display_name": "Python 3",
   "language": "python",
   "name": "python3"
  },
  "language_info": {
   "codemirror_mode": {
    "name": "ipython",
    "version": 3
   },
   "file_extension": ".py",
   "mimetype": "text/x-python",
   "name": "python",
   "nbconvert_exporter": "python",
   "pygments_lexer": "ipython3",
   "version": "3.6.4"
  }
 },
 "nbformat": 4,
 "nbformat_minor": 2
}
